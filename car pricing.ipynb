{
 "cells": [
  {
   "cell_type": "markdown",
   "metadata": {},
   "source": [
    "# Определение стоимости автомобилей"
   ]
  },
  {
   "cell_type": "markdown",
   "metadata": {},
   "source": [
    "Сервис по продаже автомобилей с пробегом «Не бит, не крашен» разрабатывает приложение для привлечения новых клиентов. В нём можно быстро узнать рыночную стоимость своего автомобиля. В вашем распоряжении исторические данные: технические характеристики, комплектации и цены автомобилей. Вам нужно построить модель для определения стоимости. \n",
    "\n",
    "Заказчику важны:\n",
    "\n",
    "- качество предсказания;\n",
    "- скорость предсказания;\n",
    "- время обучения."
   ]
  },
  {
   "cell_type": "markdown",
   "metadata": {},
   "source": [
    "### Признаки\n",
    "**DateCrawled** — дата скачивания анкеты из базы \\\n",
    "**VehicleType** — тип автомобильного кузова\\\n",
    "**RegistrationYear** — год регистрации автомобиля\\\n",
    "**Gearbox** — тип коробки передач\\\n",
    "**Power** — мощность (л. с.)\\\n",
    "**Model** — модель автомобиля\\\n",
    "**Kilometer** — пробег (км)\\\n",
    "**RegistrationMonth** — месяц регистрации автомобиля\\\n",
    "**FuelType** — тип топлива\\\n",
    "**Brand** — марка автомобиля\\\n",
    "**NotRepaired** — была машина в ремонте или нет\\\n",
    "**DateCreated** — дата создания анкеты\\\n",
    "**NumberOfPictures** — количество фотографий автомобиля\\\n",
    "**PostalCode** — почтовый индекс владельца анкеты (пользователя)\\\n",
    "**LastSeen** — дата последней активности пользователя\\\n",
    "\n",
    "### Целевой признак\n",
    "**Price** — цена (евро)\n",
    "\n",
    "Для оценки качества моделей необходимо использовать метрику RMSE.\n",
    "\n",
    "<font color='green'> Значение метрики RMSE должно быть меньше 2500. </font> "
   ]
  },
  {
   "cell_type": "markdown",
   "metadata": {},
   "source": [
    "## Подготовка данных"
   ]
  },
  {
   "cell_type": "code",
   "execution_count": 2,
   "metadata": {},
   "outputs": [],
   "source": [
    "# скачаем требуемые в работе модули\n",
    "\n",
    "import matplotlib.pyplot as plt\n",
    "import numpy as np\n",
    "import pandas as pd\n",
    "import seaborn as sns\n",
    "\n",
    "from sklearn.model_selection import train_test_split\n",
    "from sklearn.preprocessing import StandardScaler\n",
    "from sklearn.preprocessing import PolynomialFeatures\n",
    "from sklearn.preprocessing import OrdinalEncoder\n",
    "\n",
    "from sklearn.metrics import mean_squared_error\n",
    "from sklearn.linear_model import LinearRegression\n",
    "from sklearn.linear_model import Ridge\n",
    "from sklearn.tree import DecisionTreeRegressor\n",
    "from sklearn.ensemble import ExtraTreesRegressor\n",
    "from catboost import Pool, CatBoostRegressor, cv\n",
    "from lightgbm import LGBMRegressor\n",
    "from sklearn.model_selection import cross_val_score\n",
    "from sklearn.model_selection import GridSearchCV\n",
    "from sklearn.pipeline import Pipeline\n",
    "import xgboost as xgb\n",
    "\n",
    "import phik\n",
    "from phik.report import plot_correlation_matrix\n",
    "from phik import report\n",
    "\n",
    "import time\n",
    "import warnings\n",
    "warnings.filterwarnings('ignore')\n"
   ]
  },
  {
   "cell_type": "code",
   "execution_count": 3,
   "metadata": {},
   "outputs": [],
   "source": [
    "#Назначим константу для random_state\n",
    "RANDOM_STATE = 0"
   ]
  },
  {
   "cell_type": "code",
   "execution_count": 4,
   "metadata": {},
   "outputs": [],
   "source": [
    "# Создадим датафреймы:\n",
    "try:\n",
    "    data = pd.read_csv('autos.csv.')\n",
    "except:\n",
    "    data = pd.read_csv('/datasets/autos.csv') # если работа ведется в Яндекс Практикум\n"
   ]
  },
  {
   "cell_type": "code",
   "execution_count": 5,
   "metadata": {},
   "outputs": [
    {
     "name": "stdout",
     "output_type": "stream",
     "text": [
      "Общая информация\n",
      "\n",
      "<class 'pandas.core.frame.DataFrame'>\n",
      "RangeIndex: 354369 entries, 0 to 354368\n",
      "Data columns (total 16 columns):\n",
      " #   Column             Non-Null Count   Dtype \n",
      "---  ------             --------------   ----- \n",
      " 0   DateCrawled        354369 non-null  object\n",
      " 1   Price              354369 non-null  int64 \n",
      " 2   VehicleType        316879 non-null  object\n",
      " 3   RegistrationYear   354369 non-null  int64 \n",
      " 4   Gearbox            334536 non-null  object\n",
      " 5   Power              354369 non-null  int64 \n",
      " 6   Model              334664 non-null  object\n",
      " 7   Kilometer          354369 non-null  int64 \n",
      " 8   RegistrationMonth  354369 non-null  int64 \n",
      " 9   FuelType           321474 non-null  object\n",
      " 10  Brand              354369 non-null  object\n",
      " 11  Repaired           283215 non-null  object\n",
      " 12  DateCreated        354369 non-null  object\n",
      " 13  NumberOfPictures   354369 non-null  int64 \n",
      " 14  PostalCode         354369 non-null  int64 \n",
      " 15  LastSeen           354369 non-null  object\n",
      "dtypes: int64(7), object(9)\n",
      "memory usage: 43.3+ MB\n"
     ]
    },
    {
     "data": {
      "text/plain": [
       "None"
      ]
     },
     "metadata": {},
     "output_type": "display_data"
    },
    {
     "name": "stdout",
     "output_type": "stream",
     "text": [
      "Первые строки датасета\n",
      "\n"
     ]
    },
    {
     "data": {
      "text/html": [
       "<div>\n",
       "<style scoped>\n",
       "    .dataframe tbody tr th:only-of-type {\n",
       "        vertical-align: middle;\n",
       "    }\n",
       "\n",
       "    .dataframe tbody tr th {\n",
       "        vertical-align: top;\n",
       "    }\n",
       "\n",
       "    .dataframe thead th {\n",
       "        text-align: right;\n",
       "    }\n",
       "</style>\n",
       "<table border=\"1\" class=\"dataframe\">\n",
       "  <thead>\n",
       "    <tr style=\"text-align: right;\">\n",
       "      <th></th>\n",
       "      <th>DateCrawled</th>\n",
       "      <th>Price</th>\n",
       "      <th>VehicleType</th>\n",
       "      <th>RegistrationYear</th>\n",
       "      <th>Gearbox</th>\n",
       "      <th>Power</th>\n",
       "      <th>Model</th>\n",
       "      <th>Kilometer</th>\n",
       "      <th>RegistrationMonth</th>\n",
       "      <th>FuelType</th>\n",
       "      <th>Brand</th>\n",
       "      <th>Repaired</th>\n",
       "      <th>DateCreated</th>\n",
       "      <th>NumberOfPictures</th>\n",
       "      <th>PostalCode</th>\n",
       "      <th>LastSeen</th>\n",
       "    </tr>\n",
       "  </thead>\n",
       "  <tbody>\n",
       "    <tr>\n",
       "      <th>0</th>\n",
       "      <td>24-03-16 11:52</td>\n",
       "      <td>480</td>\n",
       "      <td>NaN</td>\n",
       "      <td>1993</td>\n",
       "      <td>manual</td>\n",
       "      <td>0</td>\n",
       "      <td>golf</td>\n",
       "      <td>150000</td>\n",
       "      <td>0</td>\n",
       "      <td>petrol</td>\n",
       "      <td>volkswagen</td>\n",
       "      <td>NaN</td>\n",
       "      <td>24-03-16 00:00</td>\n",
       "      <td>0</td>\n",
       "      <td>70435</td>\n",
       "      <td>07-04-16 03:16</td>\n",
       "    </tr>\n",
       "    <tr>\n",
       "      <th>1</th>\n",
       "      <td>24-03-16 10:58</td>\n",
       "      <td>18300</td>\n",
       "      <td>coupe</td>\n",
       "      <td>2011</td>\n",
       "      <td>manual</td>\n",
       "      <td>190</td>\n",
       "      <td>NaN</td>\n",
       "      <td>125000</td>\n",
       "      <td>5</td>\n",
       "      <td>gasoline</td>\n",
       "      <td>audi</td>\n",
       "      <td>yes</td>\n",
       "      <td>24-03-16 00:00</td>\n",
       "      <td>0</td>\n",
       "      <td>66954</td>\n",
       "      <td>07-04-16 01:46</td>\n",
       "    </tr>\n",
       "    <tr>\n",
       "      <th>2</th>\n",
       "      <td>14-03-16 12:52</td>\n",
       "      <td>9800</td>\n",
       "      <td>suv</td>\n",
       "      <td>2004</td>\n",
       "      <td>auto</td>\n",
       "      <td>163</td>\n",
       "      <td>grand</td>\n",
       "      <td>125000</td>\n",
       "      <td>8</td>\n",
       "      <td>gasoline</td>\n",
       "      <td>jeep</td>\n",
       "      <td>NaN</td>\n",
       "      <td>14-03-16 00:00</td>\n",
       "      <td>0</td>\n",
       "      <td>90480</td>\n",
       "      <td>05-04-16 12:47</td>\n",
       "    </tr>\n",
       "    <tr>\n",
       "      <th>3</th>\n",
       "      <td>17-03-16 16:54</td>\n",
       "      <td>1500</td>\n",
       "      <td>small</td>\n",
       "      <td>2001</td>\n",
       "      <td>manual</td>\n",
       "      <td>75</td>\n",
       "      <td>golf</td>\n",
       "      <td>150000</td>\n",
       "      <td>6</td>\n",
       "      <td>petrol</td>\n",
       "      <td>volkswagen</td>\n",
       "      <td>no</td>\n",
       "      <td>17-03-16 00:00</td>\n",
       "      <td>0</td>\n",
       "      <td>91074</td>\n",
       "      <td>17-03-16 17:40</td>\n",
       "    </tr>\n",
       "    <tr>\n",
       "      <th>4</th>\n",
       "      <td>31-03-16 17:25</td>\n",
       "      <td>3600</td>\n",
       "      <td>small</td>\n",
       "      <td>2008</td>\n",
       "      <td>manual</td>\n",
       "      <td>69</td>\n",
       "      <td>fabia</td>\n",
       "      <td>90000</td>\n",
       "      <td>7</td>\n",
       "      <td>gasoline</td>\n",
       "      <td>skoda</td>\n",
       "      <td>no</td>\n",
       "      <td>31-03-16 00:00</td>\n",
       "      <td>0</td>\n",
       "      <td>60437</td>\n",
       "      <td>06-04-16 10:17</td>\n",
       "    </tr>\n",
       "  </tbody>\n",
       "</table>\n",
       "</div>"
      ],
      "text/plain": [
       "      DateCrawled  Price VehicleType  RegistrationYear Gearbox  Power  Model  \\\n",
       "0  24-03-16 11:52    480         NaN              1993  manual      0   golf   \n",
       "1  24-03-16 10:58  18300       coupe              2011  manual    190    NaN   \n",
       "2  14-03-16 12:52   9800         suv              2004    auto    163  grand   \n",
       "3  17-03-16 16:54   1500       small              2001  manual     75   golf   \n",
       "4  31-03-16 17:25   3600       small              2008  manual     69  fabia   \n",
       "\n",
       "   Kilometer  RegistrationMonth  FuelType       Brand Repaired  \\\n",
       "0     150000                  0    petrol  volkswagen      NaN   \n",
       "1     125000                  5  gasoline        audi      yes   \n",
       "2     125000                  8  gasoline        jeep      NaN   \n",
       "3     150000                  6    petrol  volkswagen       no   \n",
       "4      90000                  7  gasoline       skoda       no   \n",
       "\n",
       "      DateCreated  NumberOfPictures  PostalCode        LastSeen  \n",
       "0  24-03-16 00:00                 0       70435  07-04-16 03:16  \n",
       "1  24-03-16 00:00                 0       66954  07-04-16 01:46  \n",
       "2  14-03-16 00:00                 0       90480  05-04-16 12:47  \n",
       "3  17-03-16 00:00                 0       91074  17-03-16 17:40  \n",
       "4  31-03-16 00:00                 0       60437  06-04-16 10:17  "
      ]
     },
     "metadata": {},
     "output_type": "display_data"
    },
    {
     "name": "stdout",
     "output_type": "stream",
     "text": [
      "Описательная статистика\n",
      "\n"
     ]
    },
    {
     "data": {
      "text/html": [
       "<div>\n",
       "<style scoped>\n",
       "    .dataframe tbody tr th:only-of-type {\n",
       "        vertical-align: middle;\n",
       "    }\n",
       "\n",
       "    .dataframe tbody tr th {\n",
       "        vertical-align: top;\n",
       "    }\n",
       "\n",
       "    .dataframe thead th {\n",
       "        text-align: right;\n",
       "    }\n",
       "</style>\n",
       "<table border=\"1\" class=\"dataframe\">\n",
       "  <thead>\n",
       "    <tr style=\"text-align: right;\">\n",
       "      <th></th>\n",
       "      <th>Price</th>\n",
       "      <th>RegistrationYear</th>\n",
       "      <th>Power</th>\n",
       "      <th>Kilometer</th>\n",
       "      <th>RegistrationMonth</th>\n",
       "      <th>NumberOfPictures</th>\n",
       "      <th>PostalCode</th>\n",
       "    </tr>\n",
       "  </thead>\n",
       "  <tbody>\n",
       "    <tr>\n",
       "      <th>count</th>\n",
       "      <td>354369.000000</td>\n",
       "      <td>354369.000000</td>\n",
       "      <td>354369.000000</td>\n",
       "      <td>354369.000000</td>\n",
       "      <td>354369.000000</td>\n",
       "      <td>354369.0</td>\n",
       "      <td>354369.000000</td>\n",
       "    </tr>\n",
       "    <tr>\n",
       "      <th>mean</th>\n",
       "      <td>4416.656776</td>\n",
       "      <td>2004.234448</td>\n",
       "      <td>110.094337</td>\n",
       "      <td>128211.172535</td>\n",
       "      <td>5.714645</td>\n",
       "      <td>0.0</td>\n",
       "      <td>50508.689087</td>\n",
       "    </tr>\n",
       "    <tr>\n",
       "      <th>std</th>\n",
       "      <td>4514.158514</td>\n",
       "      <td>90.227958</td>\n",
       "      <td>189.850405</td>\n",
       "      <td>37905.341530</td>\n",
       "      <td>3.726421</td>\n",
       "      <td>0.0</td>\n",
       "      <td>25783.096248</td>\n",
       "    </tr>\n",
       "    <tr>\n",
       "      <th>min</th>\n",
       "      <td>0.000000</td>\n",
       "      <td>1000.000000</td>\n",
       "      <td>0.000000</td>\n",
       "      <td>5000.000000</td>\n",
       "      <td>0.000000</td>\n",
       "      <td>0.0</td>\n",
       "      <td>1067.000000</td>\n",
       "    </tr>\n",
       "    <tr>\n",
       "      <th>25%</th>\n",
       "      <td>1050.000000</td>\n",
       "      <td>1999.000000</td>\n",
       "      <td>69.000000</td>\n",
       "      <td>125000.000000</td>\n",
       "      <td>3.000000</td>\n",
       "      <td>0.0</td>\n",
       "      <td>30165.000000</td>\n",
       "    </tr>\n",
       "    <tr>\n",
       "      <th>50%</th>\n",
       "      <td>2700.000000</td>\n",
       "      <td>2003.000000</td>\n",
       "      <td>105.000000</td>\n",
       "      <td>150000.000000</td>\n",
       "      <td>6.000000</td>\n",
       "      <td>0.0</td>\n",
       "      <td>49413.000000</td>\n",
       "    </tr>\n",
       "    <tr>\n",
       "      <th>75%</th>\n",
       "      <td>6400.000000</td>\n",
       "      <td>2008.000000</td>\n",
       "      <td>143.000000</td>\n",
       "      <td>150000.000000</td>\n",
       "      <td>9.000000</td>\n",
       "      <td>0.0</td>\n",
       "      <td>71083.000000</td>\n",
       "    </tr>\n",
       "    <tr>\n",
       "      <th>max</th>\n",
       "      <td>20000.000000</td>\n",
       "      <td>9999.000000</td>\n",
       "      <td>20000.000000</td>\n",
       "      <td>150000.000000</td>\n",
       "      <td>12.000000</td>\n",
       "      <td>0.0</td>\n",
       "      <td>99998.000000</td>\n",
       "    </tr>\n",
       "  </tbody>\n",
       "</table>\n",
       "</div>"
      ],
      "text/plain": [
       "               Price  RegistrationYear          Power      Kilometer  \\\n",
       "count  354369.000000     354369.000000  354369.000000  354369.000000   \n",
       "mean     4416.656776       2004.234448     110.094337  128211.172535   \n",
       "std      4514.158514         90.227958     189.850405   37905.341530   \n",
       "min         0.000000       1000.000000       0.000000    5000.000000   \n",
       "25%      1050.000000       1999.000000      69.000000  125000.000000   \n",
       "50%      2700.000000       2003.000000     105.000000  150000.000000   \n",
       "75%      6400.000000       2008.000000     143.000000  150000.000000   \n",
       "max     20000.000000       9999.000000   20000.000000  150000.000000   \n",
       "\n",
       "       RegistrationMonth  NumberOfPictures     PostalCode  \n",
       "count      354369.000000          354369.0  354369.000000  \n",
       "mean            5.714645               0.0   50508.689087  \n",
       "std             3.726421               0.0   25783.096248  \n",
       "min             0.000000               0.0    1067.000000  \n",
       "25%             3.000000               0.0   30165.000000  \n",
       "50%             6.000000               0.0   49413.000000  \n",
       "75%             9.000000               0.0   71083.000000  \n",
       "max            12.000000               0.0   99998.000000  "
      ]
     },
     "metadata": {},
     "output_type": "display_data"
    },
    {
     "name": "stdout",
     "output_type": "stream",
     "text": [
      "Описательная статистика категориальных признаков\n",
      "\n"
     ]
    },
    {
     "data": {
      "text/html": [
       "<div>\n",
       "<style scoped>\n",
       "    .dataframe tbody tr th:only-of-type {\n",
       "        vertical-align: middle;\n",
       "    }\n",
       "\n",
       "    .dataframe tbody tr th {\n",
       "        vertical-align: top;\n",
       "    }\n",
       "\n",
       "    .dataframe thead th {\n",
       "        text-align: right;\n",
       "    }\n",
       "</style>\n",
       "<table border=\"1\" class=\"dataframe\">\n",
       "  <thead>\n",
       "    <tr style=\"text-align: right;\">\n",
       "      <th></th>\n",
       "      <th>DateCrawled</th>\n",
       "      <th>VehicleType</th>\n",
       "      <th>Gearbox</th>\n",
       "      <th>Model</th>\n",
       "      <th>FuelType</th>\n",
       "      <th>Brand</th>\n",
       "      <th>Repaired</th>\n",
       "      <th>DateCreated</th>\n",
       "      <th>LastSeen</th>\n",
       "    </tr>\n",
       "  </thead>\n",
       "  <tbody>\n",
       "    <tr>\n",
       "      <th>count</th>\n",
       "      <td>354369</td>\n",
       "      <td>316879</td>\n",
       "      <td>334536</td>\n",
       "      <td>334664</td>\n",
       "      <td>321474</td>\n",
       "      <td>354369</td>\n",
       "      <td>283215</td>\n",
       "      <td>354369</td>\n",
       "      <td>354369</td>\n",
       "    </tr>\n",
       "    <tr>\n",
       "      <th>unique</th>\n",
       "      <td>15470</td>\n",
       "      <td>8</td>\n",
       "      <td>2</td>\n",
       "      <td>250</td>\n",
       "      <td>7</td>\n",
       "      <td>40</td>\n",
       "      <td>2</td>\n",
       "      <td>109</td>\n",
       "      <td>18592</td>\n",
       "    </tr>\n",
       "    <tr>\n",
       "      <th>top</th>\n",
       "      <td>05-03-16 14:25</td>\n",
       "      <td>sedan</td>\n",
       "      <td>manual</td>\n",
       "      <td>golf</td>\n",
       "      <td>petrol</td>\n",
       "      <td>volkswagen</td>\n",
       "      <td>no</td>\n",
       "      <td>03-04-16 00:00</td>\n",
       "      <td>07-04-16 07:16</td>\n",
       "    </tr>\n",
       "    <tr>\n",
       "      <th>freq</th>\n",
       "      <td>66</td>\n",
       "      <td>91457</td>\n",
       "      <td>268251</td>\n",
       "      <td>29232</td>\n",
       "      <td>216352</td>\n",
       "      <td>77013</td>\n",
       "      <td>247161</td>\n",
       "      <td>13719</td>\n",
       "      <td>654</td>\n",
       "    </tr>\n",
       "  </tbody>\n",
       "</table>\n",
       "</div>"
      ],
      "text/plain": [
       "           DateCrawled VehicleType Gearbox   Model FuelType       Brand  \\\n",
       "count           354369      316879  334536  334664   321474      354369   \n",
       "unique           15470           8       2     250        7          40   \n",
       "top     05-03-16 14:25       sedan  manual    golf   petrol  volkswagen   \n",
       "freq                66       91457  268251   29232   216352       77013   \n",
       "\n",
       "       Repaired     DateCreated        LastSeen  \n",
       "count    283215          354369          354369  \n",
       "unique        2             109           18592  \n",
       "top          no  03-04-16 00:00  07-04-16 07:16  \n",
       "freq     247161           13719             654  "
      ]
     },
     "metadata": {},
     "output_type": "display_data"
    },
    {
     "name": "stdout",
     "output_type": "stream",
     "text": [
      "Количество пропусков в каждом столбце\n",
      "\n"
     ]
    },
    {
     "data": {
      "text/plain": [
       "DateCrawled              0\n",
       "Price                    0\n",
       "VehicleType          37490\n",
       "RegistrationYear         0\n",
       "Gearbox              19833\n",
       "Power                    0\n",
       "Model                19705\n",
       "Kilometer                0\n",
       "RegistrationMonth        0\n",
       "FuelType             32895\n",
       "Brand                    0\n",
       "Repaired             71154\n",
       "DateCreated              0\n",
       "NumberOfPictures         0\n",
       "PostalCode               0\n",
       "LastSeen                 0\n",
       "dtype: int64"
      ]
     },
     "metadata": {},
     "output_type": "display_data"
    },
    {
     "name": "stdout",
     "output_type": "stream",
     "text": [
      "Количество уникальных значений\n",
      "\n"
     ]
    },
    {
     "data": {
      "text/plain": [
       "DateCrawled          15470\n",
       "Price                 3731\n",
       "VehicleType              8\n",
       "RegistrationYear       151\n",
       "Gearbox                  2\n",
       "Power                  712\n",
       "Model                  250\n",
       "Kilometer               13\n",
       "RegistrationMonth       13\n",
       "FuelType                 7\n",
       "Brand                   40\n",
       "Repaired                 2\n",
       "DateCreated            109\n",
       "NumberOfPictures         1\n",
       "PostalCode            8143\n",
       "LastSeen             18592\n",
       "dtype: int64"
      ]
     },
     "metadata": {},
     "output_type": "display_data"
    },
    {
     "name": "stdout",
     "output_type": "stream",
     "text": [
      "Количество дубликатов\n",
      "\n"
     ]
    },
    {
     "data": {
      "text/plain": [
       "262"
      ]
     },
     "metadata": {},
     "output_type": "display_data"
    }
   ],
   "source": [
    "# посмотрим содержание полученных данных\n",
    "print('Общая информация\\n')\n",
    "display(data.info())\n",
    "print('Первые строки датасета\\n')\n",
    "display(data.head())\n",
    "print('Описательная статистика\\n')\n",
    "display(data.describe())\n",
    "print('Описательная статистика категориальных признаков\\n')\n",
    "display(data.describe(include=['object', 'bool']))\n",
    "print('Количество пропусков в каждом столбце\\n')\n",
    "display(data.isna().sum())\n",
    "print('Количество уникальных значений\\n')\n",
    "display(data.nunique())\n",
    "print('Количество дубликатов\\n')\n",
    "display(data.duplicated().sum()) "
   ]
  },
  {
   "cell_type": "markdown",
   "metadata": {},
   "source": [
    "Самая популярная марка модели - Фольксваген, Гольф, с ручной коробкой передач с бензиновым двигателем."
   ]
  },
  {
   "cell_type": "code",
   "execution_count": 6,
   "metadata": {},
   "outputs": [
    {
     "name": "stdout",
     "output_type": "stream",
     "text": [
      "Уникальные значения столбца DateCrawled\n",
      "['24-03-16 11:52' '24-03-16 10:58' '14-03-16 12:52' ... '27-03-16 12:42'\n",
      " '08-03-16 00:49' '06-03-16 21:11']\n",
      "Уникальные значения столбца Price\n",
      "[  480 18300  9800 ... 12395 18429 10985]\n",
      "Уникальные значения столбца VehicleType\n",
      "[nan 'coupe' 'suv' 'small' 'sedan' 'convertible' 'bus' 'wagon' 'other']\n",
      "Уникальные значения столбца RegistrationYear\n",
      "[1993 2011 2004 2001 2008 1995 1980 2014 1998 2005 1910 2016 2007 2009\n",
      " 2002 2018 1997 1990 2017 1981 2003 1994 1991 1984 2006 1999 2012 2010\n",
      " 2000 1992 2013 1996 1985 1989 2015 1982 1976 1983 1973 1111 1969 1971\n",
      " 1987 1986 1988 1970 1965 1945 1925 1974 1979 1955 1978 1972 1968 1977\n",
      " 1961 1960 1966 1975 1963 1964 5000 1954 1958 1967 1959 9999 1956 3200\n",
      " 1000 1941 8888 1500 2200 4100 1962 1929 1957 1940 3000 2066 1949 2019\n",
      " 1937 1951 1800 1953 1234 8000 5300 9000 2900 6000 5900 5911 1933 1400\n",
      " 1950 4000 1948 1952 1200 8500 1932 1255 3700 3800 4800 1942 7000 1935\n",
      " 1936 6500 1923 2290 2500 1930 1001 9450 1944 1943 1934 1938 1688 2800\n",
      " 1253 1928 1919 5555 5600 1600 2222 1039 9996 1300 8455 1931 1915 4500\n",
      " 1920 1602 7800 9229 1947 1927 7100 8200 1946 7500 3500]\n",
      "Уникальные значения столбца Gearbox\n",
      "['manual' 'auto' nan]\n",
      "Уникальные значения столбца Power\n",
      "[    0   190   163    75    69   102   109    50   125   101   105   140\n",
      "   115   131    60   136   160   231    90   118   193    99   113   218\n",
      "   122   129    70   306    95    61   177    80   170    55   143    64\n",
      "   286   232   150   156    82   155    54   185    87   180    86    84\n",
      "   224   235   200   178   265    77   110   144   120   116   184   126\n",
      "   204    88   194   305   197   179   250    45   313    41   165    98\n",
      "   130   114   211    56   201   213    58   107    83   174   100   220\n",
      "    85    73   192    68    66   299    74    52   147    65   310    71\n",
      "    97   239   203     5   300   103   258   320    63    81   148    44\n",
      "   145   230   280   260   104   188   333   186   117   141    59   132\n",
      "   234   158    39    92    51   135    53   209    43   146    67   106\n",
      "   166   276   344    72   249   237   245   111   326   279    23   138\n",
      "   175    96   226    26    37   301   334   128   133   124    33   219\n",
      "   241   167    94   182   196   238  1398   228   112    48   272   139\n",
      "  1799    40   240    79   256   360   243   375   252   396   340   108\n",
      "   121   345   187   289   222   198   284   450   233   387   152   347\n",
      "   172    57   137   212   476   314    30     7    47   173   290   207\n",
      "   205   171   750    78    91    89   349   325    76   151   350   953\n",
      "    93   142   500   343   199   119   164    16   264   367   208   210\n",
      "    46   435  1001   225   127   176   161   603   307   354    35   206\n",
      "   771   355   273   223   255   123   154   149  7515  1400   268   620\n",
      "   169   400   275    34     2   242  1779   285   162   328  1753   329\n",
      "   134   420   247   168 10317   215    18   330   283    62    10   214\n",
      "   183   254    15   321   322   315   952   600   181   426   599   379\n",
      "   999    22   157    42   195   553     4   309   507   381   271   440\n",
      "   189   401  1111  2729    21   236  1240  1704   521     1  1900   270\n",
      "    24   159   292   808   515  1200   303    29    38  1993    14   216\n",
      "   610   504    49   267   331   363   261   385  1011   253   696 10520\n",
      "   376   227   311    27   217    20  1999    11  1056    25   394    12\n",
      "   298   296  1659   294   551  6920   246    17  1800  1625   368   390\n",
      "   221  1367   259   606   327  2017  1597   266   374   392     9   405\n",
      "    13   262   601   430   295     8   411   900   541  7512   382 10218\n",
      "  7544  1102   287    19   751   297  1090   457   282   602   388     6\n",
      "  1000  5411   335  1360   202  3750   805  1062  1024 11530   364  1796\n",
      "  5000   269   460  1002   288  1780 12012 17932   316  2005  1399   191\n",
      "   278  1300   380   257   449  1256   153  1653   520   560   281 12510\n",
      "     3  1500   386    32  1202  2016  1436  1405   671   274  1288  1055\n",
      " 10912 15016  6226  1115   277  1105   341  1223  2340  8404  1968   338\n",
      "   445  1920   370   517  4400 10710 10522  9010   431  1164 11509   371\n",
      "  1501   428 11635    36   304   348  1703  1910  1995   579 10000   580\n",
      "   408    31  1005   358  1403   489  5575 19211   585   960   365   353\n",
      "   490   352  1801   346   550  3199   800  7508  1312   357  1937   950\n",
      "  4700  1600  3454 19208   251   850   337   700  8011  2331  2789   487\n",
      "   519  2461  6006  3500  5815  6018  1781  1503   612  1596   229  1506\n",
      "  5809 15020  5867  2172  1598 17410  1363   584  1054   851  1339   318\n",
      "   510   525  1700    28  1151   685  6011   317   703  1771 15001   514\n",
      "   362   332   324  6045   530   425   308  6010   475   903   640  2000\n",
      "   248   651  2799 17011   505  1103  1521   351 16051   398  9000  1998\n",
      " 10311   409  1230 17019 12684  8259  1895   901  1317   871   909  2201\n",
      "  1595   776 17700 11011  1199   459  1162  1120 15033  1896   339   361\n",
      "   574  6512   454   650 13616   604   607 16312  1082   336 20000   416\n",
      "   678  6012  1401  1021  1870 13636  1250  9710   323  1158  2009   902\n",
      "  6062  1275   572   244   399  1016   743  1221  2402 16011  1362   544\n",
      "   645   907   702 12512  1986  1003  1432  9013  9011   442  1017  1394\n",
      " 15017 10910  1992   540  2018 11025  1433  1701  2792  1502  1239  1390\n",
      " 14009  1160  1351 11111  1783  9007   923  1149   754  1988   402  2004\n",
      "  5420  1793  1324   356  7511  1299   293 19312  1079  1689   998  1100\n",
      "  9012  1933   508 16311   682  1252  1922  7529   732  2389  2200  1707\n",
      "  1416  8500  1012   485  3000 10110   421  4507  1631  7518   377  1004\n",
      "  2007  2598  1548  1241]\n",
      "Уникальные значения столбца Model\n",
      "['golf' nan 'grand' 'fabia' '3er' '2_reihe' 'other' 'c_max' '3_reihe'\n",
      " 'passat' 'navara' 'ka' 'polo' 'twingo' 'a_klasse' 'scirocco' '5er'\n",
      " 'meriva' 'arosa' 'c4' 'civic' 'transporter' 'punto' 'e_klasse' 'clio'\n",
      " 'kadett' 'kangoo' 'corsa' 'one' 'fortwo' '1er' 'b_klasse' 'signum'\n",
      " 'astra' 'a8' 'jetta' 'fiesta' 'c_klasse' 'micra' 'vito' 'sprinter' '156'\n",
      " 'escort' 'forester' 'xc_reihe' 'scenic' 'a4' 'a1' 'insignia' 'combo'\n",
      " 'focus' 'tt' 'a6' 'jazz' 'omega' 'slk' '7er' '80' '147' '100' 'z_reihe'\n",
      " 'sportage' 'sorento' 'v40' 'ibiza' 'mustang' 'eos' 'touran' 'getz' 'a3'\n",
      " 'almera' 'megane' 'lupo' 'r19' 'zafira' 'caddy' 'mondeo' 'cordoba' 'colt'\n",
      " 'impreza' 'vectra' 'berlingo' 'tiguan' 'i_reihe' 'espace' 'sharan'\n",
      " '6_reihe' 'panda' 'up' 'seicento' 'ceed' '5_reihe' 'yeti' 'octavia' 'mii'\n",
      " 'rx_reihe' '6er' 'modus' 'fox' 'matiz' 'beetle' 'c1' 'rio' 'touareg'\n",
      " 'logan' 'spider' 'cuore' 's_max' 'a2' 'galaxy' 'c3' 'viano' 's_klasse'\n",
      " '1_reihe' 'avensis' 'roomster' 'sl' 'kaefer' 'santa' 'cooper' 'leon'\n",
      " '4_reihe' 'a5' '500' 'laguna' 'ptcruiser' 'clk' 'primera' 'x_reihe'\n",
      " 'exeo' '159' 'transit' 'juke' 'qashqai' 'carisma' 'accord' 'corolla'\n",
      " 'lanos' 'phaeton' 'verso' 'swift' 'rav' 'picanto' 'boxster' 'kalos'\n",
      " 'superb' 'stilo' 'alhambra' 'mx_reihe' 'roadster' 'ypsilon' 'cayenne'\n",
      " 'galant' 'justy' '90' 'sirion' 'crossfire' 'agila' 'duster' 'cr_reihe'\n",
      " 'v50' 'c_reihe' 'v_klasse' 'm_klasse' 'yaris' 'c5' 'aygo' 'cc' 'carnival'\n",
      " 'fusion' '911' 'bora' 'forfour' 'm_reihe' 'cl' 'tigra' '300c' 'spark'\n",
      " 'v70' 'kuga' 'x_type' 'ducato' 's_type' 'x_trail' 'toledo' 'altea'\n",
      " 'voyager' 'calibra' 'bravo' 'antara' 'tucson' 'citigo' 'jimny' 'wrangler'\n",
      " 'lybra' 'q7' 'lancer' 'captiva' 'c2' 'discovery' 'freelander' 'sandero'\n",
      " 'note' '900' 'cherokee' 'clubman' 'samara' 'defender' '601' 'cx_reihe'\n",
      " 'legacy' 'pajero' 'auris' 'niva' 's60' 'nubira' 'vivaro' 'g_klasse'\n",
      " 'lodgy' '850' 'range_rover' 'q3' 'serie_2' 'glk' 'charade' 'croma'\n",
      " 'outlander' 'doblo' 'musa' 'move' '9000' 'v60' '145' 'aveo' '200' 'b_max'\n",
      " 'range_rover_sport' 'terios' 'rangerover' 'q5' 'range_rover_evoque'\n",
      " 'materia' 'delta' 'gl' 'kalina' 'amarok' 'elefantino' 'i3' 'kappa'\n",
      " 'serie_3' 'serie_1']\n",
      "Уникальные значения столбца Kilometer\n",
      "[150000 125000  90000  40000  30000  70000   5000 100000  60000  20000\n",
      "  80000  50000  10000]\n",
      "Уникальные значения столбца RegistrationMonth\n",
      "[ 0  5  8  6  7 10 12 11  2  3  1  4  9]\n",
      "Уникальные значения столбца FuelType\n",
      "['petrol' 'gasoline' nan 'lpg' 'other' 'hybrid' 'cng' 'electric']\n",
      "Уникальные значения столбца Brand\n",
      "['volkswagen' 'audi' 'jeep' 'skoda' 'bmw' 'peugeot' 'ford' 'mazda'\n",
      " 'nissan' 'renault' 'mercedes_benz' 'opel' 'seat' 'citroen' 'honda' 'fiat'\n",
      " 'mini' 'smart' 'hyundai' 'sonstige_autos' 'alfa_romeo' 'subaru' 'volvo'\n",
      " 'mitsubishi' 'kia' 'suzuki' 'lancia' 'toyota' 'chevrolet' 'dacia'\n",
      " 'daihatsu' 'trabant' 'saab' 'chrysler' 'jaguar' 'daewoo' 'porsche'\n",
      " 'rover' 'land_rover' 'lada']\n",
      "Уникальные значения столбца Repaired\n",
      "[nan 'yes' 'no']\n",
      "Уникальные значения столбца DateCreated\n",
      "['24-03-16 00:00' '14-03-16 00:00' '17-03-16 00:00' '31-03-16 00:00'\n",
      " '04-04-16 00:00' '01-04-16 00:00' '21-03-16 00:00' '26-03-16 00:00'\n",
      " '07-04-16 00:00' '15-03-16 00:00' '11-03-16 00:00' '20-03-16 00:00'\n",
      " '23-03-16 00:00' '27-03-16 00:00' '12-03-16 00:00' '13-03-16 00:00'\n",
      " '18-03-16 00:00' '10-03-16 00:00' '07-03-16 00:00' '09-03-16 00:00'\n",
      " '08-03-16 00:00' '03-04-16 00:00' '29-03-16 00:00' '25-03-16 00:00'\n",
      " '28-03-16 00:00' '30-03-16 00:00' '22-03-16 00:00' '09-02-16 00:00'\n",
      " '05-03-16 00:00' '02-04-16 00:00' '16-03-16 00:00' '19-03-16 00:00'\n",
      " '05-04-16 00:00' '06-03-16 00:00' '12-02-16 00:00' '03-03-16 00:00'\n",
      " '01-03-16 00:00' '04-03-16 00:00' '06-04-16 00:00' '15-02-16 00:00'\n",
      " '24-02-16 00:00' '27-02-16 00:00' '20-03-15 00:00' '28-02-16 00:00'\n",
      " '17-02-16 00:00' '27-01-16 00:00' '20-02-16 00:00' '29-02-16 00:00'\n",
      " '10-02-16 00:00' '23-02-16 00:00' '21-02-16 00:00' '02-11-15 00:00'\n",
      " '19-02-16 00:00' '26-02-16 00:00' '11-02-16 00:00' '10-01-16 00:00'\n",
      " '06-02-16 00:00' '18-02-16 00:00' '29-01-16 00:00' '02-03-16 00:00'\n",
      " '06-12-15 00:00' '24-01-16 00:00' '30-01-16 00:00' '02-02-16 00:00'\n",
      " '16-02-16 00:00' '13-02-16 00:00' '05-02-16 00:00' '22-02-16 00:00'\n",
      " '17-11-15 00:00' '10-03-14 00:00' '07-02-16 00:00' '23-01-16 00:00'\n",
      " '25-02-16 00:00' '14-02-16 00:00' '02-01-16 00:00' '04-09-15 00:00'\n",
      " '12-11-15 00:00' '27-12-15 00:00' '24-11-15 00:00' '20-01-16 00:00'\n",
      " '03-02-16 00:00' '05-12-15 00:00' '07-08-15 00:00' '28-01-16 00:00'\n",
      " '31-01-16 00:00' '08-02-16 00:00' '07-01-16 00:00' '22-01-16 00:00'\n",
      " '18-01-16 00:00' '08-01-16 00:00' '23-11-15 00:00' '13-01-16 00:00'\n",
      " '17-01-16 00:00' '15-01-16 00:00' '08-11-15 00:00' '26-01-16 00:00'\n",
      " '04-02-16 00:00' '25-01-16 00:00' '16-01-16 00:00' '10-08-15 00:00'\n",
      " '03-01-16 00:00' '19-01-16 00:00' '30-12-15 00:00' '01-02-16 00:00'\n",
      " '17-12-15 00:00' '10-11-15 00:00' '06-01-16 00:00' '09-09-15 00:00'\n",
      " '18-06-15 00:00']\n",
      "Уникальные значения столбца NumberOfPictures\n",
      "[0]\n",
      "Уникальные значения столбца PostalCode\n",
      "[70435 66954 90480 ... 38528 38325 31096]\n",
      "Уникальные значения столбца LastSeen\n",
      "['07-04-16 03:16' '07-04-16 01:46' '05-04-16 12:47' ... '08-03-16 20:43'\n",
      " '08-03-16 21:28' '18-03-16 11:30']\n"
     ]
    }
   ],
   "source": [
    "# Посмотрим также уникальные значения в каждом столбце\n",
    "\n",
    "for column in data.columns:\n",
    "    print('Уникальные значения столбца', column)\n",
    "    print(data[column].unique())"
   ]
  },
  {
   "cell_type": "markdown",
   "metadata": {},
   "source": [
    "### Предварительный вывод о полученных данных\n",
    "\n",
    "- Всего в таблице 354369 строк и 16 столбцов,\n",
    "- Пропуски присутствуют в столбцах:\n",
    "    - VehicleType, тип object, 37490 пропусков\n",
    "    - Gearbox, тип object, 19833  пропусков\n",
    "    - Model, тип object, 19705 пропусков\n",
    "    - FuelType, тип object, 32895 пропусков\n",
    "    - Repaired, тип object, 71154 пропусков\n",
    "- Столбец RegistrationYear содержит заведомо ложную информацию, минимальный год равен 1000, максимальный 9999.\n",
    "- Столбец RegistrationMonth содержит значения от 0 до 12, то есть нули нужно заменить на единицу, так как, возможно, имелся в виду январь.\n",
    "- Обнаружено четыре явных дубликата.\n",
    "- Столбец с количеством фотографий (NumberOfPictures) содержит только нули.\n"
   ]
  },
  {
   "cell_type": "code",
   "execution_count": 7,
   "metadata": {},
   "outputs": [
    {
     "name": "stdout",
     "output_type": "stream",
     "text": [
      "<class 'pandas.core.frame.DataFrame'>\n",
      "RangeIndex: 354369 entries, 0 to 354368\n",
      "Data columns (total 10 columns):\n",
      " #   Column            Non-Null Count   Dtype \n",
      "---  ------            --------------   ----- \n",
      " 0   Price             354369 non-null  int64 \n",
      " 1   VehicleType       316879 non-null  object\n",
      " 2   RegistrationYear  354369 non-null  int64 \n",
      " 3   Gearbox           334536 non-null  object\n",
      " 4   Power             354369 non-null  int64 \n",
      " 5   Model             334664 non-null  object\n",
      " 6   Kilometer         354369 non-null  int64 \n",
      " 7   FuelType          321474 non-null  object\n",
      " 8   Brand             354369 non-null  object\n",
      " 9   Repaired          283215 non-null  object\n",
      "dtypes: int64(4), object(6)\n",
      "memory usage: 27.0+ MB\n"
     ]
    }
   ],
   "source": [
    "# Удалим столбцы, которые не имеют значения для цены, но могут повлиять на работу моделей\n",
    "\n",
    "processed_data = data[['Price',\n",
    "                       'VehicleType',\n",
    "                       'RegistrationYear',\n",
    "                       'Gearbox',\n",
    "                       'Power',\n",
    "                       'Model',\n",
    "                       'Kilometer',\n",
    "                       'FuelType',\n",
    "                       'Brand',\n",
    "                       'Repaired']]\n",
    "\n",
    "# Проверим работу кода\n",
    "processed_data.info()"
   ]
  },
  {
   "cell_type": "markdown",
   "metadata": {},
   "source": [
    "### Обработка столбцов"
   ]
  },
  {
   "cell_type": "markdown",
   "metadata": {},
   "source": [
    "#### Цена"
   ]
  },
  {
   "cell_type": "code",
   "execution_count": 8,
   "metadata": {},
   "outputs": [
    {
     "data": {
      "text/plain": [
       "0        10772\n",
       "500       5670\n",
       "1500      5394\n",
       "1000      4649\n",
       "1200      4594\n",
       "         ...  \n",
       "1368         1\n",
       "233          1\n",
       "11080        1\n",
       "16340        1\n",
       "10985        1\n",
       "Name: Price, Length: 3731, dtype: int64"
      ]
     },
     "execution_count": 8,
     "metadata": {},
     "output_type": "execute_result"
    }
   ],
   "source": [
    "# Проверим значения в столбце Price\n",
    "processed_data['Price'].value_counts()"
   ]
  },
  {
   "cell_type": "markdown",
   "metadata": {},
   "source": [
    "10772 автомобиля имеют нулевую стоимость. Эти значения могут влиять на работу модели, заменим нули на медианное значение."
   ]
  },
  {
   "cell_type": "code",
   "execution_count": 9,
   "metadata": {},
   "outputs": [
    {
     "data": {
      "text/plain": [
       "2700     12299\n",
       "500       5670\n",
       "1500      5394\n",
       "1000      4649\n",
       "1200      4594\n",
       "         ...  \n",
       "7435         1\n",
       "16845        1\n",
       "17159        1\n",
       "7396         1\n",
       "10985        1\n",
       "Name: Price, Length: 3730, dtype: int64"
      ]
     },
     "execution_count": 9,
     "metadata": {},
     "output_type": "execute_result"
    }
   ],
   "source": [
    "# Вычислим медианное значение по столбцу Price\n",
    "avg = processed_data['Price'].median()\n",
    "# Заменим нули на медианное значение\n",
    "processed_data['Price'] = processed_data['Price'].apply(lambda v: avg if v==0 else v)\n",
    "# Округлим полученное значение до целого цисла путем изменения формата данных\n",
    "processed_data['Price'] = processed_data['Price'].astype(int)\n",
    "# Проверим работу кода\n",
    "processed_data['Price'].value_counts()"
   ]
  },
  {
   "cell_type": "code",
   "execution_count": 10,
   "metadata": {},
   "outputs": [
    {
     "data": {
      "text/plain": [
       "<AxesSubplot: >"
      ]
     },
     "execution_count": 10,
     "metadata": {},
     "output_type": "execute_result"
    },
    {
     "data": {
      "image/png": "[encoded data removed]",
      "text/plain": [
       "<Figure size 1080x1080 with 1 Axes>"
      ]
     },
     "metadata": {
      "needs_background": "light"
     },
     "output_type": "display_data"
    }
   ],
   "source": [
    "# Проверим распределение цены на гистограмме\n",
    "processed_data['Price'].hist(figsize=(15, 15))"
   ]
  },
  {
   "cell_type": "markdown",
   "metadata": {},
   "source": [
    "Большинство моделей стоят до 2500 уе. Средняя цена примерно от 3500 до 6500 уе."
   ]
  },
  {
   "cell_type": "markdown",
   "metadata": {},
   "source": [
    "#### Тип кузова"
   ]
  },
  {
   "cell_type": "code",
   "execution_count": 11,
   "metadata": {},
   "outputs": [
    {
     "data": {
      "text/plain": [
       "sedan          91457\n",
       "small          79831\n",
       "wagon          65166\n",
       "bus            28775\n",
       "convertible    20203\n",
       "coupe          16163\n",
       "suv            11996\n",
       "other           3288\n",
       "Name: VehicleType, dtype: int64"
      ]
     },
     "execution_count": 11,
     "metadata": {},
     "output_type": "execute_result"
    }
   ],
   "source": [
    "processed_data['VehicleType'].value_counts()"
   ]
  },
  {
   "cell_type": "code",
   "execution_count": 12,
   "metadata": {},
   "outputs": [
    {
     "data": {
      "text/html": [
       "<div>\n",
       "<style scoped>\n",
       "    .dataframe tbody tr th:only-of-type {\n",
       "        vertical-align: middle;\n",
       "    }\n",
       "\n",
       "    .dataframe tbody tr th {\n",
       "        vertical-align: top;\n",
       "    }\n",
       "\n",
       "    .dataframe thead th {\n",
       "        text-align: right;\n",
       "    }\n",
       "</style>\n",
       "<table border=\"1\" class=\"dataframe\">\n",
       "  <thead>\n",
       "    <tr style=\"text-align: right;\">\n",
       "      <th></th>\n",
       "      <th>Price</th>\n",
       "      <th>VehicleType</th>\n",
       "      <th>RegistrationYear</th>\n",
       "      <th>Gearbox</th>\n",
       "      <th>Power</th>\n",
       "      <th>Model</th>\n",
       "      <th>Kilometer</th>\n",
       "      <th>FuelType</th>\n",
       "      <th>Brand</th>\n",
       "      <th>Repaired</th>\n",
       "    </tr>\n",
       "  </thead>\n",
       "  <tbody>\n",
       "    <tr>\n",
       "      <th>0</th>\n",
       "      <td>480</td>\n",
       "      <td>NaN</td>\n",
       "      <td>1993</td>\n",
       "      <td>manual</td>\n",
       "      <td>0</td>\n",
       "      <td>golf</td>\n",
       "      <td>150000</td>\n",
       "      <td>petrol</td>\n",
       "      <td>volkswagen</td>\n",
       "      <td>NaN</td>\n",
       "    </tr>\n",
       "    <tr>\n",
       "      <th>16</th>\n",
       "      <td>300</td>\n",
       "      <td>NaN</td>\n",
       "      <td>2016</td>\n",
       "      <td>NaN</td>\n",
       "      <td>60</td>\n",
       "      <td>polo</td>\n",
       "      <td>150000</td>\n",
       "      <td>petrol</td>\n",
       "      <td>volkswagen</td>\n",
       "      <td>NaN</td>\n",
       "    </tr>\n",
       "    <tr>\n",
       "      <th>22</th>\n",
       "      <td>2900</td>\n",
       "      <td>NaN</td>\n",
       "      <td>2018</td>\n",
       "      <td>manual</td>\n",
       "      <td>90</td>\n",
       "      <td>meriva</td>\n",
       "      <td>150000</td>\n",
       "      <td>petrol</td>\n",
       "      <td>opel</td>\n",
       "      <td>no</td>\n",
       "    </tr>\n",
       "    <tr>\n",
       "      <th>26</th>\n",
       "      <td>5555</td>\n",
       "      <td>NaN</td>\n",
       "      <td>2017</td>\n",
       "      <td>manual</td>\n",
       "      <td>125</td>\n",
       "      <td>c4</td>\n",
       "      <td>125000</td>\n",
       "      <td>NaN</td>\n",
       "      <td>citroen</td>\n",
       "      <td>no</td>\n",
       "    </tr>\n",
       "    <tr>\n",
       "      <th>31</th>\n",
       "      <td>899</td>\n",
       "      <td>NaN</td>\n",
       "      <td>2016</td>\n",
       "      <td>manual</td>\n",
       "      <td>60</td>\n",
       "      <td>clio</td>\n",
       "      <td>150000</td>\n",
       "      <td>petrol</td>\n",
       "      <td>renault</td>\n",
       "      <td>NaN</td>\n",
       "    </tr>\n",
       "    <tr>\n",
       "      <th>...</th>\n",
       "      <td>...</td>\n",
       "      <td>...</td>\n",
       "      <td>...</td>\n",
       "      <td>...</td>\n",
       "      <td>...</td>\n",
       "      <td>...</td>\n",
       "      <td>...</td>\n",
       "      <td>...</td>\n",
       "      <td>...</td>\n",
       "      <td>...</td>\n",
       "    </tr>\n",
       "    <tr>\n",
       "      <th>354346</th>\n",
       "      <td>2600</td>\n",
       "      <td>NaN</td>\n",
       "      <td>2005</td>\n",
       "      <td>auto</td>\n",
       "      <td>0</td>\n",
       "      <td>c_klasse</td>\n",
       "      <td>150000</td>\n",
       "      <td>NaN</td>\n",
       "      <td>mercedes_benz</td>\n",
       "      <td>NaN</td>\n",
       "    </tr>\n",
       "    <tr>\n",
       "      <th>354351</th>\n",
       "      <td>1900</td>\n",
       "      <td>NaN</td>\n",
       "      <td>2000</td>\n",
       "      <td>manual</td>\n",
       "      <td>110</td>\n",
       "      <td>NaN</td>\n",
       "      <td>150000</td>\n",
       "      <td>NaN</td>\n",
       "      <td>volkswagen</td>\n",
       "      <td>no</td>\n",
       "    </tr>\n",
       "    <tr>\n",
       "      <th>354361</th>\n",
       "      <td>5250</td>\n",
       "      <td>NaN</td>\n",
       "      <td>2016</td>\n",
       "      <td>auto</td>\n",
       "      <td>150</td>\n",
       "      <td>159</td>\n",
       "      <td>150000</td>\n",
       "      <td>NaN</td>\n",
       "      <td>alfa_romeo</td>\n",
       "      <td>no</td>\n",
       "    </tr>\n",
       "    <tr>\n",
       "      <th>354364</th>\n",
       "      <td>2700</td>\n",
       "      <td>NaN</td>\n",
       "      <td>2005</td>\n",
       "      <td>manual</td>\n",
       "      <td>0</td>\n",
       "      <td>colt</td>\n",
       "      <td>150000</td>\n",
       "      <td>petrol</td>\n",
       "      <td>mitsubishi</td>\n",
       "      <td>yes</td>\n",
       "    </tr>\n",
       "    <tr>\n",
       "      <th>354365</th>\n",
       "      <td>2200</td>\n",
       "      <td>NaN</td>\n",
       "      <td>2005</td>\n",
       "      <td>NaN</td>\n",
       "      <td>0</td>\n",
       "      <td>NaN</td>\n",
       "      <td>20000</td>\n",
       "      <td>NaN</td>\n",
       "      <td>sonstige_autos</td>\n",
       "      <td>NaN</td>\n",
       "    </tr>\n",
       "  </tbody>\n",
       "</table>\n",
       "<p>37490 rows × 10 columns</p>\n",
       "</div>"
      ],
      "text/plain": [
       "        Price VehicleType  RegistrationYear Gearbox  Power     Model  \\\n",
       "0         480         NaN              1993  manual      0      golf   \n",
       "16        300         NaN              2016     NaN     60      polo   \n",
       "22       2900         NaN              2018  manual     90    meriva   \n",
       "26       5555         NaN              2017  manual    125        c4   \n",
       "31        899         NaN              2016  manual     60      clio   \n",
       "...       ...         ...               ...     ...    ...       ...   \n",
       "354346   2600         NaN              2005    auto      0  c_klasse   \n",
       "354351   1900         NaN              2000  manual    110       NaN   \n",
       "354361   5250         NaN              2016    auto    150       159   \n",
       "354364   2700         NaN              2005  manual      0      colt   \n",
       "354365   2200         NaN              2005     NaN      0       NaN   \n",
       "\n",
       "        Kilometer FuelType           Brand Repaired  \n",
       "0          150000   petrol      volkswagen      NaN  \n",
       "16         150000   petrol      volkswagen      NaN  \n",
       "22         150000   petrol            opel       no  \n",
       "26         125000      NaN         citroen       no  \n",
       "31         150000   petrol         renault      NaN  \n",
       "...           ...      ...             ...      ...  \n",
       "354346     150000      NaN   mercedes_benz      NaN  \n",
       "354351     150000      NaN      volkswagen       no  \n",
       "354361     150000      NaN      alfa_romeo       no  \n",
       "354364     150000   petrol      mitsubishi      yes  \n",
       "354365      20000      NaN  sonstige_autos      NaN  \n",
       "\n",
       "[37490 rows x 10 columns]"
      ]
     },
     "execution_count": 12,
     "metadata": {},
     "output_type": "execute_result"
    }
   ],
   "source": [
    "processed_data[processed_data['VehicleType'].isna()]"
   ]
  },
  {
   "cell_type": "markdown",
   "metadata": {},
   "source": [
    "37490 пропусков в колонке с типом кузова. Замену пропусков в категориальных значениях будем делать при помощи моды как самого часто встречающегося значения."
   ]
  },
  {
   "cell_type": "code",
   "execution_count": 13,
   "metadata": {},
   "outputs": [],
   "source": [
    "# Заменим пропуски в типе кузова на седан.\n",
    "processed_data['VehicleType'] = processed_data['VehicleType'].fillna('sedan')\n",
    "# Проверим работу кода\n",
    "processed_data['VehicleType'].isna().sum()\n",
    "# изменим тип other на other0 чтобы избежать ошибки в последующем\n",
    "processed_data = processed_data.replace({'VehicleType':{'other' : 'other0'}})\n"
   ]
  },
  {
   "cell_type": "markdown",
   "metadata": {},
   "source": [
    "#### Год регистрации автомобиля"
   ]
  },
  {
   "cell_type": "code",
   "execution_count": 14,
   "metadata": {},
   "outputs": [
    {
     "data": {
      "text/plain": [
       "2000    24490\n",
       "1999    22728\n",
       "2005    22109\n",
       "2001    20124\n",
       "2006    19900\n",
       "        ...  \n",
       "6500        1\n",
       "2290        1\n",
       "1001        1\n",
       "9450        1\n",
       "3500        1\n",
       "Name: RegistrationYear, Length: 151, dtype: int64"
      ]
     },
     "execution_count": 14,
     "metadata": {},
     "output_type": "execute_result"
    }
   ],
   "source": [
    "processed_data['RegistrationYear'].value_counts()"
   ]
  },
  {
   "cell_type": "code",
   "execution_count": 15,
   "metadata": {},
   "outputs": [
    {
     "data": {
      "text/plain": [
       "count    354369.000000\n",
       "mean       2004.234448\n",
       "std          90.227958\n",
       "min        1000.000000\n",
       "25%        1999.000000\n",
       "50%        2003.000000\n",
       "75%        2008.000000\n",
       "max        9999.000000\n",
       "Name: RegistrationYear, dtype: float64"
      ]
     },
     "execution_count": 15,
     "metadata": {},
     "output_type": "execute_result"
    }
   ],
   "source": [
    "processed_data['RegistrationYear'].describe()"
   ]
  },
  {
   "cell_type": "code",
   "execution_count": 16,
   "metadata": {},
   "outputs": [
    {
     "data": {
      "text/plain": [
       "<AxesSubplot: >"
      ]
     },
     "execution_count": 16,
     "metadata": {},
     "output_type": "execute_result"
    },
    {
     "data": {
      "image/png": "[encoded data removed]",
      "text/plain": [
       "<Figure size 1080x1080 with 1 Axes>"
      ]
     },
     "metadata": {
      "needs_background": "light"
     },
     "output_type": "display_data"
    }
   ],
   "source": [
    "processed_data['RegistrationYear'].hist(bins = 100, figsize=(15, 15))"
   ]
  },
  {
   "cell_type": "markdown",
   "metadata": {},
   "source": [
    "Очень много \"грязных\" данных, необходимо будет убрать выбросы."
   ]
  },
  {
   "cell_type": "code",
   "execution_count": 17,
   "metadata": {},
   "outputs": [
    {
     "data": {
      "text/plain": [
       "282006    01-02-16 00:00\n",
       "293917    01-02-16 00:00\n",
       "247299    01-02-16 00:00\n",
       "113941    01-03-16 00:00\n",
       "165104    01-03-16 00:00\n",
       "               ...      \n",
       "184582    31-03-16 00:00\n",
       "30658     31-03-16 00:00\n",
       "277149    31-03-16 00:00\n",
       "30637     31-03-16 00:00\n",
       "290008    31-03-16 00:00\n",
       "Name: DateCreated, Length: 354369, dtype: object"
      ]
     },
     "execution_count": 17,
     "metadata": {},
     "output_type": "execute_result"
    }
   ],
   "source": [
    "# Посмотрим на даты регистрации на сайте из первоначальных данных\n",
    "data['DateCreated'].sort_values()"
   ]
  },
  {
   "cell_type": "markdown",
   "metadata": {},
   "source": [
    "В нашем дата сете последняя дата регистрации - 7 апреля 2016-года, клиент не мог продавать машину из будущего. То есть верхний порог - 2016-ый год. Уберем все значения, которые выше этого порога. Нижний порог установим в районе 50-го года, так как в последние годы стали популярны послевоенные машины для реставрации и последующей перепродажи."
   ]
  },
  {
   "cell_type": "code",
   "execution_count": 18,
   "metadata": {},
   "outputs": [
    {
     "data": {
      "text/plain": [
       "count    339575.000000\n",
       "mean       2002.527963\n",
       "std           6.825243\n",
       "min        1951.000000\n",
       "25%        1999.000000\n",
       "50%        2003.000000\n",
       "75%        2007.000000\n",
       "max        2016.000000\n",
       "Name: RegistrationYear, dtype: float64"
      ]
     },
     "execution_count": 18,
     "metadata": {},
     "output_type": "execute_result"
    }
   ],
   "source": [
    "# Уберем значения ниже 1960-го года и выше 2016-го\n",
    "processed_data = processed_data.query('1950 < RegistrationYear < 2017')\n",
    "# Проверим работу кода\n",
    "processed_data['RegistrationYear'].describe()\n"
   ]
  },
  {
   "cell_type": "code",
   "execution_count": 19,
   "metadata": {},
   "outputs": [
    {
     "data": {
      "text/plain": [
       "<AxesSubplot: >"
      ]
     },
     "execution_count": 19,
     "metadata": {},
     "output_type": "execute_result"
    },
    {
     "data": {
      "image/png": "[encoded data removed]",
      "text/plain": [
       "<Figure size 1080x1080 with 1 Axes>"
      ]
     },
     "metadata": {
      "needs_background": "light"
     },
     "output_type": "display_data"
    }
   ],
   "source": [
    "processed_data['RegistrationYear'].hist(bins = 100, figsize=(15, 15))\n"
   ]
  },
  {
   "cell_type": "markdown",
   "metadata": {},
   "source": [
    "Как видно на графике, послевоенных машин нет совсем, а самые популярные года выпуска для перепродажи примерно от 1996 до 2012 (по данным таблицы, в которой значения указаны для 2016-го года)."
   ]
  },
  {
   "cell_type": "markdown",
   "metadata": {},
   "source": [
    "#### Тип коробки передач"
   ]
  },
  {
   "cell_type": "code",
   "execution_count": 20,
   "metadata": {},
   "outputs": [
    {
     "data": {
      "text/plain": [
       "manual    257468\n",
       "auto       64296\n",
       "Name: Gearbox, dtype: int64"
      ]
     },
     "execution_count": 20,
     "metadata": {},
     "output_type": "execute_result"
    }
   ],
   "source": [
    "processed_data['Gearbox'].value_counts()"
   ]
  },
  {
   "cell_type": "code",
   "execution_count": 21,
   "metadata": {},
   "outputs": [
    {
     "data": {
      "text/plain": [
       "count     321764\n",
       "unique         2\n",
       "top       manual\n",
       "freq      257468\n",
       "Name: Gearbox, dtype: object"
      ]
     },
     "metadata": {},
     "output_type": "display_data"
    },
    {
     "data": {
      "text/html": [
       "<div>\n",
       "<style scoped>\n",
       "    .dataframe tbody tr th:only-of-type {\n",
       "        vertical-align: middle;\n",
       "    }\n",
       "\n",
       "    .dataframe tbody tr th {\n",
       "        vertical-align: top;\n",
       "    }\n",
       "\n",
       "    .dataframe thead th {\n",
       "        text-align: right;\n",
       "    }\n",
       "</style>\n",
       "<table border=\"1\" class=\"dataframe\">\n",
       "  <thead>\n",
       "    <tr style=\"text-align: right;\">\n",
       "      <th></th>\n",
       "      <th>Price</th>\n",
       "      <th>VehicleType</th>\n",
       "      <th>RegistrationYear</th>\n",
       "      <th>Gearbox</th>\n",
       "      <th>Power</th>\n",
       "      <th>Model</th>\n",
       "      <th>Kilometer</th>\n",
       "      <th>FuelType</th>\n",
       "      <th>Brand</th>\n",
       "      <th>Repaired</th>\n",
       "    </tr>\n",
       "  </thead>\n",
       "  <tbody>\n",
       "    <tr>\n",
       "      <th>16</th>\n",
       "      <td>300</td>\n",
       "      <td>sedan</td>\n",
       "      <td>2016</td>\n",
       "      <td>NaN</td>\n",
       "      <td>60</td>\n",
       "      <td>polo</td>\n",
       "      <td>150000</td>\n",
       "      <td>petrol</td>\n",
       "      <td>volkswagen</td>\n",
       "      <td>NaN</td>\n",
       "    </tr>\n",
       "    <tr>\n",
       "      <th>32</th>\n",
       "      <td>245</td>\n",
       "      <td>sedan</td>\n",
       "      <td>1994</td>\n",
       "      <td>NaN</td>\n",
       "      <td>0</td>\n",
       "      <td>golf</td>\n",
       "      <td>150000</td>\n",
       "      <td>petrol</td>\n",
       "      <td>volkswagen</td>\n",
       "      <td>no</td>\n",
       "    </tr>\n",
       "    <tr>\n",
       "      <th>37</th>\n",
       "      <td>1500</td>\n",
       "      <td>sedan</td>\n",
       "      <td>2016</td>\n",
       "      <td>NaN</td>\n",
       "      <td>0</td>\n",
       "      <td>kangoo</td>\n",
       "      <td>150000</td>\n",
       "      <td>gasoline</td>\n",
       "      <td>renault</td>\n",
       "      <td>no</td>\n",
       "    </tr>\n",
       "    <tr>\n",
       "      <th>40</th>\n",
       "      <td>2700</td>\n",
       "      <td>sedan</td>\n",
       "      <td>1990</td>\n",
       "      <td>NaN</td>\n",
       "      <td>0</td>\n",
       "      <td>corsa</td>\n",
       "      <td>150000</td>\n",
       "      <td>petrol</td>\n",
       "      <td>opel</td>\n",
       "      <td>NaN</td>\n",
       "    </tr>\n",
       "    <tr>\n",
       "      <th>69</th>\n",
       "      <td>1200</td>\n",
       "      <td>coupe</td>\n",
       "      <td>2001</td>\n",
       "      <td>NaN</td>\n",
       "      <td>0</td>\n",
       "      <td>astra</td>\n",
       "      <td>150000</td>\n",
       "      <td>NaN</td>\n",
       "      <td>opel</td>\n",
       "      <td>NaN</td>\n",
       "    </tr>\n",
       "    <tr>\n",
       "      <th>...</th>\n",
       "      <td>...</td>\n",
       "      <td>...</td>\n",
       "      <td>...</td>\n",
       "      <td>...</td>\n",
       "      <td>...</td>\n",
       "      <td>...</td>\n",
       "      <td>...</td>\n",
       "      <td>...</td>\n",
       "      <td>...</td>\n",
       "      <td>...</td>\n",
       "    </tr>\n",
       "    <tr>\n",
       "      <th>354288</th>\n",
       "      <td>3300</td>\n",
       "      <td>wagon</td>\n",
       "      <td>2006</td>\n",
       "      <td>NaN</td>\n",
       "      <td>0</td>\n",
       "      <td>touran</td>\n",
       "      <td>150000</td>\n",
       "      <td>gasoline</td>\n",
       "      <td>volkswagen</td>\n",
       "      <td>NaN</td>\n",
       "    </tr>\n",
       "    <tr>\n",
       "      <th>354305</th>\n",
       "      <td>3500</td>\n",
       "      <td>sedan</td>\n",
       "      <td>1995</td>\n",
       "      <td>NaN</td>\n",
       "      <td>0</td>\n",
       "      <td>polo</td>\n",
       "      <td>150000</td>\n",
       "      <td>NaN</td>\n",
       "      <td>volkswagen</td>\n",
       "      <td>NaN</td>\n",
       "    </tr>\n",
       "    <tr>\n",
       "      <th>354329</th>\n",
       "      <td>350</td>\n",
       "      <td>small</td>\n",
       "      <td>1996</td>\n",
       "      <td>NaN</td>\n",
       "      <td>65</td>\n",
       "      <td>punto</td>\n",
       "      <td>150000</td>\n",
       "      <td>NaN</td>\n",
       "      <td>fiat</td>\n",
       "      <td>NaN</td>\n",
       "    </tr>\n",
       "    <tr>\n",
       "      <th>354338</th>\n",
       "      <td>180</td>\n",
       "      <td>sedan</td>\n",
       "      <td>1995</td>\n",
       "      <td>NaN</td>\n",
       "      <td>0</td>\n",
       "      <td>NaN</td>\n",
       "      <td>125000</td>\n",
       "      <td>petrol</td>\n",
       "      <td>opel</td>\n",
       "      <td>NaN</td>\n",
       "    </tr>\n",
       "    <tr>\n",
       "      <th>354365</th>\n",
       "      <td>2200</td>\n",
       "      <td>sedan</td>\n",
       "      <td>2005</td>\n",
       "      <td>NaN</td>\n",
       "      <td>0</td>\n",
       "      <td>NaN</td>\n",
       "      <td>20000</td>\n",
       "      <td>NaN</td>\n",
       "      <td>sonstige_autos</td>\n",
       "      <td>NaN</td>\n",
       "    </tr>\n",
       "  </tbody>\n",
       "</table>\n",
       "<p>17811 rows × 10 columns</p>\n",
       "</div>"
      ],
      "text/plain": [
       "        Price VehicleType  RegistrationYear Gearbox  Power   Model  Kilometer  \\\n",
       "16        300       sedan              2016     NaN     60    polo     150000   \n",
       "32        245       sedan              1994     NaN      0    golf     150000   \n",
       "37       1500       sedan              2016     NaN      0  kangoo     150000   \n",
       "40       2700       sedan              1990     NaN      0   corsa     150000   \n",
       "69       1200       coupe              2001     NaN      0   astra     150000   \n",
       "...       ...         ...               ...     ...    ...     ...        ...   \n",
       "354288   3300       wagon              2006     NaN      0  touran     150000   \n",
       "354305   3500       sedan              1995     NaN      0    polo     150000   \n",
       "354329    350       small              1996     NaN     65   punto     150000   \n",
       "354338    180       sedan              1995     NaN      0     NaN     125000   \n",
       "354365   2200       sedan              2005     NaN      0     NaN      20000   \n",
       "\n",
       "        FuelType           Brand Repaired  \n",
       "16        petrol      volkswagen      NaN  \n",
       "32        petrol      volkswagen       no  \n",
       "37      gasoline         renault       no  \n",
       "40        petrol            opel      NaN  \n",
       "69           NaN            opel      NaN  \n",
       "...          ...             ...      ...  \n",
       "354288  gasoline      volkswagen      NaN  \n",
       "354305       NaN      volkswagen      NaN  \n",
       "354329       NaN            fiat      NaN  \n",
       "354338    petrol            opel      NaN  \n",
       "354365       NaN  sonstige_autos      NaN  \n",
       "\n",
       "[17811 rows x 10 columns]"
      ]
     },
     "metadata": {},
     "output_type": "display_data"
    }
   ],
   "source": [
    "display(processed_data['Gearbox'].describe())\n",
    "display(processed_data[processed_data['Gearbox'].isna()])"
   ]
  },
  {
   "cell_type": "markdown",
   "metadata": {},
   "source": [
    "Количество автомобилей с механической (ручной) коробкой передач больше почти в четыре раза чем с автоматической. И при этом, у нас 17664 пропусков. Заменим их все на механический тип коробки."
   ]
  },
  {
   "cell_type": "code",
   "execution_count": 22,
   "metadata": {},
   "outputs": [
    {
     "data": {
      "text/plain": [
       "0"
      ]
     },
     "execution_count": 22,
     "metadata": {},
     "output_type": "execute_result"
    }
   ],
   "source": [
    "# Заменим пропуски в типе кузова на седан.\n",
    "processed_data['Gearbox'] = processed_data['Gearbox'].fillna('manual')\n",
    "# Проверим работу кода\n",
    "processed_data['Gearbox'].isna().sum()"
   ]
  },
  {
   "cell_type": "markdown",
   "metadata": {},
   "source": [
    "#### Мощность двигателя в л.с."
   ]
  },
  {
   "cell_type": "code",
   "execution_count": 23,
   "metadata": {},
   "outputs": [
    {
     "data": {
      "text/plain": [
       "0       36315\n",
       "75      22806\n",
       "60      15166\n",
       "150     14149\n",
       "101     12732\n",
       "        ...  \n",
       "1054        1\n",
       "851         1\n",
       "1339        1\n",
       "1659        1\n",
       "1241        1\n",
       "Name: Power, Length: 699, dtype: int64"
      ]
     },
     "execution_count": 23,
     "metadata": {},
     "output_type": "execute_result"
    }
   ],
   "source": [
    "processed_data['Power'].value_counts()"
   ]
  },
  {
   "cell_type": "code",
   "execution_count": 24,
   "metadata": {},
   "outputs": [
    {
     "data": {
      "text/plain": [
       "count    339575.00000\n",
       "mean        111.04993\n",
       "std         186.90360\n",
       "min           0.00000\n",
       "25%          69.00000\n",
       "50%         105.00000\n",
       "75%         143.00000\n",
       "max       20000.00000\n",
       "Name: Power, dtype: float64"
      ]
     },
     "execution_count": 24,
     "metadata": {},
     "output_type": "execute_result"
    }
   ],
   "source": [
    "processed_data['Power'].describe()"
   ]
  },
  {
   "cell_type": "code",
   "execution_count": 25,
   "metadata": {},
   "outputs": [
    {
     "data": {
      "image/png": "[encoded data removed]",
      "text/plain": [
       "<Figure size 1080x1080 with 1 Axes>"
      ]
     },
     "metadata": {
      "needs_background": "light"
     },
     "output_type": "display_data"
    }
   ],
   "source": [
    "processed_data.boxplot(column='Power', figsize=(15, 15))\n",
    "plt.show()"
   ]
  },
  {
   "cell_type": "markdown",
   "metadata": {},
   "source": [
    "20000 лошадиных сил - кажется, что кто-то пытается продать огромный контейнеровоз на площадке для продажи автомобилей. Но у нас есть 36137 автомобилей совсем без лошадиных сил, равных нулю.\n",
    "\n",
    "На данный момент самый мощный автомобиль Porsche 9FF F97 A-Max с 1400 лошадиных сил под капотом. Установим это значение для самого высокого порога."
   ]
  },
  {
   "cell_type": "code",
   "execution_count": 26,
   "metadata": {},
   "outputs": [],
   "source": [
    "processed_data = processed_data.query('Power < 1400')\n"
   ]
  },
  {
   "cell_type": "markdown",
   "metadata": {},
   "source": [
    "Для нулевых значений также укажем медианное значение для мощности двигателя."
   ]
  },
  {
   "cell_type": "code",
   "execution_count": 27,
   "metadata": {},
   "outputs": [
    {
     "data": {
      "text/plain": [
       "105     46272\n",
       "75      22806\n",
       "60      15166\n",
       "150     14149\n",
       "101     12732\n",
       "        ...  \n",
       "960         1\n",
       "489         1\n",
       "428         1\n",
       "1164        1\n",
       "1241        1\n",
       "Name: Power, Length: 541, dtype: int64"
      ]
     },
     "execution_count": 27,
     "metadata": {},
     "output_type": "execute_result"
    }
   ],
   "source": [
    "# Вычислим медианное значение по столбцу Price\n",
    "avg = processed_data['Power'].median()\n",
    "# Заменим нули на медианное значение\n",
    "processed_data['Power'] = processed_data['Power'].apply(lambda v: avg if v==0 else v)\n",
    "# Округлим полученное значение до целого цисла путем изменения формата данных\n",
    "processed_data['Power'] = processed_data['Power'].astype(int)\n",
    "# Проверим работу кода\n",
    "processed_data['Power'].value_counts()"
   ]
  },
  {
   "cell_type": "code",
   "execution_count": 28,
   "metadata": {},
   "outputs": [
    {
     "data": {
      "text/plain": [
       "<AxesSubplot: >"
      ]
     },
     "execution_count": 28,
     "metadata": {},
     "output_type": "execute_result"
    },
    {
     "data": {
      "image/png": "[encoded data removed]",
      "text/plain": [
       "<Figure size 1080x1080 with 1 Axes>"
      ]
     },
     "metadata": {
      "needs_background": "light"
     },
     "output_type": "display_data"
    }
   ],
   "source": [
    "# Проверим на гистограмме как прошла обработка выбросов\n",
    "processed_data['Power'].hist(figsize=(15, 15))"
   ]
  },
  {
   "cell_type": "code",
   "execution_count": 29,
   "metadata": {},
   "outputs": [
    {
     "data": {
      "image/png": "[encoded data removed]",
      "text/plain": [
       "<Figure size 1080x1080 with 1 Axes>"
      ]
     },
     "metadata": {
      "needs_background": "light"
     },
     "output_type": "display_data"
    }
   ],
   "source": [
    "processed_data.boxplot(column='Power', figsize=(15, 15))\n",
    "plt.show()"
   ]
  },
  {
   "cell_type": "markdown",
   "metadata": {},
   "source": [
    "Все еще много выбросов, но это могут быть уникальные машины со своими характеристиками. Посмотрим на машины с количеством лошадиных сил больше 400."
   ]
  },
  {
   "cell_type": "code",
   "execution_count": 30,
   "metadata": {},
   "outputs": [
    {
     "data": {
      "text/html": [
       "<div>\n",
       "<style scoped>\n",
       "    .dataframe tbody tr th:only-of-type {\n",
       "        vertical-align: middle;\n",
       "    }\n",
       "\n",
       "    .dataframe tbody tr th {\n",
       "        vertical-align: top;\n",
       "    }\n",
       "\n",
       "    .dataframe thead th {\n",
       "        text-align: right;\n",
       "    }\n",
       "</style>\n",
       "<table border=\"1\" class=\"dataframe\">\n",
       "  <thead>\n",
       "    <tr style=\"text-align: right;\">\n",
       "      <th></th>\n",
       "      <th>Price</th>\n",
       "      <th>VehicleType</th>\n",
       "      <th>RegistrationYear</th>\n",
       "      <th>Gearbox</th>\n",
       "      <th>Power</th>\n",
       "      <th>Model</th>\n",
       "      <th>Kilometer</th>\n",
       "      <th>FuelType</th>\n",
       "      <th>Brand</th>\n",
       "      <th>Repaired</th>\n",
       "    </tr>\n",
       "  </thead>\n",
       "  <tbody>\n",
       "    <tr>\n",
       "      <th>1816</th>\n",
       "      <td>3200</td>\n",
       "      <td>small</td>\n",
       "      <td>2004</td>\n",
       "      <td>manual</td>\n",
       "      <td>1398</td>\n",
       "      <td>corolla</td>\n",
       "      <td>5000</td>\n",
       "      <td>petrol</td>\n",
       "      <td>toyota</td>\n",
       "      <td>no</td>\n",
       "    </tr>\n",
       "    <tr>\n",
       "      <th>2781</th>\n",
       "      <td>19500</td>\n",
       "      <td>suv</td>\n",
       "      <td>2004</td>\n",
       "      <td>auto</td>\n",
       "      <td>450</td>\n",
       "      <td>cayenne</td>\n",
       "      <td>125000</td>\n",
       "      <td>petrol</td>\n",
       "      <td>porsche</td>\n",
       "      <td>no</td>\n",
       "    </tr>\n",
       "    <tr>\n",
       "      <th>3289</th>\n",
       "      <td>16899</td>\n",
       "      <td>wagon</td>\n",
       "      <td>2003</td>\n",
       "      <td>auto</td>\n",
       "      <td>476</td>\n",
       "      <td>e_klasse</td>\n",
       "      <td>150000</td>\n",
       "      <td>petrol</td>\n",
       "      <td>mercedes_benz</td>\n",
       "      <td>no</td>\n",
       "    </tr>\n",
       "    <tr>\n",
       "      <th>4060</th>\n",
       "      <td>3100</td>\n",
       "      <td>sedan</td>\n",
       "      <td>2005</td>\n",
       "      <td>manual</td>\n",
       "      <td>953</td>\n",
       "      <td>colt</td>\n",
       "      <td>150000</td>\n",
       "      <td>gasoline</td>\n",
       "      <td>mitsubishi</td>\n",
       "      <td>no</td>\n",
       "    </tr>\n",
       "    <tr>\n",
       "      <th>4310</th>\n",
       "      <td>2700</td>\n",
       "      <td>sedan</td>\n",
       "      <td>2007</td>\n",
       "      <td>manual</td>\n",
       "      <td>500</td>\n",
       "      <td>5er</td>\n",
       "      <td>100000</td>\n",
       "      <td>NaN</td>\n",
       "      <td>bmw</td>\n",
       "      <td>no</td>\n",
       "    </tr>\n",
       "    <tr>\n",
       "      <th>...</th>\n",
       "      <td>...</td>\n",
       "      <td>...</td>\n",
       "      <td>...</td>\n",
       "      <td>...</td>\n",
       "      <td>...</td>\n",
       "      <td>...</td>\n",
       "      <td>...</td>\n",
       "      <td>...</td>\n",
       "      <td>...</td>\n",
       "      <td>...</td>\n",
       "    </tr>\n",
       "    <tr>\n",
       "      <th>352322</th>\n",
       "      <td>15999</td>\n",
       "      <td>wagon</td>\n",
       "      <td>2007</td>\n",
       "      <td>auto</td>\n",
       "      <td>435</td>\n",
       "      <td>other</td>\n",
       "      <td>150000</td>\n",
       "      <td>petrol</td>\n",
       "      <td>audi</td>\n",
       "      <td>no</td>\n",
       "    </tr>\n",
       "    <tr>\n",
       "      <th>353633</th>\n",
       "      <td>2400</td>\n",
       "      <td>sedan</td>\n",
       "      <td>2007</td>\n",
       "      <td>manual</td>\n",
       "      <td>650</td>\n",
       "      <td>c2</td>\n",
       "      <td>150000</td>\n",
       "      <td>petrol</td>\n",
       "      <td>citroen</td>\n",
       "      <td>NaN</td>\n",
       "    </tr>\n",
       "    <tr>\n",
       "      <th>354045</th>\n",
       "      <td>20000</td>\n",
       "      <td>coupe</td>\n",
       "      <td>2006</td>\n",
       "      <td>auto</td>\n",
       "      <td>476</td>\n",
       "      <td>other</td>\n",
       "      <td>125000</td>\n",
       "      <td>petrol</td>\n",
       "      <td>mercedes_benz</td>\n",
       "      <td>no</td>\n",
       "    </tr>\n",
       "    <tr>\n",
       "      <th>354260</th>\n",
       "      <td>399</td>\n",
       "      <td>other0</td>\n",
       "      <td>1994</td>\n",
       "      <td>manual</td>\n",
       "      <td>1103</td>\n",
       "      <td>3er</td>\n",
       "      <td>150000</td>\n",
       "      <td>NaN</td>\n",
       "      <td>bmw</td>\n",
       "      <td>NaN</td>\n",
       "    </tr>\n",
       "    <tr>\n",
       "      <th>354337</th>\n",
       "      <td>11500</td>\n",
       "      <td>sedan</td>\n",
       "      <td>2004</td>\n",
       "      <td>auto</td>\n",
       "      <td>445</td>\n",
       "      <td>7er</td>\n",
       "      <td>125000</td>\n",
       "      <td>petrol</td>\n",
       "      <td>bmw</td>\n",
       "      <td>NaN</td>\n",
       "    </tr>\n",
       "  </tbody>\n",
       "</table>\n",
       "<p>486 rows × 10 columns</p>\n",
       "</div>"
      ],
      "text/plain": [
       "        Price VehicleType  RegistrationYear Gearbox  Power     Model  \\\n",
       "1816     3200       small              2004  manual   1398   corolla   \n",
       "2781    19500         suv              2004    auto    450   cayenne   \n",
       "3289    16899       wagon              2003    auto    476  e_klasse   \n",
       "4060     3100       sedan              2005  manual    953      colt   \n",
       "4310     2700       sedan              2007  manual    500       5er   \n",
       "...       ...         ...               ...     ...    ...       ...   \n",
       "352322  15999       wagon              2007    auto    435     other   \n",
       "353633   2400       sedan              2007  manual    650        c2   \n",
       "354045  20000       coupe              2006    auto    476     other   \n",
       "354260    399      other0              1994  manual   1103       3er   \n",
       "354337  11500       sedan              2004    auto    445       7er   \n",
       "\n",
       "        Kilometer  FuelType          Brand Repaired  \n",
       "1816         5000    petrol         toyota       no  \n",
       "2781       125000    petrol        porsche       no  \n",
       "3289       150000    petrol  mercedes_benz       no  \n",
       "4060       150000  gasoline     mitsubishi       no  \n",
       "4310       100000       NaN            bmw       no  \n",
       "...           ...       ...            ...      ...  \n",
       "352322     150000    petrol           audi       no  \n",
       "353633     150000    petrol        citroen      NaN  \n",
       "354045     125000    petrol  mercedes_benz       no  \n",
       "354260     150000       NaN            bmw      NaN  \n",
       "354337     125000    petrol            bmw      NaN  \n",
       "\n",
       "[486 rows x 10 columns]"
      ]
     },
     "execution_count": 30,
     "metadata": {},
     "output_type": "execute_result"
    }
   ],
   "source": [
    "processed_data.query('Power > 400')"
   ]
  },
  {
   "cell_type": "markdown",
   "metadata": {},
   "source": [
    "485 машин с очень мощными движками, но вот первая же строка вызывает подозрения, что у короллы с кузовом small указан объем двигателя, а не лошадиные силы. Такие ошибки и выбросы могут влиять на модели, уберу все значения, которые превышают 450 лошадиных сил."
   ]
  },
  {
   "cell_type": "code",
   "execution_count": 31,
   "metadata": {},
   "outputs": [],
   "source": [
    "processed_data = processed_data.query('Power < 450')"
   ]
  },
  {
   "cell_type": "code",
   "execution_count": 32,
   "metadata": {},
   "outputs": [
    {
     "data": {
      "text/plain": [
       "<AxesSubplot: >"
      ]
     },
     "execution_count": 32,
     "metadata": {},
     "output_type": "execute_result"
    },
    {
     "data": {
      "image/png": "[encoded data removed]",
      "text/plain": [
       "<Figure size 1080x1080 with 1 Axes>"
      ]
     },
     "metadata": {
      "needs_background": "light"
     },
     "output_type": "display_data"
    }
   ],
   "source": [
    "# Проверим на гистограмме как прошла обработка выбросов\n",
    "processed_data['Power'].hist(figsize=(15, 15))"
   ]
  },
  {
   "cell_type": "markdown",
   "metadata": {},
   "source": [
    "Теперь на гистограмме также заметны автомобили, мощность которых почти равна нулю, посмотрим на них."
   ]
  },
  {
   "cell_type": "code",
   "execution_count": 33,
   "metadata": {},
   "outputs": [
    {
     "data": {
      "text/html": [
       "<div>\n",
       "<style scoped>\n",
       "    .dataframe tbody tr th:only-of-type {\n",
       "        vertical-align: middle;\n",
       "    }\n",
       "\n",
       "    .dataframe tbody tr th {\n",
       "        vertical-align: top;\n",
       "    }\n",
       "\n",
       "    .dataframe thead th {\n",
       "        text-align: right;\n",
       "    }\n",
       "</style>\n",
       "<table border=\"1\" class=\"dataframe\">\n",
       "  <thead>\n",
       "    <tr style=\"text-align: right;\">\n",
       "      <th></th>\n",
       "      <th>Price</th>\n",
       "      <th>VehicleType</th>\n",
       "      <th>RegistrationYear</th>\n",
       "      <th>Gearbox</th>\n",
       "      <th>Power</th>\n",
       "      <th>Model</th>\n",
       "      <th>Kilometer</th>\n",
       "      <th>FuelType</th>\n",
       "      <th>Brand</th>\n",
       "      <th>Repaired</th>\n",
       "    </tr>\n",
       "  </thead>\n",
       "  <tbody>\n",
       "    <tr>\n",
       "      <th>431</th>\n",
       "      <td>3950</td>\n",
       "      <td>small</td>\n",
       "      <td>2004</td>\n",
       "      <td>auto</td>\n",
       "      <td>5</td>\n",
       "      <td>NaN</td>\n",
       "      <td>70000</td>\n",
       "      <td>gasoline</td>\n",
       "      <td>sonstige_autos</td>\n",
       "      <td>no</td>\n",
       "    </tr>\n",
       "    <tr>\n",
       "      <th>1235</th>\n",
       "      <td>4450</td>\n",
       "      <td>small</td>\n",
       "      <td>1971</td>\n",
       "      <td>manual</td>\n",
       "      <td>23</td>\n",
       "      <td>500</td>\n",
       "      <td>70000</td>\n",
       "      <td>petrol</td>\n",
       "      <td>fiat</td>\n",
       "      <td>no</td>\n",
       "    </tr>\n",
       "    <tr>\n",
       "      <th>3349</th>\n",
       "      <td>1990</td>\n",
       "      <td>small</td>\n",
       "      <td>2004</td>\n",
       "      <td>manual</td>\n",
       "      <td>7</td>\n",
       "      <td>polo</td>\n",
       "      <td>150000</td>\n",
       "      <td>gasoline</td>\n",
       "      <td>volkswagen</td>\n",
       "      <td>no</td>\n",
       "    </tr>\n",
       "    <tr>\n",
       "      <th>4637</th>\n",
       "      <td>870</td>\n",
       "      <td>wagon</td>\n",
       "      <td>2000</td>\n",
       "      <td>manual</td>\n",
       "      <td>16</td>\n",
       "      <td>focus</td>\n",
       "      <td>150000</td>\n",
       "      <td>NaN</td>\n",
       "      <td>ford</td>\n",
       "      <td>no</td>\n",
       "    </tr>\n",
       "    <tr>\n",
       "      <th>9561</th>\n",
       "      <td>9000</td>\n",
       "      <td>sedan</td>\n",
       "      <td>2009</td>\n",
       "      <td>manual</td>\n",
       "      <td>2</td>\n",
       "      <td>a4</td>\n",
       "      <td>5000</td>\n",
       "      <td>gasoline</td>\n",
       "      <td>audi</td>\n",
       "      <td>NaN</td>\n",
       "    </tr>\n",
       "    <tr>\n",
       "      <th>...</th>\n",
       "      <td>...</td>\n",
       "      <td>...</td>\n",
       "      <td>...</td>\n",
       "      <td>...</td>\n",
       "      <td>...</td>\n",
       "      <td>...</td>\n",
       "      <td>...</td>\n",
       "      <td>...</td>\n",
       "      <td>...</td>\n",
       "      <td>...</td>\n",
       "    </tr>\n",
       "    <tr>\n",
       "      <th>349666</th>\n",
       "      <td>1500</td>\n",
       "      <td>sedan</td>\n",
       "      <td>2016</td>\n",
       "      <td>manual</td>\n",
       "      <td>2</td>\n",
       "      <td>NaN</td>\n",
       "      <td>150000</td>\n",
       "      <td>gasoline</td>\n",
       "      <td>volkswagen</td>\n",
       "      <td>NaN</td>\n",
       "    </tr>\n",
       "    <tr>\n",
       "      <th>350502</th>\n",
       "      <td>6200</td>\n",
       "      <td>small</td>\n",
       "      <td>1964</td>\n",
       "      <td>manual</td>\n",
       "      <td>20</td>\n",
       "      <td>NaN</td>\n",
       "      <td>40000</td>\n",
       "      <td>petrol</td>\n",
       "      <td>sonstige_autos</td>\n",
       "      <td>no</td>\n",
       "    </tr>\n",
       "    <tr>\n",
       "      <th>353127</th>\n",
       "      <td>8600</td>\n",
       "      <td>convertible</td>\n",
       "      <td>2012</td>\n",
       "      <td>manual</td>\n",
       "      <td>8</td>\n",
       "      <td>NaN</td>\n",
       "      <td>5000</td>\n",
       "      <td>gasoline</td>\n",
       "      <td>sonstige_autos</td>\n",
       "      <td>no</td>\n",
       "    </tr>\n",
       "    <tr>\n",
       "      <th>353447</th>\n",
       "      <td>2900</td>\n",
       "      <td>small</td>\n",
       "      <td>1969</td>\n",
       "      <td>manual</td>\n",
       "      <td>18</td>\n",
       "      <td>500</td>\n",
       "      <td>5000</td>\n",
       "      <td>petrol</td>\n",
       "      <td>fiat</td>\n",
       "      <td>no</td>\n",
       "    </tr>\n",
       "    <tr>\n",
       "      <th>354360</th>\n",
       "      <td>3999</td>\n",
       "      <td>wagon</td>\n",
       "      <td>2005</td>\n",
       "      <td>manual</td>\n",
       "      <td>3</td>\n",
       "      <td>3er</td>\n",
       "      <td>150000</td>\n",
       "      <td>gasoline</td>\n",
       "      <td>bmw</td>\n",
       "      <td>no</td>\n",
       "    </tr>\n",
       "  </tbody>\n",
       "</table>\n",
       "<p>485 rows × 10 columns</p>\n",
       "</div>"
      ],
      "text/plain": [
       "        Price  VehicleType  RegistrationYear Gearbox  Power  Model  Kilometer  \\\n",
       "431      3950        small              2004    auto      5    NaN      70000   \n",
       "1235     4450        small              1971  manual     23    500      70000   \n",
       "3349     1990        small              2004  manual      7   polo     150000   \n",
       "4637      870        wagon              2000  manual     16  focus     150000   \n",
       "9561     9000        sedan              2009  manual      2     a4       5000   \n",
       "...       ...          ...               ...     ...    ...    ...        ...   \n",
       "349666   1500        sedan              2016  manual      2    NaN     150000   \n",
       "350502   6200        small              1964  manual     20    NaN      40000   \n",
       "353127   8600  convertible              2012  manual      8    NaN       5000   \n",
       "353447   2900        small              1969  manual     18    500       5000   \n",
       "354360   3999        wagon              2005  manual      3    3er     150000   \n",
       "\n",
       "        FuelType           Brand Repaired  \n",
       "431     gasoline  sonstige_autos       no  \n",
       "1235      petrol            fiat       no  \n",
       "3349    gasoline      volkswagen       no  \n",
       "4637         NaN            ford       no  \n",
       "9561    gasoline            audi      NaN  \n",
       "...          ...             ...      ...  \n",
       "349666  gasoline      volkswagen      NaN  \n",
       "350502    petrol  sonstige_autos       no  \n",
       "353127  gasoline  sonstige_autos       no  \n",
       "353447    petrol            fiat       no  \n",
       "354360  gasoline             bmw       no  \n",
       "\n",
       "[485 rows x 10 columns]"
      ]
     },
     "execution_count": 33,
     "metadata": {},
     "output_type": "execute_result"
    }
   ],
   "source": [
    "processed_data.query('Power < 25')"
   ]
  },
  {
   "cell_type": "markdown",
   "metadata": {},
   "source": [
    "Конечно есть такие автомобили как Une Voiture Sans Permis с 5 лошадиными силами, но давайте считать, что меньше 25 лошадиных сил - это уже ошибка, уберем эти значения из дата сета."
   ]
  },
  {
   "cell_type": "code",
   "execution_count": 34,
   "metadata": {},
   "outputs": [],
   "source": [
    "processed_data = processed_data.query('Power > 25')"
   ]
  },
  {
   "cell_type": "code",
   "execution_count": 35,
   "metadata": {},
   "outputs": [
    {
     "data": {
      "text/plain": [
       "<AxesSubplot: >"
      ]
     },
     "execution_count": 35,
     "metadata": {},
     "output_type": "execute_result"
    },
    {
     "data": {
      "image/png": "[encoded data removed]",
      "text/plain": [
       "<Figure size 1080x1080 with 1 Axes>"
      ]
     },
     "metadata": {
      "needs_background": "light"
     },
     "output_type": "display_data"
    }
   ],
   "source": [
    "# Проверим на гистограмме как прошла обработка выбросов\n",
    "processed_data['Power'].hist(figsize=(15, 15))"
   ]
  },
  {
   "cell_type": "markdown",
   "metadata": {},
   "source": [
    "#### Модель"
   ]
  },
  {
   "cell_type": "code",
   "execution_count": 36,
   "metadata": {},
   "outputs": [
    {
     "data": {
      "text/plain": [
       "golf                  27576\n",
       "other                 23637\n",
       "3er                   19199\n",
       "polo                  12429\n",
       "corsa                 11915\n",
       "                      ...  \n",
       "kalina                    6\n",
       "serie_3                   4\n",
       "rangerover                3\n",
       "range_rover_evoque        2\n",
       "serie_1                   2\n",
       "Name: Model, Length: 250, dtype: int64"
      ]
     },
     "execution_count": 36,
     "metadata": {},
     "output_type": "execute_result"
    }
   ],
   "source": [
    "processed_data['Model'].value_counts()"
   ]
  },
  {
   "cell_type": "code",
   "execution_count": 37,
   "metadata": {},
   "outputs": [
    {
     "data": {
      "text/plain": [
       "17247"
      ]
     },
     "execution_count": 37,
     "metadata": {},
     "output_type": "execute_result"
    }
   ],
   "source": [
    "processed_data['Model'].isna().sum()"
   ]
  },
  {
   "cell_type": "markdown",
   "metadata": {},
   "source": [
    "Самая популярная модель - гольф, но у нас есть 17101 пропуск. Так как следующая популярная модель значится как другое(англ. other), то заменим пропуски на это значение."
   ]
  },
  {
   "cell_type": "code",
   "execution_count": 38,
   "metadata": {},
   "outputs": [
    {
     "data": {
      "text/plain": [
       "0"
      ]
     },
     "execution_count": 38,
     "metadata": {},
     "output_type": "execute_result"
    }
   ],
   "source": [
    "# Заменим пропуски в типе модели на 'другое2'\n",
    "# так как у нас уже есть столбец со значением other и это вызовет ошибку позже.\n",
    "processed_data['Model'] = processed_data['Model'].fillna('other2')\n",
    "# Нам также нужно заменить в этом столбце все значение other на other2\n",
    "processed_data = processed_data.replace({'Model':{'other' : 'other2'}})\n",
    "# Проверим работу кода\n",
    "processed_data['Model'].isna().sum()"
   ]
  },
  {
   "cell_type": "markdown",
   "metadata": {},
   "source": [
    "#### Пробег"
   ]
  },
  {
   "cell_type": "code",
   "execution_count": 39,
   "metadata": {},
   "outputs": [
    {
     "data": {
      "text/plain": [
       "150000    227094\n",
       "125000     34977\n",
       "100000     14352\n",
       "90000      11160\n",
       "80000       9730\n",
       "70000       8329\n",
       "60000       7248\n",
       "50000       6021\n",
       "5000        5730\n",
       "40000       4768\n",
       "30000       4254\n",
       "20000       3741\n",
       "10000       1093\n",
       "Name: Kilometer, dtype: int64"
      ]
     },
     "execution_count": 39,
     "metadata": {},
     "output_type": "execute_result"
    }
   ],
   "source": [
    "# Проверим значения в столбце\n",
    "processed_data['Kilometer'].value_counts()"
   ]
  },
  {
   "cell_type": "code",
   "execution_count": 40,
   "metadata": {},
   "outputs": [
    {
     "data": {
      "text/plain": [
       "count    338497.000000\n",
       "mean     128231.343262\n",
       "std       37714.937796\n",
       "min        5000.000000\n",
       "25%      125000.000000\n",
       "50%      150000.000000\n",
       "75%      150000.000000\n",
       "max      150000.000000\n",
       "Name: Kilometer, dtype: float64"
      ]
     },
     "execution_count": 40,
     "metadata": {},
     "output_type": "execute_result"
    }
   ],
   "source": [
    "processed_data['Kilometer'].describe()"
   ]
  },
  {
   "cell_type": "code",
   "execution_count": 41,
   "metadata": {},
   "outputs": [
    {
     "data": {
      "text/plain": [
       "0"
      ]
     },
     "execution_count": 41,
     "metadata": {},
     "output_type": "execute_result"
    }
   ],
   "source": [
    "processed_data['Kilometer'].isna().sum()"
   ]
  },
  {
   "cell_type": "markdown",
   "metadata": {},
   "source": [
    "Пропусков нет, отрицательных значений нет, можно ничего не менять."
   ]
  },
  {
   "cell_type": "markdown",
   "metadata": {},
   "source": [
    "#### Тип топлива"
   ]
  },
  {
   "cell_type": "code",
   "execution_count": 42,
   "metadata": {},
   "outputs": [
    {
     "data": {
      "text/plain": [
       "petrol      209241\n",
       "gasoline     96103\n",
       "lpg           5148\n",
       "cng            540\n",
       "hybrid         224\n",
       "other          179\n",
       "electric        51\n",
       "Name: FuelType, dtype: int64"
      ]
     },
     "execution_count": 42,
     "metadata": {},
     "output_type": "execute_result"
    }
   ],
   "source": [
    "# Посмотрим значения в столбце с типом топлива\n",
    "processed_data['FuelType'].value_counts()"
   ]
  },
  {
   "cell_type": "code",
   "execution_count": 43,
   "metadata": {},
   "outputs": [
    {
     "data": {
      "text/plain": [
       "27011"
      ]
     },
     "execution_count": 43,
     "metadata": {},
     "output_type": "execute_result"
    }
   ],
   "source": [
    "processed_data['FuelType'].isna().sum()"
   ]
  },
  {
   "cell_type": "markdown",
   "metadata": {},
   "source": [
    "А вот здесь интересно, обратимся к словарю:\n",
    "\n",
    "petrol - бензин, топливо, нефть, горючее, статье, бензиновый;\\\n",
    "gasoline - бензин, топливо, горючее, газ, газолин, бензиновый, бензины;\\\n",
    "lpg -  сжиженный газ (пропан-бутан);\\\n",
    "cng - сжатый природный газ (метан);\n",
    "\n",
    "То есть в таблице отсутствуют дизельные варианты автомобилей, и при этом для бензинового двигателя указаны два синонима. Заменим gasoline на petrol, так как первое значение превалирует."
   ]
  },
  {
   "cell_type": "code",
   "execution_count": 44,
   "metadata": {},
   "outputs": [
    {
     "data": {
      "text/plain": [
       "petrol      305344\n",
       "lpg           5148\n",
       "cng            540\n",
       "hybrid         224\n",
       "other          179\n",
       "electric        51\n",
       "Name: FuelType, dtype: int64"
      ]
     },
     "execution_count": 44,
     "metadata": {},
     "output_type": "execute_result"
    }
   ],
   "source": [
    "# Заменим gasoline на petrol\n",
    "\n",
    "processed_data = processed_data.replace({'FuelType':{'gasoline' : 'petrol'}})\n",
    "processed_data['FuelType'].value_counts()\n"
   ]
  },
  {
   "cell_type": "code",
   "execution_count": 45,
   "metadata": {},
   "outputs": [
    {
     "data": {
      "text/plain": [
       "0"
      ]
     },
     "execution_count": 45,
     "metadata": {},
     "output_type": "execute_result"
    }
   ],
   "source": [
    "# Заменим пропуски в типе топлива на 'petrol'.\n",
    "processed_data['FuelType'] = processed_data['FuelType'].fillna('petrol')\n",
    "# Проверим работу кода\n",
    "processed_data['FuelType'].isna().sum()"
   ]
  },
  {
   "cell_type": "markdown",
   "metadata": {},
   "source": [
    "#### Бренд автомобиля"
   ]
  },
  {
   "cell_type": "code",
   "execution_count": 46,
   "metadata": {},
   "outputs": [
    {
     "data": {
      "text/plain": [
       "volkswagen        73054\n",
       "opel              37903\n",
       "bmw               35727\n",
       "mercedes_benz     30895\n",
       "audi              28373\n",
       "ford              24114\n",
       "renault           16865\n",
       "peugeot           10612\n",
       "fiat               9028\n",
       "seat               6516\n",
       "mazda              5394\n",
       "skoda              5354\n",
       "smart              5020\n",
       "citroen            4889\n",
       "nissan             4737\n",
       "toyota             4453\n",
       "hyundai            3442\n",
       "volvo              3139\n",
       "mini               3091\n",
       "sonstige_autos     2922\n",
       "mitsubishi         2904\n",
       "honda              2683\n",
       "kia                2361\n",
       "suzuki             2246\n",
       "alfa_romeo         2229\n",
       "chevrolet          1692\n",
       "chrysler           1387\n",
       "dacia               873\n",
       "daihatsu            780\n",
       "subaru              738\n",
       "porsche             706\n",
       "jeep                645\n",
       "trabant             548\n",
       "land_rover          536\n",
       "saab                514\n",
       "daewoo              511\n",
       "jaguar              497\n",
       "rover               458\n",
       "lancia              443\n",
       "lada                218\n",
       "Name: Brand, dtype: int64"
      ]
     },
     "execution_count": 46,
     "metadata": {},
     "output_type": "execute_result"
    }
   ],
   "source": [
    "# Посмотрим значения в столбце с брендами\n",
    "processed_data['Brand'].value_counts()"
   ]
  },
  {
   "cell_type": "code",
   "execution_count": 47,
   "metadata": {},
   "outputs": [
    {
     "data": {
      "text/plain": [
       "0"
      ]
     },
     "execution_count": 47,
     "metadata": {},
     "output_type": "execute_result"
    }
   ],
   "source": [
    "processed_data['Brand'].isna().sum()"
   ]
  },
  {
   "cell_type": "markdown",
   "metadata": {},
   "source": [
    "Пропусков нет, неявных дубликатов не обнаружено, можно ничего не менять."
   ]
  },
  {
   "cell_type": "markdown",
   "metadata": {},
   "source": [
    "#### Факт ремонта"
   ]
  },
  {
   "cell_type": "code",
   "execution_count": 48,
   "metadata": {},
   "outputs": [
    {
     "data": {
      "text/plain": [
       "no     239379\n",
       "yes     34731\n",
       "Name: Repaired, dtype: int64"
      ]
     },
     "execution_count": 48,
     "metadata": {},
     "output_type": "execute_result"
    }
   ],
   "source": [
    "# Посмотрим значения в поле с данными о осуществленном ремонте автомобиля\n",
    "processed_data['Repaired'].value_counts()"
   ]
  },
  {
   "cell_type": "code",
   "execution_count": 49,
   "metadata": {},
   "outputs": [
    {
     "data": {
      "text/plain": [
       "64387"
      ]
     },
     "execution_count": 49,
     "metadata": {},
     "output_type": "execute_result"
    }
   ],
   "source": [
    "processed_data['Repaired'].isna().sum()"
   ]
  },
  {
   "cell_type": "markdown",
   "metadata": {},
   "source": [
    "64 тысячи пропусков. Порой даже мастер с 20-ним опытом не сможет сразу сказать, был ли автомобиль в ремонте. Мы же их даже не видим, нам не остается ничего другого как заменить пропуски на \"неизвестно\"."
   ]
  },
  {
   "cell_type": "code",
   "execution_count": 50,
   "metadata": {
    "scrolled": true
   },
   "outputs": [
    {
     "data": {
      "text/plain": [
       "0"
      ]
     },
     "execution_count": 50,
     "metadata": {},
     "output_type": "execute_result"
    }
   ],
   "source": [
    "# Заменим пропуски\n",
    "processed_data['Repaired'] = processed_data['Repaired'].fillna('unknown')\n",
    "\n",
    "# Проверим работу кода\n",
    "processed_data['Repaired'].isna().sum()"
   ]
  },
  {
   "cell_type": "markdown",
   "metadata": {},
   "source": [
    "#### Дубликаты"
   ]
  },
  {
   "cell_type": "code",
   "execution_count": 93,
   "metadata": {},
   "outputs": [
    {
     "data": {
      "text/plain": [
       "0"
      ]
     },
     "execution_count": 93,
     "metadata": {},
     "output_type": "execute_result"
    }
   ],
   "source": [
    "# Удалим дубликаты\n",
    "processed_data = processed_data.drop_duplicates().reset_index(drop=True)\n",
    "\n",
    "# Проверим работу кода\n",
    "processed_data.duplicated().sum()"
   ]
  },
  {
   "cell_type": "markdown",
   "metadata": {},
   "source": [
    "#### Обзор после предобработки данных "
   ]
  },
  {
   "cell_type": "code",
   "execution_count": 52,
   "metadata": {},
   "outputs": [
    {
     "name": "stdout",
     "output_type": "stream",
     "text": [
      "<class 'pandas.core.frame.DataFrame'>\n",
      "RangeIndex: 289330 entries, 0 to 289329\n",
      "Data columns (total 10 columns):\n",
      " #   Column            Non-Null Count   Dtype \n",
      "---  ------            --------------   ----- \n",
      " 0   Price             289330 non-null  int32 \n",
      " 1   VehicleType       289330 non-null  object\n",
      " 2   RegistrationYear  289330 non-null  int64 \n",
      " 3   Gearbox           289330 non-null  object\n",
      " 4   Power             289330 non-null  int32 \n",
      " 5   Model             289330 non-null  object\n",
      " 6   Kilometer         289330 non-null  int64 \n",
      " 7   FuelType          289330 non-null  object\n",
      " 8   Brand             289330 non-null  object\n",
      " 9   Repaired          289330 non-null  object\n",
      "dtypes: int32(2), int64(2), object(6)\n",
      "memory usage: 19.9+ MB\n"
     ]
    }
   ],
   "source": [
    "# посмотрим на все данные после обработки\n",
    "processed_data.info()"
   ]
  },
  {
   "cell_type": "code",
   "execution_count": 53,
   "metadata": {},
   "outputs": [
    {
     "data": {
      "text/plain": [
       "Price               0\n",
       "VehicleType         0\n",
       "RegistrationYear    0\n",
       "Gearbox             0\n",
       "Power               0\n",
       "Model               0\n",
       "Kilometer           0\n",
       "FuelType            0\n",
       "Brand               0\n",
       "Repaired            0\n",
       "dtype: int64"
      ]
     },
     "execution_count": 53,
     "metadata": {},
     "output_type": "execute_result"
    }
   ],
   "source": [
    "processed_data.isna().sum()"
   ]
  },
  {
   "cell_type": "code",
   "execution_count": 54,
   "metadata": {},
   "outputs": [
    {
     "data": {
      "text/plain": [
       "<seaborn.axisgrid.PairGrid at 0x1ccacbbed70>"
      ]
     },
     "execution_count": 54,
     "metadata": {},
     "output_type": "execute_result"
    },
    {
     "data": {
      "image/png": "[encoded data removed]",
      "text/plain": [
       "<Figure size 607.5x540 with 12 Axes>"
      ]
     },
     "metadata": {
      "needs_background": "light"
     },
     "output_type": "display_data"
    }
   ],
   "source": [
    "# график взаимосвязи исходных данных с ценой\n",
    "sns.pairplot(processed_data, hue='Price')"
   ]
  },
  {
   "cell_type": "code",
   "execution_count": 55,
   "metadata": {},
   "outputs": [
    {
     "name": "stdout",
     "output_type": "stream",
     "text": [
      "interval columns not set, guessing: ['Price', 'RegistrationYear', 'Power', 'Kilometer']\n"
     ]
    },
    {
     "data": {
      "text/html": [
       "<div>\n",
       "<style scoped>\n",
       "    .dataframe tbody tr th:only-of-type {\n",
       "        vertical-align: middle;\n",
       "    }\n",
       "\n",
       "    .dataframe tbody tr th {\n",
       "        vertical-align: top;\n",
       "    }\n",
       "\n",
       "    .dataframe thead th {\n",
       "        text-align: right;\n",
       "    }\n",
       "</style>\n",
       "<table border=\"1\" class=\"dataframe\">\n",
       "  <thead>\n",
       "    <tr style=\"text-align: right;\">\n",
       "      <th></th>\n",
       "      <th>Price</th>\n",
       "      <th>VehicleType</th>\n",
       "      <th>RegistrationYear</th>\n",
       "      <th>Gearbox</th>\n",
       "      <th>Power</th>\n",
       "      <th>Model</th>\n",
       "      <th>Kilometer</th>\n",
       "      <th>FuelType</th>\n",
       "      <th>Brand</th>\n",
       "      <th>Repaired</th>\n",
       "    </tr>\n",
       "  </thead>\n",
       "  <tbody>\n",
       "    <tr>\n",
       "      <th>Price</th>\n",
       "      <td>1.00</td>\n",
       "      <td>0.25</td>\n",
       "      <td>0.63</td>\n",
       "      <td>0.31</td>\n",
       "      <td>0.50</td>\n",
       "      <td>0.57</td>\n",
       "      <td>0.31</td>\n",
       "      <td>0.05</td>\n",
       "      <td>0.35</td>\n",
       "      <td>0.36</td>\n",
       "    </tr>\n",
       "    <tr>\n",
       "      <th>VehicleType</th>\n",
       "      <td>0.25</td>\n",
       "      <td>1.00</td>\n",
       "      <td>0.18</td>\n",
       "      <td>0.26</td>\n",
       "      <td>0.45</td>\n",
       "      <td>0.90</td>\n",
       "      <td>0.18</td>\n",
       "      <td>0.08</td>\n",
       "      <td>0.61</td>\n",
       "      <td>0.14</td>\n",
       "    </tr>\n",
       "    <tr>\n",
       "      <th>RegistrationYear</th>\n",
       "      <td>0.63</td>\n",
       "      <td>0.18</td>\n",
       "      <td>1.00</td>\n",
       "      <td>0.11</td>\n",
       "      <td>0.23</td>\n",
       "      <td>0.62</td>\n",
       "      <td>0.37</td>\n",
       "      <td>0.07</td>\n",
       "      <td>0.40</td>\n",
       "      <td>0.23</td>\n",
       "    </tr>\n",
       "    <tr>\n",
       "      <th>Gearbox</th>\n",
       "      <td>0.31</td>\n",
       "      <td>0.26</td>\n",
       "      <td>0.11</td>\n",
       "      <td>1.00</td>\n",
       "      <td>0.55</td>\n",
       "      <td>0.60</td>\n",
       "      <td>0.03</td>\n",
       "      <td>0.10</td>\n",
       "      <td>0.49</td>\n",
       "      <td>0.04</td>\n",
       "    </tr>\n",
       "    <tr>\n",
       "      <th>Power</th>\n",
       "      <td>0.50</td>\n",
       "      <td>0.45</td>\n",
       "      <td>0.23</td>\n",
       "      <td>0.55</td>\n",
       "      <td>1.00</td>\n",
       "      <td>0.77</td>\n",
       "      <td>0.10</td>\n",
       "      <td>0.08</td>\n",
       "      <td>0.54</td>\n",
       "      <td>0.19</td>\n",
       "    </tr>\n",
       "    <tr>\n",
       "      <th>Model</th>\n",
       "      <td>0.57</td>\n",
       "      <td>0.90</td>\n",
       "      <td>0.62</td>\n",
       "      <td>0.60</td>\n",
       "      <td>0.77</td>\n",
       "      <td>1.00</td>\n",
       "      <td>0.43</td>\n",
       "      <td>0.33</td>\n",
       "      <td>1.00</td>\n",
       "      <td>0.28</td>\n",
       "    </tr>\n",
       "    <tr>\n",
       "      <th>Kilometer</th>\n",
       "      <td>0.31</td>\n",
       "      <td>0.18</td>\n",
       "      <td>0.37</td>\n",
       "      <td>0.03</td>\n",
       "      <td>0.10</td>\n",
       "      <td>0.43</td>\n",
       "      <td>1.00</td>\n",
       "      <td>0.07</td>\n",
       "      <td>0.27</td>\n",
       "      <td>0.24</td>\n",
       "    </tr>\n",
       "    <tr>\n",
       "      <th>FuelType</th>\n",
       "      <td>0.05</td>\n",
       "      <td>0.08</td>\n",
       "      <td>0.07</td>\n",
       "      <td>0.10</td>\n",
       "      <td>0.08</td>\n",
       "      <td>0.33</td>\n",
       "      <td>0.07</td>\n",
       "      <td>1.00</td>\n",
       "      <td>0.23</td>\n",
       "      <td>0.04</td>\n",
       "    </tr>\n",
       "    <tr>\n",
       "      <th>Brand</th>\n",
       "      <td>0.35</td>\n",
       "      <td>0.61</td>\n",
       "      <td>0.40</td>\n",
       "      <td>0.49</td>\n",
       "      <td>0.54</td>\n",
       "      <td>1.00</td>\n",
       "      <td>0.27</td>\n",
       "      <td>0.23</td>\n",
       "      <td>1.00</td>\n",
       "      <td>0.16</td>\n",
       "    </tr>\n",
       "    <tr>\n",
       "      <th>Repaired</th>\n",
       "      <td>0.36</td>\n",
       "      <td>0.14</td>\n",
       "      <td>0.23</td>\n",
       "      <td>0.04</td>\n",
       "      <td>0.19</td>\n",
       "      <td>0.28</td>\n",
       "      <td>0.24</td>\n",
       "      <td>0.04</td>\n",
       "      <td>0.16</td>\n",
       "      <td>1.00</td>\n",
       "    </tr>\n",
       "  </tbody>\n",
       "</table>\n",
       "</div>"
      ],
      "text/plain": [
       "                  Price  VehicleType  RegistrationYear  Gearbox  Power  Model  \\\n",
       "Price              1.00         0.25              0.63     0.31   0.50   0.57   \n",
       "VehicleType        0.25         1.00              0.18     0.26   0.45   0.90   \n",
       "RegistrationYear   0.63         0.18              1.00     0.11   0.23   0.62   \n",
       "Gearbox            0.31         0.26              0.11     1.00   0.55   0.60   \n",
       "Power              0.50         0.45              0.23     0.55   1.00   0.77   \n",
       "Model              0.57         0.90              0.62     0.60   0.77   1.00   \n",
       "Kilometer          0.31         0.18              0.37     0.03   0.10   0.43   \n",
       "FuelType           0.05         0.08              0.07     0.10   0.08   0.33   \n",
       "Brand              0.35         0.61              0.40     0.49   0.54   1.00   \n",
       "Repaired           0.36         0.14              0.23     0.04   0.19   0.28   \n",
       "\n",
       "                  Kilometer  FuelType  Brand  Repaired  \n",
       "Price                  0.31      0.05   0.35      0.36  \n",
       "VehicleType            0.18      0.08   0.61      0.14  \n",
       "RegistrationYear       0.37      0.07   0.40      0.23  \n",
       "Gearbox                0.03      0.10   0.49      0.04  \n",
       "Power                  0.10      0.08   0.54      0.19  \n",
       "Model                  0.43      0.33   1.00      0.28  \n",
       "Kilometer              1.00      0.07   0.27      0.24  \n",
       "FuelType               0.07      1.00   0.23      0.04  \n",
       "Brand                  0.27      0.23   1.00      0.16  \n",
       "Repaired               0.24      0.04   0.16      1.00  "
      ]
     },
     "execution_count": 55,
     "metadata": {},
     "output_type": "execute_result"
    }
   ],
   "source": [
    "# Проверим какие столбцы влияют на столбец с ценой через корреляцию\n",
    "\n",
    "phik_overview = processed_data.phik_matrix()\n",
    "phik_overview.round(2)"
   ]
  },
  {
   "cell_type": "code",
   "execution_count": 56,
   "metadata": {},
   "outputs": [
    {
     "data": {
      "image/png": "[encoded data removed]",
      "text/plain": [
       "<Figure size 1440x720 with 2 Axes>"
      ]
     },
     "metadata": {
      "needs_background": "light"
     },
     "output_type": "display_data"
    }
   ],
   "source": [
    "# Создадим тепловую карту на основе библиотеки Phik\n",
    "plot_correlation_matrix(phik_overview.values, \n",
    "                        x_labels=phik_overview.columns, \n",
    "                        y_labels=phik_overview.index, \n",
    "                        vmin=0, vmax=1, color_map=\"Greens\", \n",
    "                        title=r\"correlation $\\phi_K$\", \n",
    "                        fontsize_factor=1.5, \n",
    "                        figsize=(20, 10))\n",
    "plt.tight_layout()"
   ]
  },
  {
   "attachments": {},
   "cell_type": "markdown",
   "metadata": {},
   "source": [
    "### Вывод по результатам корреляции\n",
    "\n",
    "Глядя на таблицу и на график, можно заметить, что не все столбцы имеют влияние на цену, подведем итоги для каждого столбца:\n",
    "\n",
    "Самую высокую корреляцию с целом имеет признак с годом регистрации автомобиля. Также на цену влияют модель и мощность двигателя.\n",
    "\n",
    "Наличие ремонта, тип коробки передач и тип кузова имеют влияние на цену, но уже не такое высокое.\n",
    "\n",
    "Меньше всего на цену автомобиля влияет тип топлива, корреляция почти равна нулю.\n"
   ]
  },
  {
   "attachments": {},
   "cell_type": "markdown",
   "metadata": {},
   "source": [
    "### Выводы по предобработке полученных данных\n",
    "\n",
    "- Были удалены столбцы, которые не имеют значения для цены автомобиля,\n",
    "- Были удалены или изменены выбросы на более логичные значения,\n",
    "- Были убраны или заменены пропуски,\n",
    "- Были удалены явные дубликаты и обработаны неявные, как например в столбце с типом топлива,\n",
    "- Датасет уменьшился в размерах, что ускорит время обработки моделями."
   ]
  },
  {
   "cell_type": "markdown",
   "metadata": {},
   "source": [
    "## Обучение моделей"
   ]
  },
  {
   "cell_type": "markdown",
   "metadata": {},
   "source": [
    "### Выбор моделей\n",
    "\n",
    "В работе будут использоваться следующие модели:\n",
    "\n",
    "-\tLinearRegression\n",
    "-\tDecisionTreeRegressor\n",
    "-\tXGBoost\n",
    "-\tLGBMRegressor\n",
    "-\tCatBoostRegressor\n",
    "\n",
    "Первые три модели требуют только цифровых значений, поэтому для них сделаем выборки с One-Hot кодировкой.\n",
    "\n",
    "Для LightGBM и Категориального бустинга будем использовать данные, полученные после предобработки данных, так как они могут справиться с категориальными значениями.\n",
    "\n"
   ]
  },
  {
   "cell_type": "code",
   "execution_count": 57,
   "metadata": {},
   "outputs": [],
   "source": [
    "# Разделим данные на признаки и целевую выборку\n",
    "features = processed_data.drop(['Price'], axis=1)\n",
    "target = processed_data['Price']"
   ]
  },
  {
   "cell_type": "code",
   "execution_count": 58,
   "metadata": {},
   "outputs": [],
   "source": [
    "# Создадим тренировочный и тестовый датасеты\n",
    "features_train, features_test, target_train, target_test = train_test_split(\n",
    "    features, target, test_size=0.25, random_state=RANDOM_STATE)"
   ]
  },
  {
   "cell_type": "code",
   "execution_count": 59,
   "metadata": {},
   "outputs": [
    {
     "name": "stdout",
     "output_type": "stream",
     "text": [
      "Размер тренировочного датасета - 75%\n",
      "Размер тестового датасета - 25%\n"
     ]
    },
    {
     "data": {
      "text/html": [
       "<div>\n",
       "<style scoped>\n",
       "    .dataframe tbody tr th:only-of-type {\n",
       "        vertical-align: middle;\n",
       "    }\n",
       "\n",
       "    .dataframe tbody tr th {\n",
       "        vertical-align: top;\n",
       "    }\n",
       "\n",
       "    .dataframe thead th {\n",
       "        text-align: right;\n",
       "    }\n",
       "</style>\n",
       "<table border=\"1\" class=\"dataframe\">\n",
       "  <thead>\n",
       "    <tr style=\"text-align: right;\">\n",
       "      <th></th>\n",
       "      <th>VehicleType</th>\n",
       "      <th>RegistrationYear</th>\n",
       "      <th>Gearbox</th>\n",
       "      <th>Power</th>\n",
       "      <th>Model</th>\n",
       "      <th>Kilometer</th>\n",
       "      <th>FuelType</th>\n",
       "      <th>Brand</th>\n",
       "      <th>Repaired</th>\n",
       "    </tr>\n",
       "  </thead>\n",
       "  <tbody>\n",
       "    <tr>\n",
       "      <th>153316</th>\n",
       "      <td>sedan</td>\n",
       "      <td>2016</td>\n",
       "      <td>manual</td>\n",
       "      <td>65</td>\n",
       "      <td>corsa</td>\n",
       "      <td>125000</td>\n",
       "      <td>petrol</td>\n",
       "      <td>opel</td>\n",
       "      <td>no</td>\n",
       "    </tr>\n",
       "    <tr>\n",
       "      <th>56469</th>\n",
       "      <td>convertible</td>\n",
       "      <td>2006</td>\n",
       "      <td>manual</td>\n",
       "      <td>109</td>\n",
       "      <td>2_reihe</td>\n",
       "      <td>150000</td>\n",
       "      <td>petrol</td>\n",
       "      <td>peugeot</td>\n",
       "      <td>no</td>\n",
       "    </tr>\n",
       "    <tr>\n",
       "      <th>206060</th>\n",
       "      <td>small</td>\n",
       "      <td>1995</td>\n",
       "      <td>auto</td>\n",
       "      <td>75</td>\n",
       "      <td>golf</td>\n",
       "      <td>150000</td>\n",
       "      <td>petrol</td>\n",
       "      <td>volkswagen</td>\n",
       "      <td>yes</td>\n",
       "    </tr>\n",
       "    <tr>\n",
       "      <th>97049</th>\n",
       "      <td>sedan</td>\n",
       "      <td>2004</td>\n",
       "      <td>auto</td>\n",
       "      <td>218</td>\n",
       "      <td>x_reihe</td>\n",
       "      <td>150000</td>\n",
       "      <td>petrol</td>\n",
       "      <td>bmw</td>\n",
       "      <td>no</td>\n",
       "    </tr>\n",
       "    <tr>\n",
       "      <th>175789</th>\n",
       "      <td>sedan</td>\n",
       "      <td>2005</td>\n",
       "      <td>manual</td>\n",
       "      <td>75</td>\n",
       "      <td>colt</td>\n",
       "      <td>90000</td>\n",
       "      <td>petrol</td>\n",
       "      <td>mitsubishi</td>\n",
       "      <td>no</td>\n",
       "    </tr>\n",
       "  </tbody>\n",
       "</table>\n",
       "</div>"
      ],
      "text/plain": [
       "        VehicleType  RegistrationYear Gearbox  Power    Model  Kilometer  \\\n",
       "153316        sedan              2016  manual     65    corsa     125000   \n",
       "56469   convertible              2006  manual    109  2_reihe     150000   \n",
       "206060        small              1995    auto     75     golf     150000   \n",
       "97049         sedan              2004    auto    218  x_reihe     150000   \n",
       "175789        sedan              2005  manual     75     colt      90000   \n",
       "\n",
       "       FuelType       Brand Repaired  \n",
       "153316   petrol        opel       no  \n",
       "56469    petrol     peugeot       no  \n",
       "206060   petrol  volkswagen      yes  \n",
       "97049    petrol         bmw       no  \n",
       "175789   petrol  mitsubishi       no  "
      ]
     },
     "execution_count": 59,
     "metadata": {},
     "output_type": "execute_result"
    }
   ],
   "source": [
    "# Проверим результаты\n",
    "\n",
    "print('Размер тренировочного датасета - {:.0%}'.format(\n",
    "    features_train.shape[0]/features.shape[0]))\n",
    "print('Размер тестового датасета - {:.0%}'.format(\n",
    "    target_test.shape[0]/target.shape[0]))\n",
    "\n",
    "features_train.shape\n",
    "features_train.head()"
   ]
  },
  {
   "cell_type": "markdown",
   "metadata": {},
   "source": [
    "### One_Hot_Encoding"
   ]
  },
  {
   "cell_type": "code",
   "execution_count": 60,
   "metadata": {},
   "outputs": [],
   "source": [
    "# Сделаем на основе полученных признаков цифровые значения при помощи One-Hot-Encoding\n",
    "VehicleType_ohe = pd.get_dummies(features_train['VehicleType'])\n",
    "Gearbox_ohe = pd.get_dummies(features_train['Gearbox'])\n",
    "Model_ohe = pd.get_dummies(features_train['Model'])\n",
    "FuelType_ohe = pd.get_dummies(features_train['FuelType'])\n",
    "Brand_ohe = pd.get_dummies(features_train['Brand'])\n",
    "Repaired_ohe = pd.get_dummies(features_train['Repaired'])"
   ]
  },
  {
   "cell_type": "code",
   "execution_count": 61,
   "metadata": {},
   "outputs": [
    {
     "data": {
      "text/plain": [
       "(216997, 9)"
      ]
     },
     "execution_count": 61,
     "metadata": {},
     "output_type": "execute_result"
    }
   ],
   "source": [
    "#уберем первоначальные категориальные признаки\n",
    "features_train_ohe = features_train.drop(['VehicleType',\n",
    "                                         'Gearbox',\n",
    "                                         'Model',\n",
    "                                         'FuelType',\n",
    "                                         'Brand',\n",
    "                                         'Repaired'],\n",
    "                                          axis=1)\n",
    "\n",
    "features_train.shape"
   ]
  },
  {
   "cell_type": "code",
   "execution_count": 62,
   "metadata": {},
   "outputs": [
    {
     "data": {
      "text/plain": [
       "(216997, 312)"
      ]
     },
     "execution_count": 62,
     "metadata": {},
     "output_type": "execute_result"
    }
   ],
   "source": [
    "#склеим полученные цифровые поля с OHE датасетом функцией concat\n",
    "features_train_ohe = pd.concat([features_train_ohe,\n",
    "VehicleType_ohe,\n",
    "Gearbox_ohe,\n",
    "Model_ohe,\n",
    "FuelType_ohe,\n",
    "Brand_ohe,\n",
    "Repaired_ohe,\n",
    "], axis=1)\n",
    "\n",
    "features_train_ohe.shape"
   ]
  },
  {
   "cell_type": "markdown",
   "metadata": {},
   "source": [
    "Колонок конечно стало много, зато теперь эти данные можно отдать на обработку моделям."
   ]
  },
  {
   "cell_type": "code",
   "execution_count": 63,
   "metadata": {
    "scrolled": true
   },
   "outputs": [
    {
     "name": "stdout",
     "output_type": "stream",
     "text": [
      "Количество строк и столбцов в исходной выборке: (216997, 9)\n",
      "Количество строк и столбцов в OHE выборке: (216997, 312)\n",
      "Количество строк в целевой выборке: 216997\n"
     ]
    }
   ],
   "source": [
    "# Проверим количество строк и столбцов\n",
    "\n",
    "print('Количество строк и столбцов в исходной выборке:', features_train.shape)\n",
    "print('Количество строк и столбцов в OHE выборке:', features_train_ohe.shape)\n",
    "print('Количество строк в целевой выборке:', len(target_train))\n"
   ]
  },
  {
   "cell_type": "markdown",
   "metadata": {},
   "source": [
    "### Линейная регрессия"
   ]
  },
  {
   "cell_type": "markdown",
   "metadata": {},
   "source": [
    "Посмотрим на результаты линейной регрессии для OHE-выборки с использованием кросс-валидации."
   ]
  },
  {
   "cell_type": "code",
   "execution_count": 64,
   "metadata": {},
   "outputs": [
    {
     "name": "stdout",
     "output_type": "stream",
     "text": [
      "Обучение линейной регрессии для RMSE\n",
      "\n",
      "Среднее значение RMSE на кросс-валидации для линейной регрессии = 2816.314207845329\n",
      "Время обучения модели LR: 15.99627423286438\n",
      "CPU times: total: 1min 17s\n",
      "Wall time: 16 s\n"
     ]
    }
   ],
   "source": [
    "%%time\n",
    "# Инициализация модели линейной регрессии\n",
    "\n",
    "start = time.time()\n",
    "\n",
    "lr = LinearRegression()\n",
    "print('Обучение линейной регрессии для RMSE')\n",
    "print()\n",
    "rmse_lr_cv = np.abs((cross_val_score(lr, \n",
    "                             features_train_ohe, \n",
    "                             target_train, \n",
    "                             cv=5, \n",
    "                             scoring='neg_root_mean_squared_error').mean()))\n",
    "print('Среднее значение RMSE на кросс-валидации для линейной регрессии =', rmse_lr_cv)\n",
    "\n",
    "end = time.time()\n",
    "lr_train_time = end - start\n",
    "print('Время обучения модели LR:', lr_train_time)\n"
   ]
  },
  {
   "cell_type": "markdown",
   "metadata": {},
   "source": [
    "Цель в RMSE = 2500 так близко, но так далека."
   ]
  },
  {
   "cell_type": "code",
   "execution_count": 66,
   "metadata": {},
   "outputs": [
    {
     "name": "stdout",
     "output_type": "stream",
     "text": [
      "Время предсказания модели LR: 4.085077524185181\n"
     ]
    }
   ],
   "source": [
    "start = time.time()\n",
    "lr.fit(features_train_ohe, target_train)\n",
    "lr_predict = lr.predict(features_train_ohe)\n",
    "end = time.time()\n",
    "lr_predict_time = end - start\n",
    "print('Время предсказания модели LR:', lr_predict_time)"
   ]
  },
  {
   "cell_type": "markdown",
   "metadata": {},
   "source": [
    "### Дерево решений"
   ]
  },
  {
   "cell_type": "markdown",
   "metadata": {},
   "source": [
    "Для дерева решений используем метод GridSearch, который уже имеет встроенную кросс-валидацию."
   ]
  },
  {
   "cell_type": "code",
   "execution_count": 67,
   "metadata": {},
   "outputs": [],
   "source": [
    "# Сделаем прямое кодирование\n",
    "\n",
    "encoder = OrdinalEncoder()\n",
    "cat_columns = ['VehicleType', 'Gearbox', 'Model', 'FuelType', 'Brand', 'Repaired']\n",
    "cat_features = features_train[cat_columns]\n",
    "cat_features = pd.DataFrame(encoder.fit_transform(cat_features),\n",
    "                                columns=cat_features.columns, \n",
    "                                index=cat_features.index)\n",
    "ordinal_features = features.copy()\n",
    "for column in cat_columns:\n",
    "    ordinal_features[column] = cat_features[column]\n",
    "\n",
    "ordinal_features_train = ordinal_features.loc[features_train.index, :]"
   ]
  },
  {
   "cell_type": "code",
   "execution_count": 68,
   "metadata": {},
   "outputs": [
    {
     "name": "stdout",
     "output_type": "stream",
     "text": [
      "{'max_depth': 10, 'max_features': 'auto'} \n",
      "\n",
      "Лучший показатель RMSE: 2103.8840230856686\n",
      "Время обучения модели DT: 6.8397204875946045\n",
      "CPU times: total: 6.83 s\n",
      "Wall time: 6.84 s\n"
     ]
    }
   ],
   "source": [
    "%%time\n",
    "# Инициализация модели дерева решений\n",
    "start = time.time()\n",
    "\n",
    "parameters = {'max_depth'    : [4, 6, 8, 10],\n",
    "              'max_features' : ['auto', 'sqrt', 'log2']\n",
    "}\n",
    "\n",
    "grid = GridSearchCV(DecisionTreeRegressor(),parameters, scoring='neg_root_mean_squared_error')\n",
    "model_dt = grid.fit(ordinal_features_train, target_train)\n",
    "best_dt = np.abs(model_dt.best_score_)\n",
    "best_model_dt = model_dt.best_params_\n",
    "print(model_dt.best_params_,'\\n')\n",
    "print('Лучший показатель RMSE:', best_dt)\n",
    "\n",
    "end = time.time()\n",
    "dt_train_time = end - start\n",
    "print('Время обучения модели DT:', dt_train_time)"
   ]
  },
  {
   "cell_type": "code",
   "execution_count": 69,
   "metadata": {},
   "outputs": [
    {
     "name": "stdout",
     "output_type": "stream",
     "text": [
      "Время предсказания модели DT: 6.8905792236328125\n"
     ]
    }
   ],
   "source": [
    "start = time.time()\n",
    "model_dt.fit(ordinal_features_train, target_train)\n",
    "dt_predict = model_dt.predict(ordinal_features_train)\n",
    "end = time.time()\n",
    "dt_predict_time = end - start\n",
    "print('Время предсказания модели DT:', dt_predict_time)"
   ]
  },
  {
   "cell_type": "markdown",
   "metadata": {},
   "source": [
    "Модель дерева выдала на тренировочной модели значение ниже требуется 2500."
   ]
  },
  {
   "cell_type": "markdown",
   "metadata": {},
   "source": [
    "### XGBoost"
   ]
  },
  {
   "cell_type": "code",
   "execution_count": 70,
   "metadata": {},
   "outputs": [
    {
     "name": "stdout",
     "output_type": "stream",
     "text": [
      "{'colsample_bytree': 0.4, 'gamma': 0.0, 'learning_rate': 0.15, 'max_depth': 8, 'min_child_weight': 5} \n",
      "\n",
      "Лучший показатель RMSE: 1773.4624284226422\n",
      "Время обучения модели XGBoost: 517.9016427993774\n",
      "CPU times: total: 38.4 s\n",
      "Wall time: 8min 37s\n"
     ]
    }
   ],
   "source": [
    "%%time\n",
    "start = time.time()\n",
    "gsc = GridSearchCV(\n",
    "            estimator=xgb.XGBRegressor(),\n",
    "            param_grid={\"learning_rate\": (0.05, 0.10, 0.15),\n",
    "                        \"max_depth\": [ 3, 4, 5, 6, 8],\n",
    "                        \"min_child_weight\": [ 1, 3, 5, 7],\n",
    "                        \"gamma\":[ 0.0, 0.1, 0.2],\n",
    "                        \"colsample_bytree\":[ 0.3, 0.4],},\n",
    "            cv=3, scoring='neg_root_mean_squared_error', verbose=0, n_jobs=-1, error_score='raise')\n",
    "\n",
    "model_xgb = gsc.fit(ordinal_features_train, target_train)\n",
    "best_model_xgb = model_xgb.best_params_\n",
    "\n",
    "best_xgb = np.abs(model_xgb.best_score_)\n",
    "print(model_xgb.best_params_,'\\n')\n",
    "print('Лучший показатель RMSE:', best_xgb)\n",
    "\n",
    "end = time.time()\n",
    "xgb_train_time = end - start\n",
    "print('Время обучения модели XGBoost:', xgb_train_time)"
   ]
  },
  {
   "cell_type": "code",
   "execution_count": 71,
   "metadata": {},
   "outputs": [
    {
     "name": "stdout",
     "output_type": "stream",
     "text": [
      "Время предсказания модели XGBoost: 520.2051427364349\n"
     ]
    }
   ],
   "source": [
    "start = time.time()\n",
    "model_xgb.fit(ordinal_features_train, target_train)\n",
    "xgb_predict = model_xgb.predict(ordinal_features_train)\n",
    "end = time.time()\n",
    "xgb_predict_time = end - start\n",
    "print('Время предсказания модели XGBoost:', xgb_predict_time)"
   ]
  },
  {
   "cell_type": "markdown",
   "metadata": {},
   "source": [
    "XGBoost выдал показатель RMSE со значением 1754, отличный результат!"
   ]
  },
  {
   "cell_type": "markdown",
   "metadata": {},
   "source": [
    "Для моделей CatBoost и LightGBM будем использовать исходные данные, так как они должны уметь работать с категориальными признаками."
   ]
  },
  {
   "cell_type": "markdown",
   "metadata": {},
   "source": [
    "### CatBoost"
   ]
  },
  {
   "cell_type": "code",
   "execution_count": 72,
   "metadata": {
    "scrolled": true
   },
   "outputs": [
    {
     "name": "stdout",
     "output_type": "stream",
     "text": [
      "0:\tlearn: 4245.0075256\ttotal: 211ms\tremaining: 20.9s\n",
      "10:\tlearn: 2586.9887600\ttotal: 871ms\tremaining: 7.05s\n",
      "20:\tlearn: 2098.7304673\ttotal: 1.51s\tremaining: 5.69s\n",
      "30:\tlearn: 1945.6324472\ttotal: 2.16s\tremaining: 4.81s\n",
      "40:\tlearn: 1886.5775529\ttotal: 2.81s\tremaining: 4.04s\n",
      "50:\tlearn: 1853.4239907\ttotal: 3.46s\tremaining: 3.32s\n",
      "60:\tlearn: 1827.5845302\ttotal: 4.11s\tremaining: 2.63s\n",
      "70:\tlearn: 1804.3168631\ttotal: 4.76s\tremaining: 1.94s\n",
      "80:\tlearn: 1784.9496248\ttotal: 5.41s\tremaining: 1.27s\n",
      "90:\tlearn: 1768.4302187\ttotal: 6.06s\tremaining: 599ms\n",
      "99:\tlearn: 1757.5284902\ttotal: 6.65s\tremaining: 0us\n",
      "{'depth': 10, 'iterations': 100, 'learning_rate': 0.1} \n",
      "\n",
      "Лучший показатель RMSE: 1822.1130106168382\n",
      "Время обучения модели CatBoost: 65.26654958724976\n",
      "CPU times: total: 36.4 s\n",
      "Wall time: 1min 5s\n"
     ]
    }
   ],
   "source": [
    "%%time\n",
    "start = time.time()\n",
    "\n",
    "parameters = {'depth'         : [6, 8, 10],\n",
    "            'learning_rate'   : [0.01, 0.05, 0.1],\n",
    "            'iterations'      : [30, 50, 100]\n",
    "            }\n",
    "\n",
    "cbr = CatBoostRegressor()\n",
    "\n",
    "grid = GridSearchCV(estimator=cbr, param_grid = parameters,\n",
    "                    cv = 2, n_jobs=-1, scoring='neg_root_mean_squared_error')\n",
    "                    \n",
    "cat_features = ['VehicleType', 'Gearbox', 'Model', 'FuelType', 'Brand', 'Repaired']\n",
    "\n",
    "model_cbr = grid.fit(features_train, target_train, cat_features=cat_features, verbose=10)\n",
    "best_model_cbr = model_cbr.best_params_\n",
    "\n",
    "best_cbr = np.abs(model_cbr.best_score_)\n",
    "print(model_cbr.best_params_,'\\n')\n",
    "print('Лучший показатель RMSE:', best_cbr)\n",
    "\n",
    "end = time.time()\n",
    "cbr_train_time = end - start\n",
    "print('Время обучения модели CatBoost:', cbr_train_time)\n"
   ]
  },
  {
   "cell_type": "code",
   "execution_count": 73,
   "metadata": {},
   "outputs": [
    {
     "name": "stdout",
     "output_type": "stream",
     "text": [
      "0:\tlearn: 4245.0075256\ttotal: 65.8ms\tremaining: 6.52s\n",
      "10:\tlearn: 2586.9887600\ttotal: 727ms\tremaining: 5.88s\n",
      "20:\tlearn: 2098.7304673\ttotal: 1.37s\tremaining: 5.15s\n",
      "30:\tlearn: 1945.6324472\ttotal: 2.01s\tremaining: 4.47s\n",
      "40:\tlearn: 1886.5775529\ttotal: 2.64s\tremaining: 3.8s\n",
      "50:\tlearn: 1853.4239907\ttotal: 3.29s\tremaining: 3.16s\n",
      "60:\tlearn: 1827.5845302\ttotal: 3.93s\tremaining: 2.51s\n",
      "70:\tlearn: 1804.3168631\ttotal: 4.57s\tremaining: 1.86s\n",
      "80:\tlearn: 1784.9496248\ttotal: 5.21s\tremaining: 1.22s\n",
      "90:\tlearn: 1768.4302187\ttotal: 5.84s\tremaining: 578ms\n",
      "99:\tlearn: 1757.5284902\ttotal: 6.42s\tremaining: 0us\n",
      "Время предсказания модели CatBoost: 61.67974376678467\n"
     ]
    }
   ],
   "source": [
    "start = time.time()\n",
    "cat_features = ['VehicleType', 'Gearbox', 'Model', 'FuelType', 'Brand', 'Repaired']\n",
    "model_cbr.fit(features_train, target_train, cat_features=cat_features, verbose=10)\n",
    "cbr_predict = model_cbr.predict(features_train)\n",
    "end = time.time()\n",
    "cbr_predict_time = end - start\n",
    "print('Время предсказания модели CatBoost:', cbr_predict_time)"
   ]
  },
  {
   "cell_type": "markdown",
   "metadata": {},
   "source": [
    "RMSE равен 1822 для категориального бустинга, очень неплохой результат."
   ]
  },
  {
   "cell_type": "markdown",
   "metadata": {},
   "source": [
    "### LightGBM"
   ]
  },
  {
   "cell_type": "code",
   "execution_count": 74,
   "metadata": {},
   "outputs": [
    {
     "name": "stdout",
     "output_type": "stream",
     "text": [
      "[LightGBM] [Warning] min_data_in_leaf is set=50, min_child_samples=20 will be ignored. Current value: min_data_in_leaf=50\n",
      "[LightGBM] [Warning] lambda_l1 is set=1, reg_alpha=0.1 will be ignored. Current value: lambda_l1=1\n",
      "[LightGBM] [Warning] lambda_l2 is set=0, reg_lambda=0.0 will be ignored. Current value: lambda_l2=0\n",
      "{'lambda_l1': 1, 'lambda_l2': 0, 'min_data_in_leaf': 50, 'num_leaves': 127, 'reg_alpha': 0.1} \n",
      "\n",
      "Лучший показатель RMSE: 1716.7441296434495\n",
      "Время обучения модели LightGBM: 76.59580755233765\n",
      "CPU times: total: 11.9 s\n",
      "Wall time: 1min 16s\n"
     ]
    }
   ],
   "source": [
    "%%time\n",
    "start = time.time()\n",
    "\n",
    "param_grid = {\n",
    "    'num_leaves': [31, 127],\n",
    "    'reg_alpha': [0.1, 0.5],\n",
    "    'min_data_in_leaf': [30, 50, 100, 300, 400],\n",
    "    'lambda_l1': [0, 1, 1.5],\n",
    "    'lambda_l2': [0, 1]\n",
    "    }\n",
    "\n",
    "# Переведем категориальные признаки из типа в object в тип category, чтобы LGBMRegressor мог с ними работать\n",
    "\n",
    "\n",
    "features_train['VehicleType'] = features_train['VehicleType'].astype('category')\n",
    "features_train['Gearbox'] = features_train['Gearbox'].astype('category')\n",
    "features_train['Model'] = features_train['Model'].astype('category')\n",
    "features_train['FuelType'] = features_train['FuelType'].astype('category')\n",
    "features_train['Brand'] = features_train['Brand'].astype('category')\n",
    "features_train['Repaired'] = features_train['Repaired'].astype('category')\n",
    "\n",
    "lgbm = LGBMRegressor()\n",
    "\n",
    "grid = GridSearchCV(estimator=lgbm, param_grid = param_grid,\n",
    "                    cv = 2, n_jobs=-1, scoring='neg_root_mean_squared_error', error_score='raise')\n",
    "                    \n",
    "\n",
    "model_lgbm = grid.fit(features_train, target_train)\n",
    "best_model_lgbm = model_lgbm.best_params_\n",
    "\n",
    "best_lgbm = np.abs(model_lgbm.best_score_)\n",
    "print(model_lgbm.best_params_,'\\n')\n",
    "print('Лучший показатель RMSE:', best_lgbm)\n",
    "\n",
    "end = time.time()\n",
    "lgbm_train_time = end - start\n",
    "print('Время обучения модели LightGBM:', lgbm_train_time)"
   ]
  },
  {
   "cell_type": "code",
   "execution_count": 75,
   "metadata": {},
   "outputs": [
    {
     "name": "stdout",
     "output_type": "stream",
     "text": [
      "Время предсказания модели LightGBM: 76.81420063972473\n"
     ]
    }
   ],
   "source": [
    "start = time.time()\n",
    "model_lgbm.fit(features_train, target_train)\n",
    "cbr_predict = model_lgbm.predict(features_train)\n",
    "end = time.time()\n",
    "lgbm_predict_time = end - start\n",
    "print('Время предсказания модели LightGBM:', lgbm_predict_time)"
   ]
  },
  {
   "cell_type": "markdown",
   "metadata": {},
   "source": [
    "RMSE для LGBMRegressor равен 1716, самый лучший результат!"
   ]
  },
  {
   "cell_type": "markdown",
   "metadata": {},
   "source": [
    "## Анализ моделей"
   ]
  },
  {
   "cell_type": "markdown",
   "metadata": {},
   "source": [
    "Подведем итоги по полученным RMSE на моделях для тренировочных выборок. Для этого создадим таблицу с результатами."
   ]
  },
  {
   "attachments": {},
   "cell_type": "markdown",
   "metadata": {},
   "source": [
    "Во все модели были добавлены формулы для расчета времени на тренировочной модели и на предсказании. Эти результаты также были выведены в общей таблице."
   ]
  },
  {
   "cell_type": "code",
   "execution_count": 76,
   "metadata": {},
   "outputs": [
    {
     "data": {
      "text/html": [
       "<div>\n",
       "<style scoped>\n",
       "    .dataframe tbody tr th:only-of-type {\n",
       "        vertical-align: middle;\n",
       "    }\n",
       "\n",
       "    .dataframe tbody tr th {\n",
       "        vertical-align: top;\n",
       "    }\n",
       "\n",
       "    .dataframe thead th {\n",
       "        text-align: right;\n",
       "    }\n",
       "</style>\n",
       "<table border=\"1\" class=\"dataframe\">\n",
       "  <thead>\n",
       "    <tr style=\"text-align: right;\">\n",
       "      <th></th>\n",
       "      <th>RMSE на кросс-валидации</th>\n",
       "      <th>Время обучения на CV, сек</th>\n",
       "      <th>Время предсказания модели, сек</th>\n",
       "      <th>Лучшие гиперпараметры для GreadSearch</th>\n",
       "    </tr>\n",
       "  </thead>\n",
       "  <tbody>\n",
       "    <tr>\n",
       "      <th>LinearRegression</th>\n",
       "      <td>2816.314208</td>\n",
       "      <td>15.996274</td>\n",
       "      <td>4.085078</td>\n",
       "      <td>-</td>\n",
       "    </tr>\n",
       "    <tr>\n",
       "      <th>DecisionTreeRegressor</th>\n",
       "      <td>2103.884023</td>\n",
       "      <td>6.839720</td>\n",
       "      <td>6.890579</td>\n",
       "      <td>{'max_depth': 10, 'max_features': 'auto'}</td>\n",
       "    </tr>\n",
       "    <tr>\n",
       "      <th>XGBRegressor</th>\n",
       "      <td>1773.462428</td>\n",
       "      <td>517.901643</td>\n",
       "      <td>520.205143</td>\n",
       "      <td>{'colsample_bytree': 0.4, 'gamma': 0.0, 'learning_rate': 0.15, 'max_depth': 8, 'min_child_weight': 5}</td>\n",
       "    </tr>\n",
       "    <tr>\n",
       "      <th>CatBoostRegressor</th>\n",
       "      <td>1822.113011</td>\n",
       "      <td>65.266550</td>\n",
       "      <td>61.679744</td>\n",
       "      <td>{'depth': 10, 'iterations': 100, 'learning_rate': 0.1}</td>\n",
       "    </tr>\n",
       "    <tr>\n",
       "      <th>LGBMRegressor</th>\n",
       "      <td>1716.744130</td>\n",
       "      <td>76.595808</td>\n",
       "      <td>76.814201</td>\n",
       "      <td>{'lambda_l1': 1, 'lambda_l2': 0, 'min_data_in_leaf': 50, 'num_leaves': 127, 'reg_alpha': 0.1}</td>\n",
       "    </tr>\n",
       "  </tbody>\n",
       "</table>\n",
       "</div>"
      ],
      "text/plain": [
       "                       RMSE на кросс-валидации  Время обучения на CV, сек  \\\n",
       "LinearRegression       2816.314208              15.996274                   \n",
       "DecisionTreeRegressor  2103.884023              6.839720                    \n",
       "XGBRegressor           1773.462428              517.901643                  \n",
       "CatBoostRegressor      1822.113011              65.266550                   \n",
       "LGBMRegressor          1716.744130              76.595808                   \n",
       "\n",
       "                       Время предсказания модели, сек  \\\n",
       "LinearRegression       4.085078                         \n",
       "DecisionTreeRegressor  6.890579                         \n",
       "XGBRegressor           520.205143                       \n",
       "CatBoostRegressor      61.679744                        \n",
       "LGBMRegressor          76.814201                        \n",
       "\n",
       "                                                                                       Лучшие гиперпараметры для GreadSearch  \n",
       "LinearRegression       -                                                                                                      \n",
       "DecisionTreeRegressor  {'max_depth': 10, 'max_features': 'auto'}                                                              \n",
       "XGBRegressor           {'colsample_bytree': 0.4, 'gamma': 0.0, 'learning_rate': 0.15, 'max_depth': 8, 'min_child_weight': 5}  \n",
       "CatBoostRegressor      {'depth': 10, 'iterations': 100, 'learning_rate': 0.1}                                                 \n",
       "LGBMRegressor          {'lambda_l1': 1, 'lambda_l2': 0, 'min_data_in_leaf': 50, 'num_leaves': 127, 'reg_alpha': 0.1}          "
      ]
     },
     "execution_count": 76,
     "metadata": {},
     "output_type": "execute_result"
    }
   ],
   "source": [
    "index = ['LinearRegression',\n",
    "         'DecisionTreeRegressor',\n",
    "         'XGBRegressor',\n",
    "         'CatBoostRegressor',\n",
    "         'LGBMRegressor']\n",
    "data = {'RMSE на кросс-валидации':[rmse_lr_cv,\n",
    "                            best_dt,\n",
    "                            best_xgb,\n",
    "                            best_cbr,\n",
    "                            best_lgbm],\n",
    "        'Время обучения на CV, сек':[lr_train_time,\n",
    "                                     dt_train_time,\n",
    "                                     xgb_train_time,\n",
    "                                     cbr_train_time,\n",
    "                                     lgbm_train_time],\n",
    "        'Время предсказания модели, сек':[lr_predict_time,\n",
    "                                          dt_predict_time,\n",
    "                                          xgb_predict_time,\n",
    "                                          cbr_predict_time,\n",
    "                                          lgbm_predict_time],        \n",
    "        'Лучшие гиперпараметры для GreadSearch':    ['-',\n",
    "                                     model_dt.best_params_,\n",
    "                                     model_xgb.best_params_,\n",
    "                                     model_cbr.best_params_,\n",
    "                                     model_lgbm.best_params_],\n",
    "}\n",
    "\n",
    "scores_data = pd.DataFrame(data=data, index=index)\n",
    "pd.set_option('display.max_colwidth', -1),\n",
    "scores_data"
   ]
  },
  {
   "cell_type": "markdown",
   "metadata": {},
   "source": [
    "### Время предсказания моделей без подбора гиперпараметров"
   ]
  },
  {
   "cell_type": "markdown",
   "metadata": {},
   "source": [
    "#### Линейная регрессия"
   ]
  },
  {
   "cell_type": "code",
   "execution_count": 77,
   "metadata": {},
   "outputs": [
    {
     "name": "stdout",
     "output_type": "stream",
     "text": [
      "CPU times: total: 19.8 s\n",
      "Wall time: 3.78 s\n"
     ]
    },
    {
     "data": {
      "text/html": [
       "<style>#sk-container-id-1 {color: black;background-color: white;}#sk-container-id-1 pre{padding: 0;}#sk-container-id-1 div.sk-toggleable {background-color: white;}#sk-container-id-1 label.sk-toggleable__label {cursor: pointer;display: block;width: 100%;margin-bottom: 0;padding: 0.3em;box-sizing: border-box;text-align: center;}#sk-container-id-1 label.sk-toggleable__label-arrow:before {content: \"▸\";float: left;margin-right: 0.25em;color: #696969;}#sk-container-id-1 label.sk-toggleable__label-arrow:hover:before {color: black;}#sk-container-id-1 div.sk-estimator:hover label.sk-toggleable__label-arrow:before {color: black;}#sk-container-id-1 div.sk-toggleable__content {max-height: 0;max-width: 0;overflow: hidden;text-align: left;background-color: #f0f8ff;}#sk-container-id-1 div.sk-toggleable__content pre {margin: 0.2em;color: black;border-radius: 0.25em;background-color: #f0f8ff;}#sk-container-id-1 input.sk-toggleable__control:checked~div.sk-toggleable__content {max-height: 200px;max-width: 100%;overflow: auto;}#sk-container-id-1 input.sk-toggleable__control:checked~label.sk-toggleable__label-arrow:before {content: \"▾\";}#sk-container-id-1 div.sk-estimator input.sk-toggleable__control:checked~label.sk-toggleable__label {background-color: #d4ebff;}#sk-container-id-1 div.sk-label input.sk-toggleable__control:checked~label.sk-toggleable__label {background-color: #d4ebff;}#sk-container-id-1 input.sk-hidden--visually {border: 0;clip: rect(1px 1px 1px 1px);clip: rect(1px, 1px, 1px, 1px);height: 1px;margin: -1px;overflow: hidden;padding: 0;position: absolute;width: 1px;}#sk-container-id-1 div.sk-estimator {font-family: monospace;background-color: #f0f8ff;border: 1px dotted black;border-radius: 0.25em;box-sizing: border-box;margin-bottom: 0.5em;}#sk-container-id-1 div.sk-estimator:hover {background-color: #d4ebff;}#sk-container-id-1 div.sk-parallel-item::after {content: \"\";width: 100%;border-bottom: 1px solid gray;flex-grow: 1;}#sk-container-id-1 div.sk-label:hover label.sk-toggleable__label {background-color: #d4ebff;}#sk-container-id-1 div.sk-serial::before {content: \"\";position: absolute;border-left: 1px solid gray;box-sizing: border-box;top: 0;bottom: 0;left: 50%;z-index: 0;}#sk-container-id-1 div.sk-serial {display: flex;flex-direction: column;align-items: center;background-color: white;padding-right: 0.2em;padding-left: 0.2em;position: relative;}#sk-container-id-1 div.sk-item {position: relative;z-index: 1;}#sk-container-id-1 div.sk-parallel {display: flex;align-items: stretch;justify-content: center;background-color: white;position: relative;}#sk-container-id-1 div.sk-item::before, #sk-container-id-1 div.sk-parallel-item::before {content: \"\";position: absolute;border-left: 1px solid gray;box-sizing: border-box;top: 0;bottom: 0;left: 50%;z-index: -1;}#sk-container-id-1 div.sk-parallel-item {display: flex;flex-direction: column;z-index: 1;position: relative;background-color: white;}#sk-container-id-1 div.sk-parallel-item:first-child::after {align-self: flex-end;width: 50%;}#sk-container-id-1 div.sk-parallel-item:last-child::after {align-self: flex-start;width: 50%;}#sk-container-id-1 div.sk-parallel-item:only-child::after {width: 0;}#sk-container-id-1 div.sk-dashed-wrapped {border: 1px dashed gray;margin: 0 0.4em 0.5em 0.4em;box-sizing: border-box;padding-bottom: 0.4em;background-color: white;}#sk-container-id-1 div.sk-label label {font-family: monospace;font-weight: bold;display: inline-block;line-height: 1.2em;}#sk-container-id-1 div.sk-label-container {text-align: center;}#sk-container-id-1 div.sk-container {/* jupyter's `normalize.less` sets `[hidden] { display: none; }` but bootstrap.min.css set `[hidden] { display: none !important; }` so we also need the `!important` here to be able to override the default hidden behavior on the sphinx rendered scikit-learn.org. See: https://github.com/scikit-learn/scikit-learn/issues/21755 */display: inline-block !important;position: relative;}#sk-container-id-1 div.sk-text-repr-fallback {display: none;}</style><div id=\"sk-container-id-1\" class=\"sk-top-container\"><div class=\"sk-text-repr-fallback\"><pre>LinearRegression()</pre><b>In a Jupyter environment, please rerun this cell to show the HTML representation or trust the notebook. <br />On GitHub, the HTML representation is unable to render, please try loading this page with nbviewer.org.</b></div><div class=\"sk-container\" hidden><div class=\"sk-item\"><div class=\"sk-estimator sk-toggleable\"><input class=\"sk-toggleable__control sk-hidden--visually\" id=\"sk-estimator-id-1\" type=\"checkbox\" checked><label for=\"sk-estimator-id-1\" class=\"sk-toggleable__label sk-toggleable__label-arrow\">LinearRegression</label><div class=\"sk-toggleable__content\"><pre>LinearRegression()</pre></div></div></div></div></div>"
      ],
      "text/plain": [
       "LinearRegression()"
      ]
     },
     "execution_count": 77,
     "metadata": {},
     "output_type": "execute_result"
    }
   ],
   "source": [
    "%%time\n",
    "\n",
    "model_lr = LinearRegression()\n",
    "model_lr.fit(features_train_ohe, target_train)"
   ]
  },
  {
   "cell_type": "code",
   "execution_count": 78,
   "metadata": {},
   "outputs": [
    {
     "name": "stdout",
     "output_type": "stream",
     "text": [
      "CPU times: total: 500 ms\n",
      "Wall time: 331 ms\n"
     ]
    }
   ],
   "source": [
    "%%time\n",
    "\n",
    "lr_target_prediction = model_lr.predict(features_train_ohe)\n",
    "rmse_lr = mean_squared_error(target_train, lr_target_prediction) ** 0.5"
   ]
  },
  {
   "cell_type": "markdown",
   "metadata": {},
   "source": [
    "#### Дерево решений"
   ]
  },
  {
   "cell_type": "code",
   "execution_count": 79,
   "metadata": {},
   "outputs": [
    {
     "name": "stdout",
     "output_type": "stream",
     "text": [
      "CPU times: total: 609 ms\n",
      "Wall time: 599 ms\n"
     ]
    },
    {
     "data": {
      "text/html": [
       "<style>#sk-container-id-2 {color: black;background-color: white;}#sk-container-id-2 pre{padding: 0;}#sk-container-id-2 div.sk-toggleable {background-color: white;}#sk-container-id-2 label.sk-toggleable__label {cursor: pointer;display: block;width: 100%;margin-bottom: 0;padding: 0.3em;box-sizing: border-box;text-align: center;}#sk-container-id-2 label.sk-toggleable__label-arrow:before {content: \"▸\";float: left;margin-right: 0.25em;color: #696969;}#sk-container-id-2 label.sk-toggleable__label-arrow:hover:before {color: black;}#sk-container-id-2 div.sk-estimator:hover label.sk-toggleable__label-arrow:before {color: black;}#sk-container-id-2 div.sk-toggleable__content {max-height: 0;max-width: 0;overflow: hidden;text-align: left;background-color: #f0f8ff;}#sk-container-id-2 div.sk-toggleable__content pre {margin: 0.2em;color: black;border-radius: 0.25em;background-color: #f0f8ff;}#sk-container-id-2 input.sk-toggleable__control:checked~div.sk-toggleable__content {max-height: 200px;max-width: 100%;overflow: auto;}#sk-container-id-2 input.sk-toggleable__control:checked~label.sk-toggleable__label-arrow:before {content: \"▾\";}#sk-container-id-2 div.sk-estimator input.sk-toggleable__control:checked~label.sk-toggleable__label {background-color: #d4ebff;}#sk-container-id-2 div.sk-label input.sk-toggleable__control:checked~label.sk-toggleable__label {background-color: #d4ebff;}#sk-container-id-2 input.sk-hidden--visually {border: 0;clip: rect(1px 1px 1px 1px);clip: rect(1px, 1px, 1px, 1px);height: 1px;margin: -1px;overflow: hidden;padding: 0;position: absolute;width: 1px;}#sk-container-id-2 div.sk-estimator {font-family: monospace;background-color: #f0f8ff;border: 1px dotted black;border-radius: 0.25em;box-sizing: border-box;margin-bottom: 0.5em;}#sk-container-id-2 div.sk-estimator:hover {background-color: #d4ebff;}#sk-container-id-2 div.sk-parallel-item::after {content: \"\";width: 100%;border-bottom: 1px solid gray;flex-grow: 1;}#sk-container-id-2 div.sk-label:hover label.sk-toggleable__label {background-color: #d4ebff;}#sk-container-id-2 div.sk-serial::before {content: \"\";position: absolute;border-left: 1px solid gray;box-sizing: border-box;top: 0;bottom: 0;left: 50%;z-index: 0;}#sk-container-id-2 div.sk-serial {display: flex;flex-direction: column;align-items: center;background-color: white;padding-right: 0.2em;padding-left: 0.2em;position: relative;}#sk-container-id-2 div.sk-item {position: relative;z-index: 1;}#sk-container-id-2 div.sk-parallel {display: flex;align-items: stretch;justify-content: center;background-color: white;position: relative;}#sk-container-id-2 div.sk-item::before, #sk-container-id-2 div.sk-parallel-item::before {content: \"\";position: absolute;border-left: 1px solid gray;box-sizing: border-box;top: 0;bottom: 0;left: 50%;z-index: -1;}#sk-container-id-2 div.sk-parallel-item {display: flex;flex-direction: column;z-index: 1;position: relative;background-color: white;}#sk-container-id-2 div.sk-parallel-item:first-child::after {align-self: flex-end;width: 50%;}#sk-container-id-2 div.sk-parallel-item:last-child::after {align-self: flex-start;width: 50%;}#sk-container-id-2 div.sk-parallel-item:only-child::after {width: 0;}#sk-container-id-2 div.sk-dashed-wrapped {border: 1px dashed gray;margin: 0 0.4em 0.5em 0.4em;box-sizing: border-box;padding-bottom: 0.4em;background-color: white;}#sk-container-id-2 div.sk-label label {font-family: monospace;font-weight: bold;display: inline-block;line-height: 1.2em;}#sk-container-id-2 div.sk-label-container {text-align: center;}#sk-container-id-2 div.sk-container {/* jupyter's `normalize.less` sets `[hidden] { display: none; }` but bootstrap.min.css set `[hidden] { display: none !important; }` so we also need the `!important` here to be able to override the default hidden behavior on the sphinx rendered scikit-learn.org. See: https://github.com/scikit-learn/scikit-learn/issues/21755 */display: inline-block !important;position: relative;}#sk-container-id-2 div.sk-text-repr-fallback {display: none;}</style><div id=\"sk-container-id-2\" class=\"sk-top-container\"><div class=\"sk-text-repr-fallback\"><pre>DecisionTreeRegressor()</pre><b>In a Jupyter environment, please rerun this cell to show the HTML representation or trust the notebook. <br />On GitHub, the HTML representation is unable to render, please try loading this page with nbviewer.org.</b></div><div class=\"sk-container\" hidden><div class=\"sk-item\"><div class=\"sk-estimator sk-toggleable\"><input class=\"sk-toggleable__control sk-hidden--visually\" id=\"sk-estimator-id-2\" type=\"checkbox\" checked><label for=\"sk-estimator-id-2\" class=\"sk-toggleable__label sk-toggleable__label-arrow\">DecisionTreeRegressor</label><div class=\"sk-toggleable__content\"><pre>DecisionTreeRegressor()</pre></div></div></div></div></div>"
      ],
      "text/plain": [
       "DecisionTreeRegressor()"
      ]
     },
     "execution_count": 79,
     "metadata": {},
     "output_type": "execute_result"
    }
   ],
   "source": [
    "%%time\n",
    "\n",
    "model_dt = DecisionTreeRegressor()\n",
    "model_dt.fit(ordinal_features_train, target_train)"
   ]
  },
  {
   "cell_type": "code",
   "execution_count": 80,
   "metadata": {},
   "outputs": [
    {
     "name": "stdout",
     "output_type": "stream",
     "text": [
      "CPU times: total: 78.1 ms\n",
      "Wall time: 80.8 ms\n"
     ]
    }
   ],
   "source": [
    "%%time\n",
    "\n",
    "dt_target_prediction = model_dt.predict(ordinal_features_train)\n",
    "rmse_dt = mean_squared_error(target_train, lr_target_prediction) ** 0.5"
   ]
  },
  {
   "cell_type": "markdown",
   "metadata": {},
   "source": [
    "#### XGBRegressor"
   ]
  },
  {
   "cell_type": "code",
   "execution_count": 81,
   "metadata": {},
   "outputs": [
    {
     "name": "stdout",
     "output_type": "stream",
     "text": [
      "CPU times: total: 23.4 s\n",
      "Wall time: 2.12 s\n"
     ]
    },
    {
     "data": {
      "text/html": [
       "<style>#sk-container-id-3 {color: black;background-color: white;}#sk-container-id-3 pre{padding: 0;}#sk-container-id-3 div.sk-toggleable {background-color: white;}#sk-container-id-3 label.sk-toggleable__label {cursor: pointer;display: block;width: 100%;margin-bottom: 0;padding: 0.3em;box-sizing: border-box;text-align: center;}#sk-container-id-3 label.sk-toggleable__label-arrow:before {content: \"▸\";float: left;margin-right: 0.25em;color: #696969;}#sk-container-id-3 label.sk-toggleable__label-arrow:hover:before {color: black;}#sk-container-id-3 div.sk-estimator:hover label.sk-toggleable__label-arrow:before {color: black;}#sk-container-id-3 div.sk-toggleable__content {max-height: 0;max-width: 0;overflow: hidden;text-align: left;background-color: #f0f8ff;}#sk-container-id-3 div.sk-toggleable__content pre {margin: 0.2em;color: black;border-radius: 0.25em;background-color: #f0f8ff;}#sk-container-id-3 input.sk-toggleable__control:checked~div.sk-toggleable__content {max-height: 200px;max-width: 100%;overflow: auto;}#sk-container-id-3 input.sk-toggleable__control:checked~label.sk-toggleable__label-arrow:before {content: \"▾\";}#sk-container-id-3 div.sk-estimator input.sk-toggleable__control:checked~label.sk-toggleable__label {background-color: #d4ebff;}#sk-container-id-3 div.sk-label input.sk-toggleable__control:checked~label.sk-toggleable__label {background-color: #d4ebff;}#sk-container-id-3 input.sk-hidden--visually {border: 0;clip: rect(1px 1px 1px 1px);clip: rect(1px, 1px, 1px, 1px);height: 1px;margin: -1px;overflow: hidden;padding: 0;position: absolute;width: 1px;}#sk-container-id-3 div.sk-estimator {font-family: monospace;background-color: #f0f8ff;border: 1px dotted black;border-radius: 0.25em;box-sizing: border-box;margin-bottom: 0.5em;}#sk-container-id-3 div.sk-estimator:hover {background-color: #d4ebff;}#sk-container-id-3 div.sk-parallel-item::after {content: \"\";width: 100%;border-bottom: 1px solid gray;flex-grow: 1;}#sk-container-id-3 div.sk-label:hover label.sk-toggleable__label {background-color: #d4ebff;}#sk-container-id-3 div.sk-serial::before {content: \"\";position: absolute;border-left: 1px solid gray;box-sizing: border-box;top: 0;bottom: 0;left: 50%;z-index: 0;}#sk-container-id-3 div.sk-serial {display: flex;flex-direction: column;align-items: center;background-color: white;padding-right: 0.2em;padding-left: 0.2em;position: relative;}#sk-container-id-3 div.sk-item {position: relative;z-index: 1;}#sk-container-id-3 div.sk-parallel {display: flex;align-items: stretch;justify-content: center;background-color: white;position: relative;}#sk-container-id-3 div.sk-item::before, #sk-container-id-3 div.sk-parallel-item::before {content: \"\";position: absolute;border-left: 1px solid gray;box-sizing: border-box;top: 0;bottom: 0;left: 50%;z-index: -1;}#sk-container-id-3 div.sk-parallel-item {display: flex;flex-direction: column;z-index: 1;position: relative;background-color: white;}#sk-container-id-3 div.sk-parallel-item:first-child::after {align-self: flex-end;width: 50%;}#sk-container-id-3 div.sk-parallel-item:last-child::after {align-self: flex-start;width: 50%;}#sk-container-id-3 div.sk-parallel-item:only-child::after {width: 0;}#sk-container-id-3 div.sk-dashed-wrapped {border: 1px dashed gray;margin: 0 0.4em 0.5em 0.4em;box-sizing: border-box;padding-bottom: 0.4em;background-color: white;}#sk-container-id-3 div.sk-label label {font-family: monospace;font-weight: bold;display: inline-block;line-height: 1.2em;}#sk-container-id-3 div.sk-label-container {text-align: center;}#sk-container-id-3 div.sk-container {/* jupyter's `normalize.less` sets `[hidden] { display: none; }` but bootstrap.min.css set `[hidden] { display: none !important; }` so we also need the `!important` here to be able to override the default hidden behavior on the sphinx rendered scikit-learn.org. See: https://github.com/scikit-learn/scikit-learn/issues/21755 */display: inline-block !important;position: relative;}#sk-container-id-3 div.sk-text-repr-fallback {display: none;}</style><div id=\"sk-container-id-3\" class=\"sk-top-container\"><div class=\"sk-text-repr-fallback\"><pre>XGBRegressor(base_score=0.5, booster=&#x27;gbtree&#x27;, callbacks=None,\n",
       "             colsample_bylevel=1, colsample_bynode=1, colsample_bytree=1,\n",
       "             early_stopping_rounds=None, enable_categorical=False,\n",
       "             eval_metric=None, feature_types=None, gamma=0, gpu_id=-1,\n",
       "             grow_policy=&#x27;depthwise&#x27;, importance_type=None,\n",
       "             interaction_constraints=&#x27;&#x27;, learning_rate=0.300000012, max_bin=256,\n",
       "             max_cat_threshold=64, max_cat_to_onehot=4, max_delta_step=0,\n",
       "             max_depth=6, max_leaves=0, min_child_weight=1, missing=nan,\n",
       "             monotone_constraints=&#x27;()&#x27;, n_estimators=100, n_jobs=0,\n",
       "             num_parallel_tree=1, predictor=&#x27;auto&#x27;, random_state=0, ...)</pre><b>In a Jupyter environment, please rerun this cell to show the HTML representation or trust the notebook. <br />On GitHub, the HTML representation is unable to render, please try loading this page with nbviewer.org.</b></div><div class=\"sk-container\" hidden><div class=\"sk-item\"><div class=\"sk-estimator sk-toggleable\"><input class=\"sk-toggleable__control sk-hidden--visually\" id=\"sk-estimator-id-3\" type=\"checkbox\" checked><label for=\"sk-estimator-id-3\" class=\"sk-toggleable__label sk-toggleable__label-arrow\">XGBRegressor</label><div class=\"sk-toggleable__content\"><pre>XGBRegressor(base_score=0.5, booster=&#x27;gbtree&#x27;, callbacks=None,\n",
       "             colsample_bylevel=1, colsample_bynode=1, colsample_bytree=1,\n",
       "             early_stopping_rounds=None, enable_categorical=False,\n",
       "             eval_metric=None, feature_types=None, gamma=0, gpu_id=-1,\n",
       "             grow_policy=&#x27;depthwise&#x27;, importance_type=None,\n",
       "             interaction_constraints=&#x27;&#x27;, learning_rate=0.300000012, max_bin=256,\n",
       "             max_cat_threshold=64, max_cat_to_onehot=4, max_delta_step=0,\n",
       "             max_depth=6, max_leaves=0, min_child_weight=1, missing=nan,\n",
       "             monotone_constraints=&#x27;()&#x27;, n_estimators=100, n_jobs=0,\n",
       "             num_parallel_tree=1, predictor=&#x27;auto&#x27;, random_state=0, ...)</pre></div></div></div></div></div>"
      ],
      "text/plain": [
       "XGBRegressor(base_score=0.5, booster='gbtree', callbacks=None,\n",
       "             colsample_bylevel=1, colsample_bynode=1, colsample_bytree=1,\n",
       "             early_stopping_rounds=None, enable_categorical=False,\n",
       "             eval_metric=None, feature_types=None, gamma=0, gpu_id=-1,\n",
       "             grow_policy='depthwise', importance_type=None,\n",
       "             interaction_constraints='', learning_rate=0.300000012, max_bin=256,\n",
       "             max_cat_threshold=64, max_cat_to_onehot=4, max_delta_step=0,\n",
       "             max_depth=6, max_leaves=0, min_child_weight=1, missing=nan,\n",
       "             monotone_constraints='()', n_estimators=100, n_jobs=0,\n",
       "             num_parallel_tree=1, predictor='auto', random_state=0, ...)"
      ]
     },
     "execution_count": 81,
     "metadata": {},
     "output_type": "execute_result"
    }
   ],
   "source": [
    "%%time\n",
    "\n",
    "model_xgb = xgb.XGBRegressor()\n",
    "model_xgb.fit(ordinal_features_train, target_train)"
   ]
  },
  {
   "cell_type": "code",
   "execution_count": 82,
   "metadata": {},
   "outputs": [
    {
     "name": "stdout",
     "output_type": "stream",
     "text": [
      "CPU times: total: 859 ms\n",
      "Wall time: 77.7 ms\n"
     ]
    }
   ],
   "source": [
    "%%time\n",
    "\n",
    "xgb_target_prediction = model_xgb.predict(ordinal_features_train)\n",
    "rmse_xgb = mean_squared_error(target_train, xgb_target_prediction) ** 0.5"
   ]
  },
  {
   "cell_type": "markdown",
   "metadata": {},
   "source": [
    "#### CatBoost"
   ]
  },
  {
   "cell_type": "code",
   "execution_count": 83,
   "metadata": {
    "collapsed": true
   },
   "outputs": [
    {
     "name": "stdout",
     "output_type": "stream",
     "text": [
      "Learning rate set to 0.095794\n",
      "0:\tlearn: 4282.5017882\ttotal: 80.5ms\tremaining: 1m 20s\n",
      "10:\tlearn: 2766.1361124\ttotal: 794ms\tremaining: 1m 11s\n",
      "20:\tlearn: 2263.5975252\ttotal: 1.51s\tremaining: 1m 10s\n",
      "30:\tlearn: 2089.1143696\ttotal: 2.15s\tremaining: 1m 7s\n",
      "40:\tlearn: 2012.3800732\ttotal: 2.82s\tremaining: 1m 5s\n",
      "50:\tlearn: 1968.2619390\ttotal: 3.46s\tremaining: 1m 4s\n",
      "60:\tlearn: 1938.4265494\ttotal: 4.15s\tremaining: 1m 3s\n",
      "70:\tlearn: 1916.7250269\ttotal: 4.83s\tremaining: 1m 3s\n",
      "80:\tlearn: 1900.0028570\ttotal: 5.49s\tremaining: 1m 2s\n",
      "90:\tlearn: 1885.6686493\ttotal: 6.14s\tremaining: 1m 1s\n",
      "100:\tlearn: 1873.3729938\ttotal: 6.78s\tremaining: 1m\n",
      "110:\tlearn: 1861.5641723\ttotal: 7.42s\tremaining: 59.4s\n",
      "120:\tlearn: 1850.8503483\ttotal: 8.08s\tremaining: 58.7s\n",
      "130:\tlearn: 1841.4463053\ttotal: 8.73s\tremaining: 57.9s\n",
      "140:\tlearn: 1833.1525610\ttotal: 9.46s\tremaining: 57.6s\n",
      "150:\tlearn: 1825.9744059\ttotal: 10.2s\tremaining: 57.2s\n",
      "160:\tlearn: 1819.4798885\ttotal: 10.8s\tremaining: 56.5s\n",
      "170:\tlearn: 1813.5082368\ttotal: 11.5s\tremaining: 55.8s\n",
      "180:\tlearn: 1806.9334059\ttotal: 12.2s\tremaining: 55.3s\n",
      "190:\tlearn: 1801.5260071\ttotal: 12.9s\tremaining: 54.6s\n",
      "200:\tlearn: 1796.8872009\ttotal: 13.5s\tremaining: 53.8s\n",
      "210:\tlearn: 1791.3968482\ttotal: 14.2s\tremaining: 53.1s\n",
      "220:\tlearn: 1787.0874293\ttotal: 14.9s\tremaining: 52.5s\n",
      "230:\tlearn: 1782.6101217\ttotal: 15.6s\tremaining: 51.9s\n",
      "240:\tlearn: 1778.7252643\ttotal: 16.3s\tremaining: 51.2s\n",
      "250:\tlearn: 1775.4455138\ttotal: 17s\tremaining: 50.7s\n",
      "260:\tlearn: 1771.4209021\ttotal: 17.7s\tremaining: 50s\n",
      "270:\tlearn: 1768.0069917\ttotal: 18.3s\tremaining: 49.3s\n",
      "280:\tlearn: 1764.9905202\ttotal: 19s\tremaining: 48.6s\n",
      "290:\tlearn: 1761.6890773\ttotal: 19.7s\tremaining: 47.9s\n",
      "300:\tlearn: 1758.4465160\ttotal: 20.3s\tremaining: 47.2s\n",
      "310:\tlearn: 1756.1892652\ttotal: 21s\tremaining: 46.5s\n",
      "320:\tlearn: 1753.6965752\ttotal: 21.7s\tremaining: 45.9s\n",
      "330:\tlearn: 1751.0852016\ttotal: 22.4s\tremaining: 45.2s\n",
      "340:\tlearn: 1748.4707475\ttotal: 23s\tremaining: 44.5s\n",
      "350:\tlearn: 1746.1891216\ttotal: 23.7s\tremaining: 43.9s\n",
      "360:\tlearn: 1743.8562371\ttotal: 24.4s\tremaining: 43.3s\n",
      "370:\tlearn: 1741.4804370\ttotal: 25.1s\tremaining: 42.6s\n",
      "380:\tlearn: 1739.1669382\ttotal: 25.8s\tremaining: 42s\n",
      "390:\tlearn: 1737.0257712\ttotal: 26.5s\tremaining: 41.3s\n",
      "400:\tlearn: 1734.8497924\ttotal: 27.2s\tremaining: 40.7s\n",
      "410:\tlearn: 1733.0830253\ttotal: 28s\tremaining: 40.1s\n",
      "420:\tlearn: 1730.9083753\ttotal: 28.6s\tremaining: 39.4s\n",
      "430:\tlearn: 1728.8213001\ttotal: 29.3s\tremaining: 38.7s\n",
      "440:\tlearn: 1727.1311615\ttotal: 30s\tremaining: 38s\n",
      "450:\tlearn: 1725.2802030\ttotal: 30.6s\tremaining: 37.3s\n",
      "460:\tlearn: 1723.4111417\ttotal: 31.3s\tremaining: 36.6s\n",
      "470:\tlearn: 1721.4234679\ttotal: 32s\tremaining: 36s\n",
      "480:\tlearn: 1720.5357995\ttotal: 32.7s\tremaining: 35.3s\n",
      "490:\tlearn: 1718.5277241\ttotal: 33.4s\tremaining: 34.6s\n",
      "500:\tlearn: 1716.9588557\ttotal: 34.1s\tremaining: 33.9s\n",
      "510:\tlearn: 1715.3517198\ttotal: 34.7s\tremaining: 33.2s\n",
      "520:\tlearn: 1714.3491307\ttotal: 35.3s\tremaining: 32.5s\n",
      "530:\tlearn: 1712.9066054\ttotal: 36s\tremaining: 31.8s\n",
      "540:\tlearn: 1711.1562128\ttotal: 36.7s\tremaining: 31.1s\n",
      "550:\tlearn: 1709.8495378\ttotal: 37.4s\tremaining: 30.5s\n",
      "560:\tlearn: 1708.6179690\ttotal: 38.1s\tremaining: 29.8s\n",
      "570:\tlearn: 1707.1981377\ttotal: 38.8s\tremaining: 29.1s\n",
      "580:\tlearn: 1705.9983158\ttotal: 39.5s\tremaining: 28.5s\n",
      "590:\tlearn: 1704.7065882\ttotal: 40.1s\tremaining: 27.7s\n",
      "600:\tlearn: 1703.3619942\ttotal: 40.7s\tremaining: 27s\n",
      "610:\tlearn: 1702.1052902\ttotal: 41.4s\tremaining: 26.4s\n",
      "620:\tlearn: 1700.7151925\ttotal: 42.1s\tremaining: 25.7s\n",
      "630:\tlearn: 1699.1255463\ttotal: 42.9s\tremaining: 25.1s\n",
      "640:\tlearn: 1697.9694612\ttotal: 43.6s\tremaining: 24.4s\n",
      "650:\tlearn: 1696.8507144\ttotal: 44.3s\tremaining: 23.7s\n",
      "660:\tlearn: 1695.4758182\ttotal: 45s\tremaining: 23.1s\n",
      "670:\tlearn: 1694.3775308\ttotal: 45.7s\tremaining: 22.4s\n",
      "680:\tlearn: 1693.5822258\ttotal: 46.3s\tremaining: 21.7s\n",
      "690:\tlearn: 1692.2791041\ttotal: 47s\tremaining: 21s\n",
      "700:\tlearn: 1691.1316356\ttotal: 47.8s\tremaining: 20.4s\n",
      "710:\tlearn: 1689.8009925\ttotal: 48.5s\tremaining: 19.7s\n",
      "720:\tlearn: 1688.6557436\ttotal: 49.2s\tremaining: 19s\n",
      "730:\tlearn: 1687.7758710\ttotal: 49.9s\tremaining: 18.4s\n",
      "740:\tlearn: 1686.6680728\ttotal: 50.6s\tremaining: 17.7s\n",
      "750:\tlearn: 1685.5996020\ttotal: 51.3s\tremaining: 17s\n",
      "760:\tlearn: 1684.7897725\ttotal: 52s\tremaining: 16.3s\n",
      "770:\tlearn: 1683.9106517\ttotal: 52.7s\tremaining: 15.6s\n",
      "780:\tlearn: 1683.0645419\ttotal: 53.4s\tremaining: 15s\n",
      "790:\tlearn: 1681.9200319\ttotal: 54.1s\tremaining: 14.3s\n",
      "800:\tlearn: 1680.8743685\ttotal: 54.7s\tremaining: 13.6s\n",
      "810:\tlearn: 1679.7548832\ttotal: 55.4s\tremaining: 12.9s\n",
      "820:\tlearn: 1678.4795163\ttotal: 56.2s\tremaining: 12.2s\n",
      "830:\tlearn: 1677.1155595\ttotal: 56.9s\tremaining: 11.6s\n",
      "840:\tlearn: 1676.3888215\ttotal: 57.6s\tremaining: 10.9s\n",
      "850:\tlearn: 1675.2334870\ttotal: 58.3s\tremaining: 10.2s\n",
      "860:\tlearn: 1674.6833164\ttotal: 58.9s\tremaining: 9.52s\n",
      "870:\tlearn: 1673.7861921\ttotal: 59.6s\tremaining: 8.82s\n",
      "880:\tlearn: 1672.8657571\ttotal: 1m\tremaining: 8.14s\n",
      "890:\tlearn: 1672.0856035\ttotal: 1m 1s\tremaining: 7.46s\n",
      "900:\tlearn: 1671.3172875\ttotal: 1m 1s\tremaining: 6.78s\n",
      "910:\tlearn: 1670.4438867\ttotal: 1m 2s\tremaining: 6.1s\n",
      "920:\tlearn: 1669.6028497\ttotal: 1m 3s\tremaining: 5.42s\n",
      "930:\tlearn: 1668.6182906\ttotal: 1m 3s\tremaining: 4.73s\n",
      "940:\tlearn: 1667.9890795\ttotal: 1m 4s\tremaining: 4.04s\n",
      "950:\tlearn: 1667.0959053\ttotal: 1m 5s\tremaining: 3.36s\n",
      "960:\tlearn: 1666.1331146\ttotal: 1m 5s\tremaining: 2.67s\n",
      "970:\tlearn: 1665.1225154\ttotal: 1m 6s\tremaining: 1.99s\n",
      "980:\tlearn: 1664.2488179\ttotal: 1m 7s\tremaining: 1.3s\n",
      "990:\tlearn: 1663.4712566\ttotal: 1m 7s\tremaining: 617ms\n",
      "999:\tlearn: 1662.7092264\ttotal: 1m 8s\tremaining: 0us\n",
      "CPU times: total: 7min 36s\n",
      "Wall time: 1min 9s\n"
     ]
    },
    {
     "data": {
      "text/plain": [
       "<catboost.core.CatBoostRegressor at 0x1ccaae25e10>"
      ]
     },
     "execution_count": 83,
     "metadata": {},
     "output_type": "execute_result"
    }
   ],
   "source": [
    "%%time\n",
    "\n",
    "cat_features = ['VehicleType', 'Gearbox', 'Model', 'FuelType', 'Brand', 'Repaired']\n",
    "\n",
    "model_cbr = CatBoostRegressor()\n",
    "model_cbr.fit(features_train, target_train, cat_features=cat_features, verbose=10)\n"
   ]
  },
  {
   "cell_type": "code",
   "execution_count": 84,
   "metadata": {},
   "outputs": [
    {
     "name": "stdout",
     "output_type": "stream",
     "text": [
      "CPU times: total: 2.23 s\n",
      "Wall time: 277 ms\n"
     ]
    }
   ],
   "source": [
    "%%time\n",
    "\n",
    "cbr_target_prediction = model_cbr.predict(features_train)\n",
    "rmse_xgb = mean_squared_error(target_train, cbr_target_prediction) ** 0.5"
   ]
  },
  {
   "cell_type": "markdown",
   "metadata": {},
   "source": [
    "#### LightGBM"
   ]
  },
  {
   "cell_type": "code",
   "execution_count": 85,
   "metadata": {},
   "outputs": [
    {
     "name": "stdout",
     "output_type": "stream",
     "text": [
      "CPU times: total: 3.34 s\n",
      "Wall time: 353 ms\n"
     ]
    },
    {
     "data": {
      "text/html": [
       "<style>#sk-container-id-4 {color: black;background-color: white;}#sk-container-id-4 pre{padding: 0;}#sk-container-id-4 div.sk-toggleable {background-color: white;}#sk-container-id-4 label.sk-toggleable__label {cursor: pointer;display: block;width: 100%;margin-bottom: 0;padding: 0.3em;box-sizing: border-box;text-align: center;}#sk-container-id-4 label.sk-toggleable__label-arrow:before {content: \"▸\";float: left;margin-right: 0.25em;color: #696969;}#sk-container-id-4 label.sk-toggleable__label-arrow:hover:before {color: black;}#sk-container-id-4 div.sk-estimator:hover label.sk-toggleable__label-arrow:before {color: black;}#sk-container-id-4 div.sk-toggleable__content {max-height: 0;max-width: 0;overflow: hidden;text-align: left;background-color: #f0f8ff;}#sk-container-id-4 div.sk-toggleable__content pre {margin: 0.2em;color: black;border-radius: 0.25em;background-color: #f0f8ff;}#sk-container-id-4 input.sk-toggleable__control:checked~div.sk-toggleable__content {max-height: 200px;max-width: 100%;overflow: auto;}#sk-container-id-4 input.sk-toggleable__control:checked~label.sk-toggleable__label-arrow:before {content: \"▾\";}#sk-container-id-4 div.sk-estimator input.sk-toggleable__control:checked~label.sk-toggleable__label {background-color: #d4ebff;}#sk-container-id-4 div.sk-label input.sk-toggleable__control:checked~label.sk-toggleable__label {background-color: #d4ebff;}#sk-container-id-4 input.sk-hidden--visually {border: 0;clip: rect(1px 1px 1px 1px);clip: rect(1px, 1px, 1px, 1px);height: 1px;margin: -1px;overflow: hidden;padding: 0;position: absolute;width: 1px;}#sk-container-id-4 div.sk-estimator {font-family: monospace;background-color: #f0f8ff;border: 1px dotted black;border-radius: 0.25em;box-sizing: border-box;margin-bottom: 0.5em;}#sk-container-id-4 div.sk-estimator:hover {background-color: #d4ebff;}#sk-container-id-4 div.sk-parallel-item::after {content: \"\";width: 100%;border-bottom: 1px solid gray;flex-grow: 1;}#sk-container-id-4 div.sk-label:hover label.sk-toggleable__label {background-color: #d4ebff;}#sk-container-id-4 div.sk-serial::before {content: \"\";position: absolute;border-left: 1px solid gray;box-sizing: border-box;top: 0;bottom: 0;left: 50%;z-index: 0;}#sk-container-id-4 div.sk-serial {display: flex;flex-direction: column;align-items: center;background-color: white;padding-right: 0.2em;padding-left: 0.2em;position: relative;}#sk-container-id-4 div.sk-item {position: relative;z-index: 1;}#sk-container-id-4 div.sk-parallel {display: flex;align-items: stretch;justify-content: center;background-color: white;position: relative;}#sk-container-id-4 div.sk-item::before, #sk-container-id-4 div.sk-parallel-item::before {content: \"\";position: absolute;border-left: 1px solid gray;box-sizing: border-box;top: 0;bottom: 0;left: 50%;z-index: -1;}#sk-container-id-4 div.sk-parallel-item {display: flex;flex-direction: column;z-index: 1;position: relative;background-color: white;}#sk-container-id-4 div.sk-parallel-item:first-child::after {align-self: flex-end;width: 50%;}#sk-container-id-4 div.sk-parallel-item:last-child::after {align-self: flex-start;width: 50%;}#sk-container-id-4 div.sk-parallel-item:only-child::after {width: 0;}#sk-container-id-4 div.sk-dashed-wrapped {border: 1px dashed gray;margin: 0 0.4em 0.5em 0.4em;box-sizing: border-box;padding-bottom: 0.4em;background-color: white;}#sk-container-id-4 div.sk-label label {font-family: monospace;font-weight: bold;display: inline-block;line-height: 1.2em;}#sk-container-id-4 div.sk-label-container {text-align: center;}#sk-container-id-4 div.sk-container {/* jupyter's `normalize.less` sets `[hidden] { display: none; }` but bootstrap.min.css set `[hidden] { display: none !important; }` so we also need the `!important` here to be able to override the default hidden behavior on the sphinx rendered scikit-learn.org. See: https://github.com/scikit-learn/scikit-learn/issues/21755 */display: inline-block !important;position: relative;}#sk-container-id-4 div.sk-text-repr-fallback {display: none;}</style><div id=\"sk-container-id-4\" class=\"sk-top-container\"><div class=\"sk-text-repr-fallback\"><pre>LGBMRegressor()</pre><b>In a Jupyter environment, please rerun this cell to show the HTML representation or trust the notebook. <br />On GitHub, the HTML representation is unable to render, please try loading this page with nbviewer.org.</b></div><div class=\"sk-container\" hidden><div class=\"sk-item\"><div class=\"sk-estimator sk-toggleable\"><input class=\"sk-toggleable__control sk-hidden--visually\" id=\"sk-estimator-id-4\" type=\"checkbox\" checked><label for=\"sk-estimator-id-4\" class=\"sk-toggleable__label sk-toggleable__label-arrow\">LGBMRegressor</label><div class=\"sk-toggleable__content\"><pre>LGBMRegressor()</pre></div></div></div></div></div>"
      ],
      "text/plain": [
       "LGBMRegressor()"
      ]
     },
     "execution_count": 85,
     "metadata": {},
     "output_type": "execute_result"
    }
   ],
   "source": [
    "%%time\n",
    "\n",
    "features_train['VehicleType'] = features_train['VehicleType'].astype('category')\n",
    "features_train['Gearbox'] = features_train['Gearbox'].astype('category')\n",
    "features_train['Model'] = features_train['Model'].astype('category')\n",
    "features_train['FuelType'] = features_train['FuelType'].astype('category')\n",
    "features_train['Brand'] = features_train['Brand'].astype('category')\n",
    "features_train['Repaired'] = features_train['Repaired'].astype('category')\n",
    "\n",
    "model_lgbm = LGBMRegressor()\n",
    "model_lgbm.fit(features_train, target_train)"
   ]
  },
  {
   "cell_type": "code",
   "execution_count": 86,
   "metadata": {},
   "outputs": [
    {
     "name": "stdout",
     "output_type": "stream",
     "text": [
      "CPU times: total: 2 s\n",
      "Wall time: 179 ms\n"
     ]
    }
   ],
   "source": [
    "%%time\n",
    "\n",
    "lgbm_target_prediction = model_lgbm.predict(features_train)\n",
    "rmse_lgbm = mean_squared_error(target_train, lgbm_target_prediction) ** 0.5"
   ]
  },
  {
   "cell_type": "markdown",
   "metadata": {},
   "source": [
    "### LGBM для тестовой модели"
   ]
  },
  {
   "cell_type": "code",
   "execution_count": 87,
   "metadata": {},
   "outputs": [
    {
     "name": "stdout",
     "output_type": "stream",
     "text": [
      "[LightGBM] [Warning] min_data_in_leaf is set=50, min_child_samples=20 will be ignored. Current value: min_data_in_leaf=50\n",
      "[LightGBM] [Warning] lambda_l1 is set=1, reg_alpha=0.1 will be ignored. Current value: lambda_l1=1\n",
      "[LightGBM] [Warning] lambda_l2 is set=0, reg_lambda=0.0 will be ignored. Current value: lambda_l2=0\n",
      "RMSE для LGBM: 1691.2117488396273\n",
      "CPU times: total: 8 s\n",
      "Wall time: 767 ms\n"
     ]
    }
   ],
   "source": [
    "%%time\n",
    "#Инициализация LGBM регрессора для тестовой выборки\n",
    "\n",
    "features_test['VehicleType'] = features_test['VehicleType'].astype('category')\n",
    "features_test['Gearbox'] = features_test['Gearbox'].astype('category')\n",
    "features_test['Model'] = features_test['Model'].astype('category')\n",
    "features_test['FuelType'] = features_test['FuelType'].astype('category')\n",
    "features_test['Brand'] = features_test['Brand'].astype('category')\n",
    "features_test['Repaired'] = features_test['Repaired'].astype('category')\n",
    "\n",
    "lgbm_test_model = LGBMRegressor(lambda_l1=1, lambda_l2 = 0, min_data_in_leaf = 50, num_leaves = 127, reg_alpha = 0.1, random_state=RANDOM_STATE)\n",
    "lgbm_test_model.fit(features_train, target_train)\n",
    "lgbm_test_predictions = lgbm_test_model.predict(features_test)\n",
    "\n",
    "final_lgbm_test_RMSE = mean_squared_error(target_test, lgbm_test_predictions) ** 0.5\n",
    "print('RMSE для LGBM:', final_lgbm_test_RMSE)"
   ]
  },
  {
   "cell_type": "markdown",
   "metadata": {},
   "source": [
    "Требуемое значение RMSE достигнуто на модели LGBM регрессии"
   ]
  },
  {
   "cell_type": "markdown",
   "metadata": {},
   "source": [
    "### CatBoost для тестовой модели"
   ]
  },
  {
   "cell_type": "code",
   "execution_count": 88,
   "metadata": {},
   "outputs": [
    {
     "name": "stdout",
     "output_type": "stream",
     "text": [
      "0:\tlearn: 4245.0075256\ttotal: 67.8ms\tremaining: 6.71s\n",
      "10:\tlearn: 2586.9887600\ttotal: 724ms\tremaining: 5.86s\n",
      "20:\tlearn: 2098.7304673\ttotal: 1.38s\tremaining: 5.18s\n",
      "30:\tlearn: 1945.6324472\ttotal: 2.03s\tremaining: 4.53s\n",
      "40:\tlearn: 1886.5775529\ttotal: 2.68s\tremaining: 3.86s\n",
      "50:\tlearn: 1853.4239907\ttotal: 3.33s\tremaining: 3.2s\n",
      "60:\tlearn: 1827.5845302\ttotal: 3.97s\tremaining: 2.54s\n",
      "70:\tlearn: 1804.3168631\ttotal: 4.62s\tremaining: 1.89s\n",
      "80:\tlearn: 1784.9496248\ttotal: 5.26s\tremaining: 1.23s\n",
      "90:\tlearn: 1768.4302187\ttotal: 5.91s\tremaining: 584ms\n",
      "99:\tlearn: 1757.5284902\ttotal: 6.5s\tremaining: 0us\n",
      "RMSE для CatBoost: 1801.2645254399515\n",
      "CPU times: total: 34.3 s\n",
      "Wall time: 7.19 s\n"
     ]
    }
   ],
   "source": [
    "%%time\n",
    "#Инициализация категориального бустинга для тестовой выборки\n",
    "\n",
    "# Для работы с категориальным бустингом придется вернуть формат object для категориальных признаков\n",
    "\n",
    "features_train['VehicleType'] = features_train['VehicleType'].astype('object')\n",
    "features_train['Gearbox'] = features_train['Gearbox'].astype('object')\n",
    "features_train['Model'] = features_train['Model'].astype('object')\n",
    "features_train['FuelType'] = features_train['FuelType'].astype('object')\n",
    "features_train['Brand'] = features_train['Brand'].astype('object')\n",
    "features_train['Repaired'] = features_train['Repaired'].astype('object')\n",
    "\n",
    "features_test['VehicleType'] = features_test['VehicleType'].astype('object')\n",
    "features_test['Gearbox'] = features_test['Gearbox'].astype('object')\n",
    "features_test['Model'] = features_test['Model'].astype('object')\n",
    "features_test['FuelType'] = features_test['FuelType'].astype('object')\n",
    "features_test['Brand'] = features_test['Brand'].astype('object')\n",
    "features_test['Repaired'] = features_test['Repaired'].astype('object')\n",
    "\n",
    "cat_features = ['VehicleType', 'Gearbox', 'Model', 'FuelType', 'Brand', 'Repaired']\n",
    "\n",
    "cbr_test_model = CatBoostRegressor(max_depth=10, iterations = 100, learning_rate = 0.1, random_state=RANDOM_STATE)\n",
    "cbr_test_model.fit(features_train, target_train, cat_features=cat_features, verbose=10)\n",
    "cbr_test_predictions = cbr_test_model.predict(features_test)\n",
    "\n",
    "final_cbr_test_RMSE = mean_squared_error(target_test, cbr_test_predictions) ** 0.5\n",
    "print('RMSE для CatBoost:', final_cbr_test_RMSE)"
   ]
  },
  {
   "cell_type": "markdown",
   "metadata": {},
   "source": [
    "Требуемое значение RMSE было также достигнуто на модели Категориального бустинга."
   ]
  },
  {
   "cell_type": "markdown",
   "metadata": {},
   "source": [
    "### Общий вывод\n",
    "\n",
    "1) Данные были загружены и обработаны:\n",
    "    - обработка пропусков,\n",
    "    - удаление дубликатов,\n",
    "    - слияние неявных дубликатов\n",
    "2) Для работы с определенными моделями были созданы выборки с OHE обработкой.\n",
    "3) Все модели были запущены и получены результаты RMSE.\n",
    "4) Лучшие показатели по времени исполнения и по показателю RMSE были получены для модели LGBM. Но модель имеет чувствительность к формату данных, она может работать с категориальными признаками, но их необходимо переводить в формат \"catagory\", что может вызывать определенные неудобства.\n",
    "5) Модель категориального бустинга CatBoost также показала хороший результат для RMSE, но он немного выше чем у LGBM, и при этом время исполнения гораздо выше. "
   ]
  },
  {
   "cell_type": "markdown",
   "metadata": {},
   "source": [
    "## Чек-лист проверки"
   ]
  },
  {
   "cell_type": "markdown",
   "metadata": {},
   "source": [
    "Поставьте 'x' в выполненных пунктах. Далее нажмите Shift+Enter."
   ]
  },
  {
   "cell_type": "markdown",
   "metadata": {},
   "source": [
    "- [x]  Jupyter Notebook открыт\n",
    "- [x]  Весь код выполняется без ошибок\n",
    "- [x]  Ячейки с кодом расположены в порядке исполнения\n",
    "- [x]  Выполнена загрузка и подготовка данных\n",
    "- [x]  Выполнено обучение моделей\n",
    "- [x]  Есть анализ скорости работы и качества моделей"
   ]
  }
 ],
 "metadata": {
  "ExecuteTimeLog": [
   {
    "duration": 3779,
    "start_time": "2022-12-14T17:36:36.574Z"
   },
   {
    "duration": 3,
    "start_time": "2022-12-14T17:36:40.355Z"
   },
   {
    "duration": 192,
    "start_time": "2022-12-14T17:36:40.360Z"
   },
   {
    "duration": 0,
    "start_time": "2022-12-14T17:36:40.555Z"
   },
   {
    "duration": 0,
    "start_time": "2022-12-14T17:36:40.556Z"
   },
   {
    "duration": 0,
    "start_time": "2022-12-14T17:36:40.557Z"
   },
   {
    "duration": 0,
    "start_time": "2022-12-14T17:36:40.558Z"
   },
   {
    "duration": 0,
    "start_time": "2022-12-14T17:36:40.559Z"
   },
   {
    "duration": 0,
    "start_time": "2022-12-14T17:36:40.560Z"
   },
   {
    "duration": 0,
    "start_time": "2022-12-14T17:36:40.561Z"
   },
   {
    "duration": 0,
    "start_time": "2022-12-14T17:36:40.563Z"
   },
   {
    "duration": 0,
    "start_time": "2022-12-14T17:36:40.564Z"
   },
   {
    "duration": 0,
    "start_time": "2022-12-14T17:36:40.565Z"
   },
   {
    "duration": 0,
    "start_time": "2022-12-14T17:36:40.566Z"
   },
   {
    "duration": 0,
    "start_time": "2022-12-14T17:36:40.567Z"
   },
   {
    "duration": 0,
    "start_time": "2022-12-14T17:36:40.568Z"
   },
   {
    "duration": 0,
    "start_time": "2022-12-14T17:36:40.569Z"
   },
   {
    "duration": 0,
    "start_time": "2022-12-14T17:36:40.570Z"
   },
   {
    "duration": 0,
    "start_time": "2022-12-14T17:36:40.571Z"
   },
   {
    "duration": 0,
    "start_time": "2022-12-14T17:36:40.572Z"
   },
   {
    "duration": 0,
    "start_time": "2022-12-14T17:36:40.573Z"
   },
   {
    "duration": 0,
    "start_time": "2022-12-14T17:36:40.573Z"
   },
   {
    "duration": 0,
    "start_time": "2022-12-14T17:36:40.574Z"
   },
   {
    "duration": 0,
    "start_time": "2022-12-14T17:36:40.574Z"
   },
   {
    "duration": 0,
    "start_time": "2022-12-14T17:36:40.575Z"
   },
   {
    "duration": 0,
    "start_time": "2022-12-14T17:36:40.575Z"
   },
   {
    "duration": 0,
    "start_time": "2022-12-14T17:36:40.604Z"
   },
   {
    "duration": 0,
    "start_time": "2022-12-14T17:36:40.606Z"
   },
   {
    "duration": 0,
    "start_time": "2022-12-14T17:36:40.607Z"
   },
   {
    "duration": 0,
    "start_time": "2022-12-14T17:36:40.609Z"
   },
   {
    "duration": 0,
    "start_time": "2022-12-14T17:36:40.609Z"
   },
   {
    "duration": 0,
    "start_time": "2022-12-14T17:36:40.611Z"
   },
   {
    "duration": 0,
    "start_time": "2022-12-14T17:36:40.612Z"
   },
   {
    "duration": 0,
    "start_time": "2022-12-14T17:36:40.613Z"
   },
   {
    "duration": 0,
    "start_time": "2022-12-14T17:36:40.614Z"
   },
   {
    "duration": 0,
    "start_time": "2022-12-14T17:36:40.615Z"
   },
   {
    "duration": 0,
    "start_time": "2022-12-14T17:36:40.616Z"
   },
   {
    "duration": 0,
    "start_time": "2022-12-14T17:36:40.617Z"
   },
   {
    "duration": 0,
    "start_time": "2022-12-14T17:36:40.618Z"
   },
   {
    "duration": 0,
    "start_time": "2022-12-14T17:36:40.619Z"
   },
   {
    "duration": 0,
    "start_time": "2022-12-14T17:36:40.620Z"
   },
   {
    "duration": 0,
    "start_time": "2022-12-14T17:36:40.621Z"
   },
   {
    "duration": 0,
    "start_time": "2022-12-14T17:36:40.622Z"
   },
   {
    "duration": 0,
    "start_time": "2022-12-14T17:36:40.624Z"
   },
   {
    "duration": 0,
    "start_time": "2022-12-14T17:36:40.625Z"
   },
   {
    "duration": 0,
    "start_time": "2022-12-14T17:36:40.626Z"
   },
   {
    "duration": 0,
    "start_time": "2022-12-14T17:36:40.627Z"
   },
   {
    "duration": 0,
    "start_time": "2022-12-14T17:36:40.628Z"
   },
   {
    "duration": 0,
    "start_time": "2022-12-14T17:36:40.629Z"
   },
   {
    "duration": 0,
    "start_time": "2022-12-14T17:36:40.630Z"
   },
   {
    "duration": 0,
    "start_time": "2022-12-14T17:36:40.631Z"
   },
   {
    "duration": 0,
    "start_time": "2022-12-14T17:36:40.632Z"
   },
   {
    "duration": 0,
    "start_time": "2022-12-14T17:36:40.633Z"
   },
   {
    "duration": 0,
    "start_time": "2022-12-14T17:36:40.635Z"
   },
   {
    "duration": 0,
    "start_time": "2022-12-14T17:36:40.636Z"
   },
   {
    "duration": 0,
    "start_time": "2022-12-14T17:36:40.637Z"
   },
   {
    "duration": 0,
    "start_time": "2022-12-14T17:36:40.637Z"
   },
   {
    "duration": 0,
    "start_time": "2022-12-14T17:36:40.638Z"
   },
   {
    "duration": 0,
    "start_time": "2022-12-14T17:36:40.639Z"
   },
   {
    "duration": 0,
    "start_time": "2022-12-14T17:36:40.705Z"
   },
   {
    "duration": 0,
    "start_time": "2022-12-14T17:36:40.705Z"
   },
   {
    "duration": 0,
    "start_time": "2022-12-14T17:36:40.706Z"
   },
   {
    "duration": 0,
    "start_time": "2022-12-14T17:36:40.707Z"
   },
   {
    "duration": 0,
    "start_time": "2022-12-14T17:36:40.708Z"
   },
   {
    "duration": 0,
    "start_time": "2022-12-14T17:36:40.709Z"
   },
   {
    "duration": 0,
    "start_time": "2022-12-14T17:36:40.710Z"
   },
   {
    "duration": 0,
    "start_time": "2022-12-14T17:36:40.711Z"
   },
   {
    "duration": 945,
    "start_time": "2022-12-14T17:37:56.910Z"
   },
   {
    "duration": 2226,
    "start_time": "2022-12-14T17:38:22.362Z"
   },
   {
    "duration": 3,
    "start_time": "2022-12-14T17:38:24.590Z"
   },
   {
    "duration": 839,
    "start_time": "2022-12-14T17:38:24.594Z"
   },
   {
    "duration": 2197,
    "start_time": "2022-12-14T17:38:25.436Z"
   },
   {
    "duration": 310,
    "start_time": "2022-12-14T17:38:27.635Z"
   },
   {
    "duration": 80,
    "start_time": "2022-12-14T17:38:27.947Z"
   },
   {
    "duration": 438,
    "start_time": "2022-12-14T17:38:28.029Z"
   },
   {
    "duration": 113,
    "start_time": "2022-12-14T17:38:28.468Z"
   },
   {
    "duration": 9,
    "start_time": "2022-12-14T17:38:28.584Z"
   },
   {
    "duration": 128,
    "start_time": "2022-12-14T17:38:28.604Z"
   },
   {
    "duration": 218,
    "start_time": "2022-12-14T17:38:28.734Z"
   },
   {
    "duration": 33,
    "start_time": "2022-12-14T17:38:28.953Z"
   },
   {
    "duration": 58,
    "start_time": "2022-12-14T17:38:28.988Z"
   },
   {
    "duration": 81,
    "start_time": "2022-12-14T17:38:29.047Z"
   },
   {
    "duration": 8,
    "start_time": "2022-12-14T17:38:29.129Z"
   },
   {
    "duration": 15,
    "start_time": "2022-12-14T17:38:29.139Z"
   },
   {
    "duration": 388,
    "start_time": "2022-12-14T17:38:29.155Z"
   },
   {
    "duration": 283,
    "start_time": "2022-12-14T17:38:29.545Z"
   },
   {
    "duration": 45,
    "start_time": "2022-12-14T17:38:29.829Z"
   },
   {
    "duration": 324,
    "start_time": "2022-12-14T17:38:29.875Z"
   },
   {
    "duration": 35,
    "start_time": "2022-12-14T17:38:30.205Z"
   },
   {
    "duration": 129,
    "start_time": "2022-12-14T17:38:30.242Z"
   },
   {
    "duration": 51,
    "start_time": "2022-12-14T17:38:30.372Z"
   },
   {
    "duration": 11,
    "start_time": "2022-12-14T17:38:30.424Z"
   },
   {
    "duration": 27,
    "start_time": "2022-12-14T17:38:30.436Z"
   },
   {
    "duration": 425,
    "start_time": "2022-12-14T17:38:30.464Z"
   },
   {
    "duration": 33,
    "start_time": "2022-12-14T17:38:30.891Z"
   },
   {
    "duration": 117,
    "start_time": "2022-12-14T17:38:30.928Z"
   },
   {
    "duration": 214,
    "start_time": "2022-12-14T17:38:31.047Z"
   },
   {
    "duration": 399,
    "start_time": "2022-12-14T17:38:31.263Z"
   },
   {
    "duration": 46,
    "start_time": "2022-12-14T17:38:31.664Z"
   },
   {
    "duration": 37,
    "start_time": "2022-12-14T17:38:31.712Z"
   },
   {
    "duration": 210,
    "start_time": "2022-12-14T17:38:31.751Z"
   },
   {
    "duration": 20,
    "start_time": "2022-12-14T17:38:31.962Z"
   },
   {
    "duration": 42,
    "start_time": "2022-12-14T17:38:31.983Z"
   },
   {
    "duration": 229,
    "start_time": "2022-12-14T17:38:32.027Z"
   },
   {
    "duration": 35,
    "start_time": "2022-12-14T17:38:32.257Z"
   },
   {
    "duration": 27,
    "start_time": "2022-12-14T17:38:32.293Z"
   },
   {
    "duration": 85,
    "start_time": "2022-12-14T17:38:32.321Z"
   },
   {
    "duration": 8,
    "start_time": "2022-12-14T17:38:32.407Z"
   },
   {
    "duration": 16,
    "start_time": "2022-12-14T17:38:32.417Z"
   },
   {
    "duration": 5,
    "start_time": "2022-12-14T17:38:32.436Z"
   },
   {
    "duration": 73,
    "start_time": "2022-12-14T17:38:32.443Z"
   },
   {
    "duration": 19,
    "start_time": "2022-12-14T17:38:32.518Z"
   },
   {
    "duration": 119,
    "start_time": "2022-12-14T17:38:32.540Z"
   },
   {
    "duration": 46,
    "start_time": "2022-12-14T17:38:32.661Z"
   },
   {
    "duration": 34,
    "start_time": "2022-12-14T17:38:32.709Z"
   },
   {
    "duration": 23,
    "start_time": "2022-12-14T17:38:32.747Z"
   },
   {
    "duration": 74,
    "start_time": "2022-12-14T17:38:32.772Z"
   },
   {
    "duration": 27,
    "start_time": "2022-12-14T17:38:32.848Z"
   },
   {
    "duration": 57,
    "start_time": "2022-12-14T17:38:32.877Z"
   },
   {
    "duration": 202,
    "start_time": "2022-12-14T17:38:32.935Z"
   },
   {
    "duration": 83,
    "start_time": "2022-12-14T17:38:33.139Z"
   },
   {
    "duration": 82,
    "start_time": "2022-12-14T17:38:33.224Z"
   },
   {
    "duration": 120282,
    "start_time": "2022-12-14T17:38:33.307Z"
   },
   {
    "duration": 13,
    "start_time": "2022-12-14T17:40:33.591Z"
   },
   {
    "duration": 57,
    "start_time": "2022-12-14T17:40:33.605Z"
   },
   {
    "duration": 12,
    "start_time": "2022-12-14T17:40:33.664Z"
   },
   {
    "duration": 122,
    "start_time": "2022-12-14T17:40:33.677Z"
   },
   {
    "duration": 7,
    "start_time": "2022-12-14T17:40:33.800Z"
   },
   {
    "duration": 289,
    "start_time": "2022-12-14T17:40:33.809Z"
   },
   {
    "duration": 4,
    "start_time": "2022-12-14T17:40:34.104Z"
   },
   {
    "duration": 90197,
    "start_time": "2022-12-14T17:40:34.110Z"
   },
   {
    "duration": 94,
    "start_time": "2022-12-14T17:42:04.312Z"
   },
   {
    "duration": 23097,
    "start_time": "2022-12-14T17:42:04.408Z"
   },
   {
    "duration": 617,
    "start_time": "2022-12-14T17:42:27.510Z"
   },
   {
    "duration": 16,
    "start_time": "2022-12-14T17:42:28.130Z"
   }
  ],
  "kernelspec": {
   "display_name": "Python 3 (ipykernel)",
   "language": "python",
   "name": "python3"
  },
  "language_info": {
   "codemirror_mode": {
    "name": "ipython",
    "version": 3
   },
   "file_extension": ".py",
   "mimetype": "text/x-python",
   "name": "python",
   "nbconvert_exporter": "python",
   "pygments_lexer": "ipython3",
   "version": "3.10.5"
  },
  "toc": {
   "base_numbering": 1,
   "nav_menu": {},
   "number_sections": true,
   "sideBar": true,
   "skip_h1_title": true,
   "title_cell": "Table of Contents",
   "title_sidebar": "Contents",
   "toc_cell": false,
   "toc_position": {},
   "toc_section_display": true,
   "toc_window_display": true
  },
  "vscode": {
   "interpreter": {
    "hash": "26de051ba29f2982a8de78e945f0abaf191376122a1563185a90213a26c5da77"
   }
  }
 },
 "nbformat": 4,
 "nbformat_minor": 2
}
